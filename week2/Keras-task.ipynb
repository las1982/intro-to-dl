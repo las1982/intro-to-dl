{
 "cells": [
  {
   "cell_type": "markdown",
   "metadata": {},
   "source": [
    "# Getting deeper with Keras\n",
    "* Tensorflow is a powerful and flexible tool, but coding large neural architectures with it is tedious.\n",
    "* There are plenty of deep learning toolkits that work on top of it like Slim, TFLearn, Sonnet, Keras.\n",
    "* Choice is matter of taste and particular task\n",
    "* We'll be using Keras"
   ]
  },
  {
   "cell_type": "code",
   "execution_count": 1,
   "metadata": {},
   "outputs": [],
   "source": [
    "import sys\n",
    "sys.path.append(\"..\")\n",
    "import grading"
   ]
  },
  {
   "cell_type": "code",
   "execution_count": 2,
   "metadata": {},
   "outputs": [
    {
     "name": "stdout",
     "output_type": "stream",
     "text": [
      "realpath: '../readonly/keras/datasets/*': No such file or directory\n",
      "ln: failed to create symbolic link './datasets': File exists\n",
      "realpath: '../readonly/keras/models/*': No such file or directory\n",
      "ln: failed to create symbolic link './models': File exists\n"
     ]
    }
   ],
   "source": [
    "# use preloaded keras datasets and models\n",
    "! mkdir -p ~/.keras/datasets\n",
    "! mkdir -p ~/.keras/models\n",
    "! ln -s $(realpath ../readonly/keras/datasets/*) ~/.keras/datasets/\n",
    "! ln -s $(realpath ../readonly/keras/models/*) ~/.keras/models/"
   ]
  },
  {
   "cell_type": "code",
   "execution_count": 3,
   "metadata": {},
   "outputs": [
    {
     "name": "stderr",
     "output_type": "stream",
     "text": [
      "/usr/local/lib/python3.5/dist-packages/h5py/__init__.py:36: FutureWarning: Conversion of the second argument of issubdtype from `float` to `np.floating` is deprecated. In future, it will be treated as `np.float64 == np.dtype(float).type`.\n",
      "  from ._conv import register_converters as _register_converters\n",
      "Using TensorFlow backend.\n"
     ]
    }
   ],
   "source": [
    "import numpy as np\n",
    "from preprocessed_mnist import load_dataset\n",
    "import keras\n",
    "X_train, y_train, X_val, y_val, X_test, y_test = load_dataset()\n",
    "y_train,y_val,y_test = map(keras.utils.np_utils.to_categorical,[y_train,y_val,y_test])"
   ]
  },
  {
   "cell_type": "code",
   "execution_count": 4,
   "metadata": {
    "scrolled": true
   },
   "outputs": [
    {
     "data": {
      "image/png": "[encoded data removed]",
      "text/plain": [
       "<matplotlib.figure.Figure at 0x7fe3c2580cc0>"
      ]
     },
     "metadata": {},
     "output_type": "display_data"
    }
   ],
   "source": [
    "import matplotlib.pyplot as plt\n",
    "%matplotlib inline\n",
    "plt.imshow(X_train[0]);"
   ]
  },
  {
   "cell_type": "markdown",
   "metadata": {},
   "source": [
    "## The pretty keras"
   ]
  },
  {
   "cell_type": "code",
   "execution_count": 5,
   "metadata": {},
   "outputs": [],
   "source": [
    "import tensorflow as tf\n",
    "s = tf.InteractiveSession()"
   ]
  },
  {
   "cell_type": "code",
   "execution_count": 77,
   "metadata": {},
   "outputs": [],
   "source": [
    "import keras\n",
    "from keras.models import Sequential\n",
    "import keras.layers as ll\n",
    "from keras.optimizers import Adam\n",
    "\n",
    "model = Sequential(name=\"mlp\")\n",
    "\n",
    "model.add(ll.InputLayer([28, 28]))\n",
    "\n",
    "model.add(ll.Flatten())\n",
    "\n",
    "# network body\n",
    "model.add(ll.Dense(128))\n",
    "model.add(ll.Dropout(0.5))\n",
    "model.add(ll.Activation('tanh'))\n",
    "\n",
    "model.add(ll.Dense(64))\n",
    "model.add(ll.Activation('relu'))\n",
    "    \n",
    "model.add(ll.Dense(32))\n",
    "model.add(ll.Activation('relu'))\n",
    "\n",
    "# output layer: 10 neurons for each class with softmax\n",
    "model.add(ll.Dense(10, activation='softmax'))\n",
    "\n",
    "# categorical_crossentropy is your good old crossentropy\n",
    "# but applied for one-hot-encoded vectors\n",
    "optimizer = Adam(decay=0.1)\n",
    "model.compile(\"adam\", \"categorical_crossentropy\", metrics=[\"accuracy\"])"
   ]
  },
  {
   "cell_type": "code",
   "execution_count": 78,
   "metadata": {},
   "outputs": [
    {
     "name": "stdout",
     "output_type": "stream",
     "text": [
      "_________________________________________________________________\n",
      "Layer (type)                 Output Shape              Param #   \n",
      "=================================================================\n",
      "input_24 (InputLayer)        (None, 28, 28)            0         \n",
      "_________________________________________________________________\n",
      "flatten_24 (Flatten)         (None, 784)               0         \n",
      "_________________________________________________________________\n",
      "dense_74 (Dense)             (None, 128)               100480    \n",
      "_________________________________________________________________\n",
      "dropout_5 (Dropout)          (None, 128)               0         \n",
      "_________________________________________________________________\n",
      "activation_57 (Activation)   (None, 128)               0         \n",
      "_________________________________________________________________\n",
      "dense_75 (Dense)             (None, 64)                8256      \n",
      "_________________________________________________________________\n",
      "activation_58 (Activation)   (None, 64)                0         \n",
      "_________________________________________________________________\n",
      "dense_76 (Dense)             (None, 32)                2080      \n",
      "_________________________________________________________________\n",
      "activation_59 (Activation)   (None, 32)                0         \n",
      "_________________________________________________________________\n",
      "dense_77 (Dense)             (None, 10)                330       \n",
      "=================================================================\n",
      "Total params: 111,146\n",
      "Trainable params: 111,146\n",
      "Non-trainable params: 0\n",
      "_________________________________________________________________\n"
     ]
    }
   ],
   "source": [
    "model.summary()"
   ]
  },
  {
   "cell_type": "markdown",
   "metadata": {},
   "source": [
    "### Model interface\n",
    "\n",
    "Keras models follow __Scikit-learn__'s interface of fit/predict with some notable extensions. Let's take a tour."
   ]
  },
  {
   "cell_type": "code",
   "execution_count": 79,
   "metadata": {
    "scrolled": true
   },
   "outputs": [
    {
     "name": "stdout",
     "output_type": "stream",
     "text": [
      "Train on 50000 samples, validate on 10000 samples\n",
      "Epoch 1/30\n",
      "50000/50000 [==============================] - 8s 153us/step - loss: 0.3992 - acc: 0.8786 - val_loss: 0.2187 - val_acc: 0.9430\n",
      "Epoch 2/30\n",
      "50000/50000 [==============================] - 7s 138us/step - loss: 0.2311 - acc: 0.9281 - val_loss: 0.1726 - val_acc: 0.9579\n",
      "Epoch 3/30\n",
      "50000/50000 [==============================] - 7s 137us/step - loss: 0.1993 - acc: 0.9384 - val_loss: 0.1450 - val_acc: 0.9639\n",
      "Epoch 4/30\n",
      "50000/50000 [==============================] - 7s 139us/step - loss: 0.1752 - acc: 0.9458 - val_loss: 0.1455 - val_acc: 0.9651\n",
      "Epoch 5/30\n",
      "50000/50000 [==============================] - 7s 138us/step - loss: 0.1630 - acc: 0.9481 - val_loss: 0.1445 - val_acc: 0.9651\n",
      "Epoch 6/30\n",
      "50000/50000 [==============================] - 7s 139us/step - loss: 0.1489 - acc: 0.9537 - val_loss: 0.1339 - val_acc: 0.9686\n",
      "Epoch 7/30\n",
      "50000/50000 [==============================] - 7s 148us/step - loss: 0.1413 - acc: 0.9552 - val_loss: 0.1275 - val_acc: 0.9718\n",
      "Epoch 8/30\n",
      "50000/50000 [==============================] - 7s 149us/step - loss: 0.1352 - acc: 0.9573 - val_loss: 0.1247 - val_acc: 0.9715\n",
      "Epoch 9/30\n",
      "50000/50000 [==============================] - 6s 128us/step - loss: 0.1295 - acc: 0.9588 - val_loss: 0.1303 - val_acc: 0.9710\n",
      "Epoch 10/30\n",
      "50000/50000 [==============================] - 7s 146us/step - loss: 0.1210 - acc: 0.9617 - val_loss: 0.1206 - val_acc: 0.9749\n",
      "Epoch 11/30\n",
      "50000/50000 [==============================] - 8s 155us/step - loss: 0.1184 - acc: 0.9622 - val_loss: 0.1226 - val_acc: 0.9745\n",
      "Epoch 12/30\n",
      "50000/50000 [==============================] - 8s 154us/step - loss: 0.1155 - acc: 0.9631 - val_loss: 0.1171 - val_acc: 0.9752\n",
      "Epoch 13/30\n",
      "50000/50000 [==============================] - 8s 154us/step - loss: 0.1109 - acc: 0.9648 - val_loss: 0.1229 - val_acc: 0.9744\n",
      "Epoch 14/30\n",
      "50000/50000 [==============================] - 8s 160us/step - loss: 0.1115 - acc: 0.9643 - val_loss: 0.1189 - val_acc: 0.9742\n",
      "Epoch 15/30\n",
      "50000/50000 [==============================] - 8s 151us/step - loss: 0.1067 - acc: 0.9658 - val_loss: 0.1159 - val_acc: 0.9751\n",
      "Epoch 16/30\n",
      "50000/50000 [==============================] - 7s 147us/step - loss: 0.1031 - acc: 0.9667 - val_loss: 0.1195 - val_acc: 0.9751\n",
      "Epoch 17/30\n",
      "50000/50000 [==============================] - 6s 130us/step - loss: 0.1006 - acc: 0.9677 - val_loss: 0.1250 - val_acc: 0.9753\n",
      "Epoch 18/30\n",
      "50000/50000 [==============================] - 7s 150us/step - loss: 0.0983 - acc: 0.9684 - val_loss: 0.1130 - val_acc: 0.9758\n",
      "Epoch 19/30\n",
      "50000/50000 [==============================] - 7s 136us/step - loss: 0.0976 - acc: 0.9688 - val_loss: 0.1210 - val_acc: 0.9754\n",
      "Epoch 20/30\n",
      "50000/50000 [==============================] - 7s 143us/step - loss: 0.0980 - acc: 0.9687 - val_loss: 0.1184 - val_acc: 0.9750\n",
      "Epoch 21/30\n",
      "50000/50000 [==============================] - 7s 144us/step - loss: 0.0940 - acc: 0.9695 - val_loss: 0.1084 - val_acc: 0.9772\n",
      "Epoch 22/30\n",
      "50000/50000 [==============================] - 7s 142us/step - loss: 0.0915 - acc: 0.9704 - val_loss: 0.1158 - val_acc: 0.9774\n",
      "Epoch 23/30\n",
      "50000/50000 [==============================] - 7s 141us/step - loss: 0.0903 - acc: 0.9717 - val_loss: 0.1171 - val_acc: 0.9779\n",
      "Epoch 24/30\n",
      "50000/50000 [==============================] - 7s 134us/step - loss: 0.0875 - acc: 0.9714 - val_loss: 0.1373 - val_acc: 0.9741\n",
      "Epoch 25/30\n",
      "50000/50000 [==============================] - 8s 162us/step - loss: 0.0863 - acc: 0.9716 - val_loss: 0.1197 - val_acc: 0.9769\n",
      "Epoch 26/30\n",
      "50000/50000 [==============================] - 8s 167us/step - loss: 0.0845 - acc: 0.9728 - val_loss: 0.1154 - val_acc: 0.9775\n",
      "Epoch 27/30\n",
      "50000/50000 [==============================] - 8s 159us/step - loss: 0.0815 - acc: 0.9732 - val_loss: 0.1226 - val_acc: 0.9770\n",
      "Epoch 28/30\n",
      "50000/50000 [==============================] - 8s 151us/step - loss: 0.0824 - acc: 0.9730 - val_loss: 0.1143 - val_acc: 0.9780\n",
      "Epoch 29/30\n",
      "50000/50000 [==============================] - 7s 149us/step - loss: 0.0798 - acc: 0.9736 - val_loss: 0.1237 - val_acc: 0.9764\n",
      "Epoch 30/30\n",
      "50000/50000 [==============================] - 7s 149us/step - loss: 0.0799 - acc: 0.9737 - val_loss: 0.1206 - val_acc: 0.9781\n"
     ]
    }
   ],
   "source": [
    "# fit(X,y) ships with a neat automatic logging.\n",
    "#          Highly customizable under the hood.\n",
    "model.fit(X_train, y_train,\n",
    "          validation_data=(X_val, y_val), epochs=30);"
   ]
  },
  {
   "cell_type": "code",
   "execution_count": 80,
   "metadata": {},
   "outputs": [
    {
     "data": {
      "text/plain": [
       "array([[5.11266988e-22, 8.22775247e-16, 1.27581019e-12, 1.00000000e+00,\n",
       "        5.94215864e-18, 5.12992155e-14, 1.26687598e-21, 1.29189763e-13,\n",
       "        2.07319188e-12, 7.30088190e-15],\n",
       "       [5.23977303e-12, 2.48465511e-14, 5.11855280e-11, 1.87228633e-09,\n",
       "        1.81554990e-14, 1.27175102e-11, 4.43672286e-11, 1.00374644e-13,\n",
       "        1.00000000e+00, 2.01116250e-12]], dtype=float32)"
      ]
     },
     "execution_count": 80,
     "metadata": {},
     "output_type": "execute_result"
    }
   ],
   "source": [
    "# estimate probabilities P(y|x)\n",
    "model.predict_proba(X_val[:2])"
   ]
  },
  {
   "cell_type": "code",
   "execution_count": 81,
   "metadata": {},
   "outputs": [],
   "source": [
    "# Save trained weights\n",
    "model.save(\"weights.h5\")"
   ]
  },
  {
   "cell_type": "code",
   "execution_count": 82,
   "metadata": {},
   "outputs": [
    {
     "name": "stdout",
     "output_type": "stream",
     "text": [
      "10000/10000 [==============================] - 1s 63us/step\n",
      "\n",
      "Loss, Accuracy =  [0.12687364483221045, 0.9773]\n"
     ]
    }
   ],
   "source": [
    "print(\"\\nLoss, Accuracy = \", model.evaluate(X_test, y_test))"
   ]
  },
  {
   "cell_type": "markdown",
   "metadata": {},
   "source": [
    "### Whoops!\n",
    "So far, our model is staggeringly inefficient. There is something wrong with it. Guess, what?"
   ]
  },
  {
   "cell_type": "code",
   "execution_count": 83,
   "metadata": {},
   "outputs": [
    {
     "name": "stdout",
     "output_type": "stream",
     "text": [
      "\n",
      "Test accuracy: 97.72999999999999 %\n",
      "Great job!\n"
     ]
    }
   ],
   "source": [
    "# Test score...\n",
    "test_predictions = model.predict_proba(X_test).argmax(axis=-1)\n",
    "test_answers = y_test.argmax(axis=-1)\n",
    "\n",
    "test_accuracy = np.mean(test_predictions==test_answers)\n",
    "\n",
    "print(\"\\nTest accuracy: {} %\".format(test_accuracy*100))\n",
    "\n",
    "assert test_accuracy>=0.92,\"Logistic regression can do better!\"\n",
    "assert test_accuracy>=0.975,\"Your network can do better!\"\n",
    "print(\"Great job!\")"
   ]
  },
  {
   "cell_type": "code",
   "execution_count": 84,
   "metadata": {},
   "outputs": [],
   "source": [
    "answer_submitter = grading.Grader(\"0ybD9ZxxEeea8A6GzH-6CA\")\n",
    "answer_submitter.set_answer(\"N56DR\", test_accuracy)"
   ]
  },
  {
   "cell_type": "code",
   "execution_count": 85,
   "metadata": {},
   "outputs": [
    {
     "name": "stdout",
     "output_type": "stream",
     "text": [
      "Submitted to Coursera platform. See results on assignment page!\n"
     ]
    }
   ],
   "source": [
    "answer_submitter.submit(\"aliaksandrlashkov@gmail.com\", \"AhRHDKrsdHMu03d5\")"
   ]
  },
  {
   "cell_type": "markdown",
   "metadata": {},
   "source": [
    "## Keras + tensorboard\n",
    "\n",
    "Remember the interactive graphs from Tensorboard one notebook ago? \n",
    "\n",
    "Thing is, Keras can use tensorboard to show you a lot of useful information about the learning progress. Just take a look!"
   ]
  },
  {
   "cell_type": "code",
   "execution_count": 86,
   "metadata": {},
   "outputs": [],
   "source": [
    "! rm -r /tmp/tboard/**"
   ]
  },
  {
   "cell_type": "code",
   "execution_count": 87,
   "metadata": {},
   "outputs": [
    {
     "name": "stdout",
     "output_type": "stream",
     "text": [
      "Train on 50000 samples, validate on 10000 samples\n",
      "Epoch 1/10\n",
      "50000/50000 [==============================] - 7s 143us/step - loss: 0.0778 - acc: 0.9745 - val_loss: 0.1231 - val_acc: 0.9771\n",
      "Epoch 2/10\n",
      "50000/50000 [==============================] - 7s 143us/step - loss: 0.0788 - acc: 0.9745 - val_loss: 0.1296 - val_acc: 0.9755\n",
      "Epoch 3/10\n",
      "50000/50000 [==============================] - 7s 148us/step - loss: 0.0775 - acc: 0.9754 - val_loss: 0.1127 - val_acc: 0.9781\n",
      "Epoch 4/10\n",
      "50000/50000 [==============================] - 7s 133us/step - loss: 0.0761 - acc: 0.9758 - val_loss: 0.1239 - val_acc: 0.9777\n",
      "Epoch 5/10\n",
      "50000/50000 [==============================] - 8s 164us/step - loss: 0.0742 - acc: 0.9751 - val_loss: 0.1203 - val_acc: 0.9780\n",
      "Epoch 6/10\n",
      "50000/50000 [==============================] - 7s 149us/step - loss: 0.0718 - acc: 0.9760 - val_loss: 0.1151 - val_acc: 0.9787\n",
      "Epoch 7/10\n",
      "50000/50000 [==============================] - 8s 167us/step - loss: 0.0717 - acc: 0.9764 - val_loss: 0.1212 - val_acc: 0.9775\n",
      "Epoch 8/10\n",
      "50000/50000 [==============================] - 7s 140us/step - loss: 0.0742 - acc: 0.9764 - val_loss: 0.1202 - val_acc: 0.9774\n",
      "Epoch 9/10\n",
      "50000/50000 [==============================] - 7s 131us/step - loss: 0.0712 - acc: 0.9754 - val_loss: 0.1146 - val_acc: 0.9771\n",
      "Epoch 10/10\n",
      "50000/50000 [==============================] - 6s 125us/step - loss: 0.0743 - acc: 0.9756 - val_loss: 0.1191 - val_acc: 0.9775\n"
     ]
    },
    {
     "data": {
      "text/plain": [
       "<keras.callbacks.History at 0x7fe3629f8630>"
      ]
     },
     "execution_count": 87,
     "metadata": {},
     "output_type": "execute_result"
    }
   ],
   "source": [
    "from keras.callbacks import TensorBoard\n",
    "model.fit(X_train, y_train, validation_data=(X_val, y_val), \n",
    "          epochs=10,\n",
    "          callbacks=[TensorBoard(\"/tmp/tboard\")])"
   ]
  },
  {
   "cell_type": "markdown",
   "metadata": {},
   "source": [
    "# Tips & tricks\n",
    "\n",
    "Here are some tips on what you could do. Don't worry, to reach the passing threshold you don't need to try all the ideas listed here, feel free to stop once you reach the 0.975 accuracy mark.\n",
    "\n",
    " * __Network size__\n",
    "   * More neurons, \n",
    "   * More layers, ([docs](https://keras.io/))\n",
    "\n",
    "   * Nonlinearities in the hidden layers\n",
    "     * tanh, relu, leaky relu, etc\n",
    "   * Larger networks may take more epochs to train, so don't discard your net just because it could didn't beat the baseline in 5 epochs.\n",
    "\n",
    "\n",
    " * __Early Stopping__\n",
    "   * Training for 100 epochs regardless of anything is probably a bad idea.\n",
    "   * Some networks converge over 5 epochs, others - over 500.\n",
    "   * Way to go: stop when validation score is 10 iterations past maximum\n",
    "     \n",
    "\n",
    " * __Faster optimization__\n",
    "   * rmsprop, nesterov_momentum, adam, adagrad and so on.\n",
    "     * Converge faster and sometimes reach better optima\n",
    "     * It might make sense to tweak learning rate/momentum, other learning parameters, batch size and number of epochs\n",
    "\n",
    "\n",
    " * __Regularize__ to prevent overfitting\n",
    "   * Add some L2 weight norm to the loss function, theano will do the rest\n",
    "     * Can be done manually or via - https://keras.io/regularizers/\n",
    "   \n",
    "   \n",
    " * __Data augmemntation__ - getting 5x as large dataset for free is a great deal\n",
    "   * https://keras.io/preprocessing/image/\n",
    "   * Zoom-in+slice = move\n",
    "   * Rotate+zoom(to remove black stripes)\n",
    "   * any other perturbations\n",
    "   * Simple way to do that (if you have PIL/Image): \n",
    "     * ```from scipy.misc import imrotate,imresize```\n",
    "     * and a few slicing\n",
    "   * Stay realistic. There's usually no point in flipping dogs upside down as that is not the way you usually see them."
   ]
  }
 ],
 "metadata": {
  "kernelspec": {
   "display_name": "Python 3",
   "language": "python",
   "name": "python3"
  },
  "language_info": {
   "codemirror_mode": {
    "name": "ipython",
    "version": 3
   },
   "file_extension": ".py",
   "mimetype": "text/x-python",
   "name": "python",
   "nbconvert_exporter": "python",
   "pygments_lexer": "ipython3",
   "version": "3.5.2"
  },
  "toc": {
   "colors": {
    "hover_highlight": "#DAA520",
    "navigate_num": "#000000",
    "navigate_text": "#333333",
    "running_highlight": "#FF0000",
    "selected_highlight": "#FFD700",
    "sidebar_border": "#EEEEEE",
    "wrapper_background": "#FFFFFF"
   },
   "moveMenuLeft": true,
   "nav_menu": {
    "height": "120px",
    "width": "252px"
   },
   "navigate_menu": true,
   "number_sections": true,
   "sideBar": true,
   "threshold": 4,
   "toc_cell": false,
   "toc_section_display": "block",
   "toc_window_display": false,
   "widenNotebook": false
  }
 },
 "nbformat": 4,
 "nbformat_minor": 1
}
