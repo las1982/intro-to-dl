{
 "cells": [
  {
   "cell_type": "markdown",
   "metadata": {
    "slideshow": {
     "slide_type": "slide"
    }
   },
   "source": [
    "# Going deeper with Tensorflow\n",
    "\n",
    "In this video, we're going to study the tools you'll use to build deep learning models. Namely, [Tensorflow](https://www.tensorflow.org/).\n",
    "\n",
    "If you're running this notebook outside the course environment, you'll need to install tensorflow:\n",
    "* `pip install tensorflow` should install cpu-only TF on Linux & Mac OS\n",
    "* If you want GPU support from offset, see [TF install page](https://www.tensorflow.org/install/)"
   ]
  },
  {
   "cell_type": "code",
   "execution_count": 59,
   "metadata": {},
   "outputs": [],
   "source": [
    "import sys\n",
    "sys.path.append(\"..\")\n",
    "import grading"
   ]
  },
  {
   "cell_type": "markdown",
   "metadata": {},
   "source": [
    "# Visualization"
   ]
  },
  {
   "cell_type": "markdown",
   "metadata": {},
   "source": [
    "Plase note that if you are running on the Coursera platform, you won't be able to access the tensorboard instance due to the network setup there. If you run the notebook locally, you should be able to access TensorBoard on http://127.0.0.1:7007/"
   ]
  },
  {
   "cell_type": "code",
   "execution_count": 60,
   "metadata": {},
   "outputs": [],
   "source": [
    "! killall tensorboard\n",
    "import os\n",
    "os.system(\"tensorboard --logdir=/tmp/tboard --port=7007 &\");"
   ]
  },
  {
   "cell_type": "code",
   "execution_count": 61,
   "metadata": {},
   "outputs": [],
   "source": [
    "import tensorflow as tf\n",
    "s = tf.InteractiveSession()"
   ]
  },
  {
   "cell_type": "markdown",
   "metadata": {},
   "source": [
    "# Warming up\n",
    "For starters, let's implement a python function that computes the sum of squares of numbers from 0 to N-1."
   ]
  },
  {
   "cell_type": "code",
   "execution_count": 62,
   "metadata": {},
   "outputs": [],
   "source": [
    "import numpy as np\n",
    "def sum_sin(N):\n",
    "    return np.sum(np.arange(N)**2)"
   ]
  },
  {
   "cell_type": "code",
   "execution_count": 63,
   "metadata": {},
   "outputs": [
    {
     "name": "stdout",
     "output_type": "stream",
     "text": [
      "CPU times: user 392 ms, sys: 672 ms, total: 1.06 s\n",
      "Wall time: 1.07 s\n"
     ]
    },
    {
     "data": {
      "text/plain": [
       "662921401752298880"
      ]
     },
     "execution_count": 63,
     "metadata": {},
     "output_type": "execute_result"
    }
   ],
   "source": [
    "%%time\n",
    "sum_sin(10**8)"
   ]
  },
  {
   "cell_type": "markdown",
   "metadata": {},
   "source": [
    "# Tensoflow teaser\n",
    "\n",
    "Doing the very same thing"
   ]
  },
  {
   "cell_type": "code",
   "execution_count": 64,
   "metadata": {},
   "outputs": [],
   "source": [
    "# An integer parameter\n",
    "N = tf.placeholder('int64', name=\"input_to_your_function\")\n",
    "\n",
    "# A recipe on how to produce the same result\n",
    "result = tf.reduce_sum(tf.range(N)**2)"
   ]
  },
  {
   "cell_type": "code",
   "execution_count": 65,
   "metadata": {},
   "outputs": [
    {
     "data": {
      "text/plain": [
       "<tf.Tensor 'Sum_2:0' shape=() dtype=int64>"
      ]
     },
     "execution_count": 65,
     "metadata": {},
     "output_type": "execute_result"
    }
   ],
   "source": [
    "result"
   ]
  },
  {
   "cell_type": "code",
   "execution_count": 66,
   "metadata": {},
   "outputs": [
    {
     "name": "stdout",
     "output_type": "stream",
     "text": [
      "CPU times: user 642 ms, sys: 318 ms, total: 960 ms\n",
      "Wall time: 660 ms\n"
     ]
    },
    {
     "data": {
      "text/plain": [
       "662921401752298880"
      ]
     },
     "execution_count": 66,
     "metadata": {},
     "output_type": "execute_result"
    }
   ],
   "source": [
    "%%time\n",
    "result.eval({N: 10**8})"
   ]
  },
  {
   "cell_type": "code",
   "execution_count": 67,
   "metadata": {},
   "outputs": [],
   "source": [
    "writer = tf.summary.FileWriter(\"/tmp/tboard\", graph=s.graph)"
   ]
  },
  {
   "cell_type": "markdown",
   "metadata": {},
   "source": [
    "# How does it work?\n",
    "1. Define placeholders where you'll send inputs\n",
    "2. Make symbolic graph: a recipe for mathematical transformation of those placeholders\n",
    "3. Compute outputs of your graph with particular values for each placeholder\n",
    "  * `output.eval({placeholder:value})`\n",
    "  * `s.run(output, {placeholder:value})`\n",
    "\n",
    "So far there are two main entities: \"placeholder\" and \"transformation\"\n",
    "* Both can be numbers, vectors, matrices, tensors, etc.\n",
    "* Both can be int32/64, floats, booleans (uint8) of various size.\n",
    "\n",
    "* You can define new transformations as an arbitrary operation on placeholders and other transformations\n",
    " * `tf.reduce_sum(tf.arange(N)**2)` are 3 sequential transformations of placeholder `N`\n",
    " * There's a tensorflow symbolic version for every numpy function\n",
    "   * `a+b, a/b, a**b, ...` behave just like in numpy\n",
    "   * `np.mean` -> `tf.reduce_mean`\n",
    "   * `np.arange` -> `tf.range`\n",
    "   * `np.cumsum` -> `tf.cumsum`\n",
    "   * If if you can't find the op you need, see the [docs](https://www.tensorflow.org/api_docs/python).\n",
    "   \n",
    "`tf.contrib` has many high-level features, may be worth a look."
   ]
  },
  {
   "cell_type": "code",
   "execution_count": 68,
   "metadata": {},
   "outputs": [],
   "source": [
    "with tf.name_scope(\"Placeholders_examples\"):\n",
    "    # Default placeholder that can be arbitrary float32\n",
    "    # scalar, vertor, matrix, etc.\n",
    "    arbitrary_input = tf.placeholder('float32')\n",
    "\n",
    "    # Input vector of arbitrary length\n",
    "    input_vector = tf.placeholder('float32', shape=(None,))\n",
    "\n",
    "    # Input vector that _must_ have 10 elements and integer type\n",
    "    fixed_vector = tf.placeholder('int32', shape=(10,))\n",
    "\n",
    "    # Matrix of arbitrary n_rows and 15 columns\n",
    "    # (e.g. a minibatch your data table)\n",
    "    input_matrix = tf.placeholder('float32', shape=(None, 15))\n",
    "    \n",
    "    # You can generally use None whenever you don't need a specific shape\n",
    "    input1 = tf.placeholder('float64', shape=(None, 100, None))\n",
    "    input2 = tf.placeholder('int32', shape=(None, None, 3, 224, 224))\n",
    "\n",
    "    # elementwise multiplication\n",
    "    double_the_vector = input_vector*2\n",
    "\n",
    "    # elementwise cosine\n",
    "    elementwise_cosine = tf.cos(input_vector)\n",
    "\n",
    "    # difference between squared vector and vector itself plus one\n",
    "    vector_squares = input_vector**2 - input_vector + 1"
   ]
  },
  {
   "cell_type": "code",
   "execution_count": 69,
   "metadata": {},
   "outputs": [],
   "source": [
    "my_vector =  tf.placeholder('float32', shape=(None,), name=\"VECTOR_1\")\n",
    "my_vector2 = tf.placeholder('float32', shape=(None,))\n",
    "my_transformation = my_vector * my_vector2 / (tf.sin(my_vector) + 1)"
   ]
  },
  {
   "cell_type": "code",
   "execution_count": 70,
   "metadata": {},
   "outputs": [
    {
     "name": "stdout",
     "output_type": "stream",
     "text": [
      "Tensor(\"truediv_5:0\", shape=(?,), dtype=float32)\n"
     ]
    }
   ],
   "source": [
    "print(my_transformation)"
   ]
  },
  {
   "cell_type": "code",
   "execution_count": 71,
   "metadata": {},
   "outputs": [
    {
     "name": "stdout",
     "output_type": "stream",
     "text": [
      "[0. 1. 2. 3. 4.]\n"
     ]
    },
    {
     "data": {
      "text/plain": [
       "array([0.       , 1.6291324, 2.0950115, 2.6289961, 0.       ],\n",
       "      dtype=float32)"
      ]
     },
     "execution_count": 71,
     "metadata": {},
     "output_type": "execute_result"
    }
   ],
   "source": [
    "dummy = np.arange(5).astype('float32')\n",
    "print(dummy)\n",
    "my_transformation.eval({my_vector:dummy, my_vector2:dummy[::-1]})"
   ]
  },
  {
   "cell_type": "code",
   "execution_count": 72,
   "metadata": {},
   "outputs": [],
   "source": [
    "writer.add_graph(my_transformation.graph)\n",
    "writer.flush()"
   ]
  },
  {
   "cell_type": "markdown",
   "metadata": {},
   "source": [
    "TensorBoard allows writing scalars, images, audio, histogram. You can read more on tensorboard usage [here](https://www.tensorflow.org/get_started/graph_viz)."
   ]
  },
  {
   "cell_type": "markdown",
   "metadata": {},
   "source": [
    "# Summary\n",
    "* Tensorflow is based on computation graphs\n",
    "* The graphs consist of placehlders and transformations"
   ]
  },
  {
   "cell_type": "markdown",
   "metadata": {},
   "source": [
    "# Mean squared error\n",
    "\n",
    "Your assignment is to implement mean squared error in tensorflow."
   ]
  },
  {
   "cell_type": "code",
   "execution_count": 73,
   "metadata": {},
   "outputs": [],
   "source": [
    "with tf.name_scope(\"MSE\"):\n",
    "    y_true = tf.placeholder(\"float32\", shape=(None,), name=\"y_true\")\n",
    "    y_predicted = tf.placeholder(\"float32\", shape=(None,), name=\"y_predicted\")\n",
    "    # Your code goes here\n",
    "    # You want to use tf.reduce_mean\n",
    "    mse = tf.reduce_mean((y_true - y_predicted)**2)\n",
    "def compute_mse(vector1, vector2):\n",
    "    return mse.eval({y_true: vector1, y_predicted: vector2})"
   ]
  },
  {
   "cell_type": "code",
   "execution_count": 74,
   "metadata": {},
   "outputs": [],
   "source": [
    "writer.add_graph(mse.graph)\n",
    "writer.flush()"
   ]
  },
  {
   "cell_type": "markdown",
   "metadata": {},
   "source": [
    "Tests and result submission. Please use the credentials obtained from the Coursera assignment page."
   ]
  },
  {
   "cell_type": "code",
   "execution_count": 75,
   "metadata": {},
   "outputs": [],
   "source": [
    "import submit"
   ]
  },
  {
   "cell_type": "code",
   "execution_count": 76,
   "metadata": {},
   "outputs": [
    {
     "name": "stdout",
     "output_type": "stream",
     "text": [
      "Submitted to Coursera platform. See results on assignment page!\n"
     ]
    }
   ],
   "source": [
    "submit.submit_mse(compute_mse, \"aliaksandrlashkov@gmail.com\", \"JUm7w8ANLC8a1TsC\")"
   ]
  },
  {
   "cell_type": "markdown",
   "metadata": {},
   "source": [
    "# Variables\n",
    "\n",
    "The inputs and transformations have no value outside function call. This isn't too comfortable if you want your model to have parameters (e.g. network weights) that are always present, but can change their value over time.\n",
    "\n",
    "Tensorflow solves this with `tf.Variable` objects.\n",
    "* You can assign variable a value at any time in your graph\n",
    "* Unlike placeholders, there's no need to explicitly pass values to variables when `s.run(...)`-ing\n",
    "* You can use variables the same way you use transformations \n",
    " "
   ]
  },
  {
   "cell_type": "code",
   "execution_count": 77,
   "metadata": {},
   "outputs": [],
   "source": [
    "# Creating a shared variable\n",
    "shared_vector_1 = tf.Variable(initial_value=np.ones(5),\n",
    "                              name=\"example_variable\")"
   ]
  },
  {
   "cell_type": "code",
   "execution_count": 78,
   "metadata": {},
   "outputs": [
    {
     "name": "stdout",
     "output_type": "stream",
     "text": [
      "Initial value [1. 1. 1. 1. 1.]\n"
     ]
    }
   ],
   "source": [
    "# Initialize variable(s) with initial values\n",
    "s.run(tf.global_variables_initializer())\n",
    "\n",
    "# Evaluating shared variable (outside symbolicd graph)\n",
    "print(\"Initial value\", s.run(shared_vector_1))\n",
    "\n",
    "# Within symbolic graph you use them just\n",
    "# as any other input or transformation, not \"get value\" needed"
   ]
  },
  {
   "cell_type": "code",
   "execution_count": 79,
   "metadata": {},
   "outputs": [
    {
     "name": "stdout",
     "output_type": "stream",
     "text": [
      "New value [0. 1. 2. 3. 4.]\n"
     ]
    }
   ],
   "source": [
    "# Setting a new value\n",
    "s.run(shared_vector_1.assign(np.arange(5)))\n",
    "\n",
    "# Getting that new value\n",
    "print(\"New value\", s.run(shared_vector_1))"
   ]
  },
  {
   "cell_type": "markdown",
   "metadata": {},
   "source": [
    "# tf.gradients - why graphs matter\n",
    "* Tensorflow can compute derivatives and gradients automatically using the computation graph\n",
    "* True to its name it can manage matrix derivatives\n",
    "* Gradients are computed as a product of elementary derivatives via the chain rule:\n",
    "\n",
    "$$ {\\partial f(g(x)) \\over \\partial x} = {\\partial f(g(x)) \\over \\partial g(x)}\\cdot {\\partial g(x) \\over \\partial x} $$\n",
    "\n",
    "It can get you the derivative of any graph as long as it knows how to differentiate elementary operations"
   ]
  },
  {
   "cell_type": "code",
   "execution_count": 80,
   "metadata": {},
   "outputs": [],
   "source": [
    "my_scalar = tf.placeholder('float32')\n",
    "\n",
    "scalar_squared = my_scalar**2\n",
    "\n",
    "# A derivative of scalar_squared by my_scalar\n",
    "derivative = tf.gradients(scalar_squared, [my_scalar, ])"
   ]
  },
  {
   "cell_type": "code",
   "execution_count": 81,
   "metadata": {},
   "outputs": [
    {
     "data": {
      "text/plain": [
       "[<tf.Tensor 'gradients_8/pow_17_grad/Reshape:0' shape=<unknown> dtype=float32>]"
      ]
     },
     "execution_count": 81,
     "metadata": {},
     "output_type": "execute_result"
    }
   ],
   "source": [
    "derivative"
   ]
  },
  {
   "cell_type": "code",
   "execution_count": 82,
   "metadata": {},
   "outputs": [
    {
     "data": {
      "image/png": "[encoded data removed]",
      "text/plain": [
       "<matplotlib.figure.Figure at 0x7fa6615a8e80>"
      ]
     },
     "metadata": {},
     "output_type": "display_data"
    }
   ],
   "source": [
    "import matplotlib.pyplot as plt\n",
    "%matplotlib inline\n",
    "\n",
    "x = np.linspace(-3, 3)\n",
    "x_squared, x_squared_der = s.run([scalar_squared, derivative[0]],\n",
    "                                 {my_scalar:x})\n",
    "\n",
    "plt.plot(x, x_squared,label=\"$x^2$\")\n",
    "plt.plot(x, x_squared_der, label=r\"$\\frac{dx^2}{dx}$\")\n",
    "plt.legend();"
   ]
  },
  {
   "cell_type": "markdown",
   "metadata": {},
   "source": [
    "# Why that rocks"
   ]
  },
  {
   "cell_type": "code",
   "execution_count": 83,
   "metadata": {},
   "outputs": [],
   "source": [
    "my_vector = tf.placeholder('float32', [None])\n",
    "# Compute the gradient of the next weird function over my_scalar and my_vector\n",
    "# Warning! Trying to understand the meaning of that function may result in permanent brain damage\n",
    "weird_psychotic_function = tf.reduce_mean(\n",
    "    (my_vector+my_scalar)**(1+tf.nn.moments(my_vector,[0])[1]) + \n",
    "    1./ tf.atan(my_scalar))/(my_scalar**2 + 1) + 0.01*tf.sin(\n",
    "    2*my_scalar**1.5)*(tf.reduce_sum(my_vector)* my_scalar**2\n",
    "                      )*tf.exp((my_scalar-4)**2)/(\n",
    "    1+tf.exp((my_scalar-4)**2))*(1.-(tf.exp(-(my_scalar-4)**2)\n",
    "                                    )/(1+tf.exp(-(my_scalar-4)**2)))**2\n",
    "\n",
    "der_by_scalar = tf.gradients(weird_psychotic_function, my_scalar)\n",
    "der_by_vector = tf.gradients(weird_psychotic_function, my_vector)"
   ]
  },
  {
   "cell_type": "code",
   "execution_count": 84,
   "metadata": {},
   "outputs": [
    {
     "data": {
      "image/png": "[encoded data removed]",
      "text/plain": [
       "<matplotlib.figure.Figure at 0x7fa6527bc128>"
      ]
     },
     "metadata": {},
     "output_type": "display_data"
    }
   ],
   "source": [
    "# Plotting the derivative\n",
    "scalar_space = np.linspace(1, 7, 100)\n",
    "\n",
    "y = [s.run(weird_psychotic_function, {my_scalar:x, my_vector:[1, 2, 3]})\n",
    "     for x in scalar_space]\n",
    "\n",
    "plt.plot(scalar_space, y, label='function')\n",
    "\n",
    "y_der_by_scalar = [s.run(der_by_scalar,\n",
    "                         {my_scalar:x, my_vector:[1, 2, 3]})\n",
    "                   for x in scalar_space]\n",
    "\n",
    "plt.plot(scalar_space, y_der_by_scalar, label='derivative')\n",
    "plt.grid()\n",
    "plt.legend();"
   ]
  },
  {
   "cell_type": "markdown",
   "metadata": {},
   "source": [
    "# Almost done - optimizers\n",
    "\n",
    "While you can perform gradient descent by hand with automatic grads from above, tensorflow also has some optimization methods implemented for you. Recall momentum & rmsprop?"
   ]
  },
  {
   "cell_type": "code",
   "execution_count": 85,
   "metadata": {},
   "outputs": [],
   "source": [
    "y_guess = tf.Variable(np.zeros(2, dtype='float32'))\n",
    "y_true = tf.range(1, 3, dtype='float32')\n",
    "loss = tf.reduce_mean((y_guess - y_true + tf.random_normal([2]))**2) \n",
    "#loss = tf.reduce_mean((y_guess - y_true)**2) \n",
    "optimizer = tf.train.MomentumOptimizer(0.01, 0.5).minimize(\n",
    "    loss, var_list=y_guess)"
   ]
  },
  {
   "cell_type": "code",
   "execution_count": 86,
   "metadata": {},
   "outputs": [
    {
     "data": {
      "image/png": "[encoded data removed]",
      "text/plain": [
       "<matplotlib.figure.Figure at 0x7fa651c96e10>"
      ]
     },
     "metadata": {},
     "output_type": "display_data"
    }
   ],
   "source": [
    "from matplotlib import animation, rc\n",
    "import matplotlib_utils\n",
    "from IPython.display import HTML, display_html\n",
    "\n",
    "fig, ax = plt.subplots()\n",
    "y_true_value = s.run(y_true)\n",
    "level_x = np.arange(0, 2, 0.02)\n",
    "level_y = np.arange(0, 3, 0.02)\n",
    "X, Y = np.meshgrid(level_x, level_y)\n",
    "Z = (X - y_true_value[0])**2 + (Y - y_true_value[1])**2\n",
    "ax.set_xlim(-0.02, 2)\n",
    "ax.set_ylim(-0.02, 3)\n",
    "s.run(tf.global_variables_initializer())\n",
    "ax.scatter(*s.run(y_true), c='red')\n",
    "contour = ax.contour(X, Y, Z, 10)\n",
    "ax.clabel(contour, inline=1, fontsize=10)\n",
    "line, = ax.plot([], [], lw=2)\n",
    "\n",
    "def init():\n",
    "    line.set_data([], [])\n",
    "    return (line,)\n",
    "\n",
    "guesses = [s.run(y_guess)]\n",
    "\n",
    "def animate(i):\n",
    "    s.run(optimizer)\n",
    "    guesses.append(s.run(y_guess))\n",
    "    line.set_data(*zip(*guesses))\n",
    "    return (line,)\n",
    "\n",
    "anim = animation.FuncAnimation(fig, animate, init_func=init,\n",
    "                               frames=400, interval=20, blit=True)"
   ]
  },
  {
   "cell_type": "code",
   "execution_count": 87,
   "metadata": {},
   "outputs": [
    {
     "data": {
      "text/html": [
       "<video width=\"432\" height=\"288\" controls autoplay loop>\n",
       "  <source type=\"video/mp4\" src=\"data:video/mp4;base64,AAAAHGZ0eXBNNFYgAAACAGlzb21pc28yYXZjMQAAAAhmcmVlAAC1z21kYXQAAAKuBgX//6rcRem9\n",
       "5tlIt5Ys2CDZI+7veDI2NCAtIGNvcmUgMTQ4IHIyNjQzIDVjNjU3MDQgLSBILjI2NC9NUEVHLTQg\n",
       "QVZDIGNvZGVjIC0gQ29weWxlZnQgMjAwMy0yMDE1IC0gaHR0cDovL3d3dy52aWRlb2xhbi5vcmcv\n",
       "eDI2NC5odG1sIC0gb3B0aW9uczogY2FiYWM9MSByZWY9MyBkZWJsb2NrPTE6MDowIGFuYWx5c2U9\n",
       "MHgzOjB4MTEzIG1lPWhleCBzdWJtZT03IHBzeT0xIHBzeV9yZD0xLjAwOjAuMDAgbWl4ZWRfcmVm\n",
       "PTEgbWVfcmFuZ2U9MTYgY2hyb21hX21lPTEgdHJlbGxpcz0xIDh4OGRjdD0xIGNxbT0wIGRlYWR6\n",
       "b25lPTIxLDExIGZhc3RfcHNraXA9MSBjaHJvbWFfcXBfb2Zmc2V0PS0yIHRocmVhZHM9NiBsb29r\n",
       "YWhlYWRfdGhyZWFkcz0xIHNsaWNlZF90aHJlYWRzPTAgbnI9MCBkZWNpbWF0ZT0xIGludGVybGFj\n",
       "ZWQ9MCBibHVyYXlfY29tcGF0PTAgY29uc3RyYWluZWRfaW50cmE9MCBiZnJhbWVzPTMgYl9weXJh\n",
       "bWlkPTIgYl9hZGFwdD0xIGJfYmlhcz0wIGRpcmVjdD0xIHdlaWdodGI9MSBvcGVuX2dvcD0wIHdl\n",
       "aWdodHA9MiBrZXlpbnQ9MjUwIGtleWludF9taW49MjUgc2NlbmVjdXQ9NDAgaW50cmFfcmVmcmVz\n",
       "aD0wIHJjX2xvb2thaGVhZD00MCByYz1jcmYgbWJ0cmVlPTEgY3JmPTIzLjAgcWNvbXA9MC42MCBx\n",
       "cG1pbj0wIHFwbWF4PTY5IHFwc3RlcD00IGlwX3JhdGlvPTEuNDAgYXE9MToxLjAwAIAAADJ2ZYiE\n",
       "AC///vau/MsrRwuVLh1Ze7NR8uhJcv2IMH1oAAADAADVayF8oYJVUBjg5Cl8UC950wnQObmxLpMS\n",
       "eTd2N1o7ZvU7nZLqidQWs9IRqH4qZFuUNOvgrgAArGB7WlESNB735J/CfrjEy3i5zjzWx5r7oD4b\n",
       "7vRGf5YZpSE2SfCltWRnqtLPBS3FxRjhpp/BEdar5txSfEu67R/ppgZwAi2i8ff512MwmU2ndVwZ\n",
       "0/IypwbXeLiexIGKwjGLSLtuFQ6Y/OKysfXRdbpNhUrKtfRj7DGM8WCX1Bh4c330WAw+R6EXVRFY\n",
       "lu5UH1qoQzyL4+ViaXbsk9e17GMhYcjYQ2ErNh8GLHqFB5yll7cH5+/ATt414OGqKJBfavN2H7Eo\n",
       "MYMyQUJm9f6njg6oT6RI9deVwCrdBzM/Sz/x8vLmA7OACvEgs7ec3QswOORd/etOu0E7t7VpiB00\n",
       "hKHHIDZREnqwvaNj69QpwDqX0pss1cRClh94zlgStU4c5yUCVO+HQbSt4HAXLJj2f9Btb1Gp56ii\n",
       "Oi96XZV1x4KhUxTYawQAUfjzsl0QevSEuVTVlSNIsvo+7QD/x5dqmV34q8Y/e22ByjofSHxpk/7U\n",
       "JlOIzg46ZfH1hLZgWW3R/niY7hJcJ7T94UsjfEkSh3TDgfcD17lLYnCY2sdzwQUX/M7yx8DlUAxf\n",
       "Bf5jCXE+1+wNMg1QAvfybm1SjIO2TPl8BU8XJsElm8w528BUCYhGy7qcnRnuSy6QxEV7zgbX58W4\n",
       "OX++3kHg9QTGgyx+9vVBAdT1fCClHX4ANSaqmTCW59ftwD0BujqkCCWkUJ2w9uAMrIdCjsnjVQgY\n",
       "usw2C1nI5upe6qRnHhMYO+//zOhJwy3GFabODqjJ8LP6JD9HicRvbp/KU0u7QNM3PDeCZGEppIp+\n",
       "d+A0U9LkqJcqlVU9QxjMxe4V5wWiAXVz7X2hUEkcgvbIBu6DDirLSkB6X62ytFi1xHsjrXMwRBoi\n",
       "23k/4WJeSt9ercxBpim+OztNcFsiesOQP5sSGoW5wkc38yjAPbcq7Tdzbk/IrDDaOdxl5A3HGLvo\n",
       "zZ1BGOReneHzeHg/afksZWL4VFYt54t3/Hf9K1pP0qpg033ec0POTLSV2EuXudGEW3w0++tbXV/W\n",
       "TzfL1OHthmmQR6IPVUHFMoqzp1QcXRtQTOdfyzhgBiRX5WVO85tv8+La/kmO0HsSZYHMklOP3co5\n",
       "QDWHzfJAv2xFzpb4zaWMSFkI64HEJiEbYjDtCz5R+5934JrTITw/HoIDDZMsJDKJDy7tEPbaSA9e\n",
       "Rs6mLK1h7v5ilXo8fU4zXpoO8DIuXkGCPnMytYPsejoVgG8/4hV+pdupgbZzrYj2YP/KOAfFDlCb\n",
       "c+Afko28P+APuNw+AREopUusHlOjBttYqMfZpF0lXHnSyZGaC4E/9t+DTsSLLdxT7j02EJ/DJYcg\n",
       "zlbYlWxHyR67M59DOduDXxQ1yVc6Uv0xHmi8cZyM2klmNgFAuAnAXoBpK89d0ninH4c+/x3zxCND\n",
       "gVwld+ZkhAQLOdusrHeV3kkduEsmNVMMG/Z4jzBVquh65pjovblc+tWCuZM25L8WnssoH8vTmfqk\n",
       "8z4vSza/UA18+dAwWnRG9TaD1J9lDGVsI+2H5s+SHVWANZOLLVmeWQLhlKcLusWsnTy4W6Qc1hK3\n",
       "lWy4lqZwoLwKwRWbX98yP5cBLAAAJoy3FrpsDsUYtE3TL3kuxuFVvIqfYjjoZ3q1MFTJsXRq06LK\n",
       "CGXjzDp6hB7mkW+cUnSDxxWGDOoq2FRt3I6jf4pVWCtbujN+OSzPO8fJfMPqmvW7za2IZNH4Ivtm\n",
       "sJzTRzypJjeyJ0gkQxOt04Wtpk9pR8wFijYSlPAPe/xLLPTGlzVe4z/sJ/ZxT0sXez2TFb2HS+PN\n",
       "5fGrWLRo7iTiPCfUPMNtVVeW8QLshluhtUxaeuzxL4KRaXWDzZPD3oCZy7l7PrHjbnsCu+QniSLg\n",
       "8rdR9xoYbwUQ5YwHF3/Nci+zL1HxGZ4L2fog8TyKfh5YrePpnYaER/liN4NOXHG3TyRUAHQPEB+O\n",
       "0fmDCiGW42CFp/SOdacVMu4hEherC3AgxrebXZ6lt57G1D6yYyf/mXSrjlMM6aD8AzMo7YaVi/1Q\n",
       "riXfAbGXkxyMj9BfJMwbTj+GynyOugQf/Ri8ucxRM1dfn2kFerYby85cHDMQ9lc0dfLgioxLGqWq\n",
       "oC8rjPsjgmTYbWjjaA5viU+h3WQwUXncbJMFRQhDbme5/pstilZLsiuxC7ZL9VVppiO237u2tvTB\n",
       "5O/8XFIx0/TJ81Lid1cz77odgSOfPeXtxPbE5SBBn+cjPtwUOxtNkNL/OuX1ZKCfXJ5aiJfNNxEK\n",
       "D4e+kd6iysnSzitkRlLacXr7s9KBBllv2aI7NxGNNB+3pp85KO0OCRRDsw7GYBJFOmiviotN98fv\n",
       "2v7QdcgTYb85gFHBdRQSt7HxjJDk/w5CdMPF7EWgfeHzpqvABLah889ax9+imBMblgPrYaNqv1J1\n",
       "XnKchWA3APyUoBO4qNFdLXG6CZBn1McudnDPTfhmtQIMDDg7aUsx4YK15aB+nq/rZIHoQfXJOdfC\n",
       "zMFGuZut1ezWPRkPdrfmFbb69AbsqSG8ce5lixqUAxoRYZlB7as0utiunTvSauqfa0rMpUAVXLxh\n",
       "AvM7ve5ct6bpU3I6pDH2Liipvmm6CJ36P4Q2bErgqNdVz2PS9ebtw9Y5teX/nqV85RZdGzRifMIC\n",
       "0zU8GUebYKDN9+EEwQxkfCV2fhSi+XMCQCt8OqcFOKfm3Ze0eSfcFeBM2eF9u1QBZnSjM8ujHu1u\n",
       "ofWurCo3bI4uE7KiiCGiDfZOAahRluwQIip2KprEJVRNXyv+5qrTvRN+1OyIMbbeDZiEm05erue1\n",
       "k7Dl9uFkfPKCqrzftDROAKlgoLlA6r2CsAr16w7wapAs1sr3E25kvHP5yrhsvf+717jJIxZIg20m\n",
       "g1UjFgHkAfhl9T3pL1prSlWEHCQ5ocN78Fs8mZHyFt1mw5u2wAqyl56nKeu54bJIuU+SuKN3Ljx1\n",
       "M4npOALIKZiyZdPWJ/CA3h1la6apYFeCQ3ZPEum/+4TIuhV/q0CavAnGVShMlm+nMDpaRLime2ae\n",
       "nOMdlF/NgoHSd+5Fs87L4bpb5qo0xBlYF28kH4rgeEzrxMfQFcUwFdScj4JdrB/JhnY7vW8EPbm1\n",
       "s2QwfRT1o44OXeO3FByaOGcg1P+wPt9P0rEFYOFBzEliVS6TgzgB9N265P+S840oDOQgfCTqU9v/\n",
       "ed6ifJ6zETWcvF7c1zMA0jF3LVoQmfrOXLnD23NjPL+rBNW7SbqI9G7y99OyrZnzf6QqtLO1w9N6\n",
       "58VkS8Y51bU3fTOcTWOELDP6t6r1JjZswjnkF9QQegjGT8/4Iiz5gUcpfpU04+VyC7qZAv8Pcg0P\n",
       "bh5ENIJF3sRsYnO0T6o/YbsQk+C+Ce7Qe1kXS/x8dK2fwPsxtUU0qfWRLKmGK9j2kuNGpqOrwyvO\n",
       "lJO4t0GCRWe6NxrWkVl6+NNeT3Sz/xF6AAM/QDAALkZmYua07V2WqW0rnap3t3O66zhOkWBjwVfZ\n",
       "lVjHX3QGVBQtZnMeaICsqZpvi28GZZvAhVxNR/BEEEqbO7tWq9yk+vSzp/LW7d1X1tLGPORAqvLn\n",
       "47oFNSLRj9sS3Zi6AABm8HrTkcQxZW1jPvCWMr4AxpWpdJ5u8h1XplIShsuqKm8qCeg+yEcx7fjF\n",
       "h5x9aJto/0ufSFy9KcXyxQTt0PhpgN6eHv/Wl8Az6kcUG3xaVQUVqLYn70ixpJhUpPl6xv5xLYGP\n",
       "MKUsNEq46xfbuB2daoaUgPKlHqrjCwKhs9oHazpS0ksd6NzKsohPlQVDyqbjyYmwgwXDAsXdJLTV\n",
       "U292pY5NbwVrZxuDP5kUWtX8IN+b6Kc7TP3AT28QWwZJ8vJR9e/zkixxstxXkUYEwrNx7gy63nrN\n",
       "BiiGn57ZPSUh9WdeYzh39CVWi6tH1+XWmQmZCMYPZo2Bn2Oyf+ypihq8YEJxXWysOvJBldQIMrqX\n",
       "s0Rf07rPRxJkFJ9LJlDMLlq7biV/1PfrnxTY6Y4FJvkXkCRP+CLmczCUUvleQ9fY18lHtvlm2eET\n",
       "p2CRi9X7983b3cukYdgP18DMhtesJYRWvPTp9ZDffeb6zdAbVoxKaqeWAxmnKvdvfAs70QuLp8RR\n",
       "QVZEzfgBoOjHOhnmYic/7Oh+gipBkL2hQxbpnn+oFakTMsdNajBOvAX6az9mTqTDnZPZtFW6aroM\n",
       "BaOJFF1bZ79bISB//mPfegJMGlEY8IGYKjnwcVd6eOEyZKPkKerbuyjQIhFdjScZhhDkA8t+qli2\n",
       "sofPozVuUnRruSgZlUoZuAg/HpD+lLRrsfaAyvq0PkAWII34I6TNe3Xj4/Vgi7Tk+ce9MX8/3clw\n",
       "VVxSwBoR7Lq8YzEMSHdAkvBVp1ioScrmwG50vgwB4V7oAn8QmSnjwKR03DS6gJvplYiPNk5P3VDn\n",
       "IT/yFIDM0gJ+DDjmcjxUF//2fOIM6sDvJqg9VAYaKu2HIwqERRFbv9Ks68oAHRNlx1I+YTuYd1dR\n",
       "fa861XIb5G6nN8MkXbj2va9xPYyHwh8UpX3hPbX5MPUNbJGswgJD2IfNKVnuNfVv33Q4WamBzDTl\n",
       "vjoWNWb1bBtmX1zVH0693Myjm8XmDd6vCzCrrhxnfpLhQ6o8RHR+k+INyY7eqDYnC8hEReE20fpz\n",
       "ZVN28Bcq5qzM+B6EVi9n33M836L8VM8quTxzCfII3e9Yu/cC/wJNQtx4fySmNPvRxlesX2ll8qn3\n",
       "fh1W9Uyhiu5BxcrRQg/ZLwrIacTjdUsnzake7IdSoAKubiTuCJqEJb+jEegyOmYK0qoDcvnYkvL1\n",
       "ggOIh8Zyl+eqLsBvVJ8Ltc6sxD3/DQhHlGOLWYwxNxzdrisP2N/CjgKkdyvjVVM2A3T//PpDv7eP\n",
       "me3NBZtJNQC1D32RyManXu2aDRSSWv1+ivRuHeAU4z3BvzgEVFG+QihzHZlvFf+InascdILWGYiA\n",
       "4hy8MuaTRpJNj8B6md6aGNq8n/UqCZ531QCQWN8n2DZQXEHs/vok/DS9bIJoNLL/d+vJq2IRJ1V7\n",
       "EzhSMLiMJy8gKMhUz+BOsbBW42VcZdzPFKHJWyP8XN+vAqhbKqbmKLR4b6YZkkCQa4JO8KVQo0xe\n",
       "499J95Q8vm+9KBT8ecX57h1OhCkRpvU3zkOZV0wneTPN549umwEp1cjqk4joSo9rndmPZeHnx2a6\n",
       "JWCj7qBuSpoYbz1QZ/NcwiWg2nlhx6iBplfjBrXdIhRoU9/1N1cdxfnsLxx+cAdYO0L+BnNA7HWT\n",
       "XDFuR+sZEH5qxsYcQd1EjOBE/83EnO36Yx1uiH/i8M1JtBjWYhm+XBeNikJ5Ls4QuuPvXNQ78GbE\n",
       "KjziCjyvGf5+sxOV9DhGeTJLbakzj7W40PmcrdIDljJTWNaelMkRTyOzKQi+UtiZeN6mOLcOY5pC\n",
       "i4fUvRUex00/xEN0oQCR5MXkgr3JgkobS1n5G1T6piyRs53dgdkfy9kAeopHzuw826AY4dNGrl5H\n",
       "+ka8E0/bQ5G4mq26LMebv+d5Ngk9UEmuG6YU3A/2BMagryMX7DFfECFtXUWUandR6CTAj0qQcgJk\n",
       "bO18h13Q+9jHYTyazQTZjy84ORmmaEGwPuGZsBPmLTt69qTPBnj4g5BnU37L6PYWWBBP5q7l4u3k\n",
       "nf2bPsRfCUFtf5ZNp5eQkhh8pLeAJwcqxpgGGxGbHW4jfXAnZ0UUaYfSK/q4Di02rL9s4mWHL2vV\n",
       "AMT4Q9hq8KyGqkYJm0D53Mw9fQo4muUKDyiFkNloCKfa04LXUzuulBVXfFlJcOC2r/IA8A4HvzWY\n",
       "OqF4HIamMBRU/tuIgj8gVQuvieMrvgMz0cV11NRK5HvxwHx199oEAxZu/Bf/NX5nMAu4WfIvgmmK\n",
       "5FMkq8fqt/TJZ0RVQaLQZMXNMUFNm4tCkYANfHkKrHQdgGpaMM4y/vgTb/Qj93SMYgZOYGPqBzQt\n",
       "ciFfkQWdPjRMW9aBNqjFoI26SGRu2MS+9+NedfT6kgL1FQ8qo28a9zFgpZgsQM4IaKmyoLEVR/tj\n",
       "j23PKUBpJywuZBX1kSG4BN7eQB1dn2VpfTrubOAj48bAkJmAoRZjW5VGqAKKEmLydP7viZG7hK1u\n",
       "EaDq6C/Vd7zq7hHG3eVofAGz+xpAjCvBqzzVQyNc64oDEDRNBIFRuW0g2IF4HArMzSbrZP7aUbsY\n",
       "+oOrpAkRrjNFmwbLR5zCdbNyv63zDXyIrHETa6/1lIxjQSTjP/oAIl2Zve05/tWPlScBmXb8HI1e\n",
       "XLqwR4Do+YdUkuMf8psKTVmCv/+fJfm0M1aRv93o0ekkArZ0maYivg1eQ9w3uiIAm7jhWcJEG8jt\n",
       "hNhHFU94DT02UOkmUCjlKAG4BIQRg2cZ25jQMXeLYTLrPSTCMCFurnC3kviYmro23YLMA8fYqGIh\n",
       "/C6Y6QQ5hM+KB4f9SU2eLptdkvrqL6y8chiBi9/cwqNm88Pd3kLhnUq1mVs8fuMsu2crfxndkN7r\n",
       "58cmEqTIotFfgv5L26xbPq9ZO4bFfKxeuxCL7ZCoRZxd++JZz5TDNBTH7H/dL1lWusLTD2PLv9N3\n",
       "fS5sSla85FOzFjJeQMSMVJf1WkweeUATbGogyiOTqPe+UsFsCc7BBhd+485h0Ku3SiwxN+ZIn01j\n",
       "HhibvuyPJsxnF2BdmbPPHvCTW/GIDNFUysE29+CWW1ilr2bDysblCsPT8eR55ZAFw7p/9PwvQ5lq\n",
       "5tHbltpyONZFD0lMErbf8KQwZDaDURpkNcjFMDBUc91+scwtql3R8/QW56dn+lmo7NdFlQAc30lF\n",
       "ikEFEmceQllGrxFJ6crcHDnefeP5G3AcaBX54yEvQp9mJjNs6p98abUmpFNaODy4FNv47cpounlZ\n",
       "qD8dEnWj3ORrk01rbqD1XTVBDJaqqTGXEX8jtdOs8jqhemVi2cH7L9a5sm8ImL5k2Mxcr3BLr+1L\n",
       "Mp6FS3vKpzVl6pJVuJtWajhnVNMnDycz36Wf9SvTIZAJ6o1BkyoO77IwvrdxD77qL/sriSxyf2mX\n",
       "Y5Cz1KdrfjwknbcAD5FiqgFq4uzLKlqBwDV3uMCQKoEZRWqR5fyM94rU2TLk98SGoYVg2hmxMg1w\n",
       "eK1mQdK+yE6zsXredDlQxPglywMlnTpe+99IM0d3C2OFYKjlmaYXDFMvlDRJ/nge0CicGR0rmZLa\n",
       "BTinyEblW2z6KKlQwR5vclSnqnBwjSixeUmEAZrr+nbJWtNhUxcmJPLZM/mcMM+jXBURTT2S1Qc6\n",
       "2iKA75aVvyxG21Fc5JVoV1A/BFdWGaXFb2zuyH/FwAQBtHh8nPBUiGh0Y2scNLFtP9axTfkbZZ+X\n",
       "v00BZZtgJXy+HNn5by1fGF5iw6FqN6ys1LxiW2z3qH1mRaNX18PdGBvN6iRQM3fx2pN+hC6FaS+r\n",
       "/pxdQn0/Cp3ZTQziBRZpdgt6nWIfwrCwMdwhs7Sb/rHQT9IH1k13sMz9KqJLwBQO87DNg+P1X5Y/\n",
       "23TsiPJr7Rf2NMOAcb/+HgC/2tGX1dmTqilHuQ+vuqz+21eLc7BYPeNd5P+jAs8qbXB0LUTEZJYY\n",
       "DqlS94asMW+x7klCulEOlI2FuYdR0yUW6/jzWIh3pD2MOnONVUWtQD66KgFQDbbwC/u+O1pz5N8m\n",
       "PMjPjsVLvVFAvIp8PZczX8ax86DTCF0IsHeYZ7Ed57QTFDEy5WxxfkaYMsGy1swZQav1phez6fWE\n",
       "dLePbTfhi9gcApqCheZHDDkS23o6ohuxMH/xHEPfo5HtHk0JviJcStENr3OuoS75vxJnYEsGDE0g\n",
       "WbPPVQABtIqfuHlZq+90DJdwC7NbtTNgdQVdK1av8zzAvFiu1NgOGLlHN8dBk+NWy+fDJgOG9Xee\n",
       "l93nwHUfqj1biWGMgMQedL83QohuKvGfBPmSh+RIlKk6+73pkpa32gr6JSumTeMKXAlBxY8Ubucd\n",
       "FnRM0MP0cmEyH9RnG0fzgXLTXxsffhxRtXBhMGDBFxIXL2d1OLKAgzR7tXvB7ofCQu7YkejtdkVb\n",
       "35wu0FW2R9kJ4sEsfCjo6bhc2n62WDLbjqBzKBd7NMcHtz794uB4fw/i54xnufsPWtoMMUvU8bz3\n",
       "0YVBmDAIHFPKR+8SF1hC07Eaep6f4slM4Qi4sKgDdikcQHKS6JplmDuOKgT+7aYnRCI4n2QrDHl0\n",
       "UdND8A2+lKBrQ5WQbzQX6NJvCS+NGZhe68mWMffE8MZD3TrS50PrD0l68gIi+k6suew/BkLMvNV5\n",
       "gLFEQYCnvRsP5qf18LONuub62frn5Lzs4MQ33RmIMh/3JTJTfHScbBB+N7qUOApEgQMBfN+Z75in\n",
       "DVOWcO9IPHiW0kTmGnWdla9FrdjZDX+pOa9AKmKobjEdLCDr78UvNSZxouocwNeAEEgrlyfk5IgH\n",
       "XQybgwYvo6ma/cZOQOugJTys7Ean3D3T5lmHr5hWwkvvxPHHCejt2Z5yjXCSlfYS7skjxCkIE41U\n",
       "yE6wUCrSzr0Sv1LFzAbmYAUD3VtRdR+Kn2Yq2eQMnpaEO5ZXBm1g8/LkODzdVbJ+ikQ42vFjrS79\n",
       "1Unm7donFN89R3gZd4KH02YLz6lv+NrG91L9JdlPZwuAFCYN34DfcNlM28O3/GyodHN8CfGj+W5+\n",
       "OazMrebZL6GVJ7ztA+6fAPkvWZZ/0TGJedkyE1Jxf7M4oO/cUPSTdaPOk0ayOb0ehieUW89N7GP6\n",
       "jabK4Z61fcF2tMOhTXqR3AmZaZXZGUIUq/MwoPZ0v3Ca2qm2G/7P8R4wGdEwMshFZOXnQYUisjKa\n",
       "9n76u+zkQDDDm93xQUThbcaBquKT9HZ9z8UbGZLQG51f8Engq7ul0np8csITopwLTvWjW+Ovhalm\n",
       "KpC40Asv7YhjAUQbIVLYpCBF2f3wmLjCWHZ772IJihuu84ScEqZls5tqKPw/8HYHKUM03Abkj8uB\n",
       "oJgNo1fXMImB2HULoCOSwcypLlYY+jZ+0n2DitDIryub+TA26lFTt7yxMEEebMlzcBrXXaYERWAK\n",
       "Nrg5bfN3ppFpwOz9AIM8ujbRomkAgPuxZV/KITEbHpthaZHkgkDy407M4WEYrsgQf0qb38+DtxTP\n",
       "SccMQsNpWSCZ3cNxJBTNKvuMAKAfdrlx/kTU1NBNDYEihcnazKqJz+aWlOQRrXmnlVAYL8nE6z6g\n",
       "IdAGx4zX5xYy/9jm2wzvCceecxNPL2te7X+hb87ccN+Xxx1wGWGKMu9eIBdPgrR+QrXY0C04BPCN\n",
       "RN9CO1EfS1n+5IeRJJ5P1Jw6vrM0rGWw4JsdSO/i5tQWJmCgOhNZ0wSpTHVKJ2TIz8A1T9Ei7XLa\n",
       "r7UA7YWxhurMEqfT3Pg/MdyEObOcwMio6QrkPaNQUdK6yIxmz6xNsJkAGBsesW+KigWbtr9r8CQd\n",
       "ff2IxG/TsDN7veTmOsmT4yVcnIXsvPhTokjie8G5mDKU7pGbff/pO2vtD+hUv63Nv7Bk1ESrDwAH\n",
       "NuJK+UvpoJWGiImztoXRj/41c5731YFeEwwx9c/WufJul21TpShC+dmGZ70C7PDK0ZCwjKJbJHai\n",
       "P8kizZSwmpnYmNbRMcrh+pMyFE/ClfIxnyk2QHpYRa9TPcDyjDQlO3YRGWhw9723kpC77aU1kLfr\n",
       "WHqdEhRGbUa4yt3vR0QexsWIAVNwWVZZLRJXFLP1YZ8wXCda9iVEEm+1uQKlRnBGvA6JkKNsKSe+\n",
       "y2y1NdwALaiYrWUgzFmV7yPH84da5i/R94V1Zmu1iCJ6TTCtbU/s6SoSDiMPah2pyPD1USnlX8Jq\n",
       "bpFbbgTjN8rMZts9VkXvncehP3+cecuYKmvAqdiQrIqX6zv9iOe4osVxnavFwesgg7+dB1ZynUHH\n",
       "IdYSRvBSnblUzF9yMd8nnKgqcS6q4pUYyxWAFg7ullt/PTZxulhk4KONexT4RBqgWeJERS4yrhVI\n",
       "gZ6XE9lrWeycY6q7LbI8c5EyO3E3dcwywA/pBEaNtyrrTtTEtT0r+u3lhzMsfPxXhSz65jbtNUbm\n",
       "N5snP4pL519JtYTtbpsITguW5x8OgU6I8h7EuU4dfv55P57dRpGR896AQQ/wuDdGZ8NSVQHdOBC6\n",
       "J7XXNzAkkORWeLhAInYPmv0oFBXEgrqNR+OnGP1go3VHziX9LJEgtg+Es4gVsQbryMJaqmQyl7NG\n",
       "0TSQ2eFsH6+2+S1Nkngih2OjhLYN1qDeSFw3sGUnHcZ4RfklT4OO7okPTdJJ+ztvEomzrMWbnQFC\n",
       "+eBXfwhDrOYv4IHTk1ec7lz3B/HGUovGTnwC7QTVPEScbhYFBgLt/CYwWWAsX0pTc85b1XVdstB0\n",
       "MSi3E1k/Zlpk2VzxStN+EPrF4ioQoopNpCTPyNVxnyWevHbrCCeeTfY171ogtF3fIAjovZcaAh/k\n",
       "rJDGov83ILwdg5ouYQTsyzP/+xGyLBaOeZdPUvkM6RO7p629L2TUoC9ZrMx0SqTgIsRG7wv3UIjf\n",
       "EeEeY/ik8TKFaxJtGQZwCIEOHtb8QKjtk1A+vHg4IHNZLXUJFkXonc4c6ewFg3KK5K74rxH8bwmo\n",
       "c+sScGtxikZigWaBHqSiP/XIG3yayWx0JX2/8yyPM4nt1gc3FZUlKYI8uIYTN5xk+BLeJ6c2W9rK\n",
       "ks+CweKgkwJBLBCswxLvJQbPkoWBqIuP1D2cb5oj7yPY3/QghrsyrXe+AuDL8SjMD3w9cKdMmajC\n",
       "0cvkNxoWmHFOPW1n2WIVRCfHwXvci+xgvqQwe8gdclR6EVVGbeUoLCow+oeq7DLzCrTRcqWUoTNW\n",
       "TMOJNaTfj4A/SAPl3xC/4Rd2v+/wIpMd5aujiujctBk5jWRSzZUP4S8BZXlzspQTUzaZL8+7wi0n\n",
       "KkVZaBA3dx1Kiilv5DLRpXo/9EfXFJUdx5WSerttzAOgm6reQrRrsMBQ4wgjI22f4drTfdLItBUw\n",
       "M/bt6Est0BmNCZ15qSJZN5B0M3QL0M0HtyfDA9TtO3g6kP22Fm0aJdCVZEn/UBBOYb+eoT9mHOs9\n",
       "U+wfJ95qRXLqhE4ossYRRwb9nyOTzWgmLz9e9fPnNznaY/zT1V4w7695xQ2hl1ybKnFX51PrLY5N\n",
       "Vy074aUXkxanS7xuLGLbBIjPDVCIz12UOPSRzjVoIWvqo1JLA1uEuCTi+9gAw8SNjXiP/svtF3hz\n",
       "joRMPT9L7HsRCwSoDiYbj+gwkDfB2PpX1fdxryVLyT8/ebKuyjmj9xGuIIQiD9Y+zMOhtq2HUX1F\n",
       "fYQe4WtAt7z4t0xNMJGq+jA27P3O5Q2KKi7MPLOydh6poAL2T+AhYdqJtkmz9KwLqeBW+KsrU3Vu\n",
       "1iKkgITAIVLUIkE6r4fWSZ2e6I5sOqshLt2YxvXIiyCEM9dhIsUC8dBYQlEGoAP9JRN4BGJffa+0\n",
       "JfUT0KzKasrKnSrrjzLkJba6EJUm1sKm5tsxEHGiybIYwKtL0O0f80UOO2N5f2ScdXXEO0AjqThR\n",
       "g3HrGu9L5zL8oTr/+CCaq9VrN/HwIp5mxdPe7+mIlOn9AUOHZka1GuCUzmV5jvBKrRwiJJ5Nctac\n",
       "j4J9FC/xx4dT8tsWoyRVKFfeefXBZdJV1LrBM3oid4oaSVJRkE1eh5w3uZuB9OL1LOXDR0rVruEv\n",
       "e6f3OMq40+AOiwD8UpnFpp9/NEiWU14O7YViBQ2MSwOWGE6tw7Dn3J6+ik/bwy7zE9GMo0z60Erx\n",
       "yyWGKUqDHgBikYO59V8aP+6hVQgWvWenQRcnTpN2Ih/P9yqCuRRqJRjQZBqv8PFmHqRF63iJr5xQ\n",
       "rOXveJI+YUygVtv0kob+RvYWAjo7ZFqvxGjOOWdVv5lBYgRUX3BJZdBoM9YZJiHMbiwMi1ZbekWi\n",
       "n1gfPAL7+rKJiH8JS9jdN3IHKn2OyHkDoZMumFpdO0u+Q5U1KjETYnYDMNUBW5TRK7veJGCwqcde\n",
       "xoKDfX4aKI2ASfLp0Ay2rNDsGYs5Vuu6LKU2EwSoSJo71X8fvuJ105QhJYBQ9S6cmYRaRZqZPfuM\n",
       "tcL5qF4FpS/PAJosfg4ahPlUVtnTYA8cfM8IIf80XiN0V4XbI+aebSTImx6UqlYkEwfEp69nnQgM\n",
       "6S/wyHECjaBZ+a4iK+JQGdgnjybSNUOKQccIWIekGA2wGuvA7UWd4ZvXgDAX65Cvy8ZeOiNC+EVM\n",
       "SIKxJfopApYlsFRMiEfUb0pZWFkpqWjFPB1WmiD9eANGje1mHjeAhi4t+juazf/5VCm6mSQ+saCC\n",
       "q7ywt8RuLzMGFPpMwpE+uEkd3dS0qCFT5XRQN4ZM8ozPfV9RqEYn4ofD0PlhpyxGQxJTFM+isxxW\n",
       "8GwM2xJQzRXIKg8g6gZE8jj6nGkuOXyV/CR1upjIxJkFL1InqvGVBgF+mTZNsD69Q6ETC0UGX2f3\n",
       "KLlMbRfTbCuag2Te2Y9dNQ+MAyl3ldoZaTI9OHt++61Kc0kKerwZMba2gJ9l96FfQLsA+EoOa0S5\n",
       "t+Jev4ue4gK2bZ1tA5huLzaZvlFKG7wh977iSX8vYoJt3StE6+rQQEaUlnSkm1pMI9DLE+Dhk4O9\n",
       "WFCMTqs36H84T17d+QIERAoLV6ULaYXA//ckSBqrpYuWpl8/X2pFv1s3RlyYqAoSqY0eAw0rQP+9\n",
       "XaSCsFyS6mVAgWuoEE0JU7b7g7cZUYJwjf8ypxb7yy+PFl0QflVcd0O3r02AGsjK74gqmhq9g24t\n",
       "VF4WqxQIHFuxlwJEo2nsKJp185Qg+9W4ZT3t8d/Exes8i/1QvzT711Gwhx21I+RPa2xPJM7T3bos\n",
       "0MjFH0FJsBzBxbvj4xZt2T8l/c/vkJnQRr8eE4t2g7BMwTgqozcsqNzBGFCea22HjXod+pfUBJQZ\n",
       "KP1qyuTPVXfsHu4eYm4hvnpI3XRKUr3+EX4xilWJ+7wkgVL+11IJHP3bRBpy0AG6DbP9KBTx34Rv\n",
       "X5fP+cHWS/3h3iCPV80EUqQvdDoU8xUEUifWs+5iRSxO2vEVvFRJWUEDDzvMr91LN6wzxqOhFVVh\n",
       "TVYFs0NR2yHNngMkdrKCTjp5aRy/oP3QpLfnfW7mtRXryaiJe7monhEkoJASpACCMySUV5HSB7jK\n",
       "o/Kulz30zFlpmtk1E5do6qD8xZudhQftPcwHvU6OAe2NrM/6ioQLn5302LRmp9WlPxDLxU8AJoLU\n",
       "w4tSRBJROeYZjwfhl8iyNVYjI+YE9FjswR3j0lkLGolF4eawTm50n1KWK+DBKcmzDFTPcHgkwtEc\n",
       "08fOHiXPlHoDH3wruAakmtQ0WsVjs8yDJBlpCmPyscqUIL0wfSZDFCmMv2zsq3cubPP2g/obx5bU\n",
       "Roflmq8IZGnlk6kACxHOAo/JKcUt/z72hPjcUhAcnlamBzm1B7y2LYefyGA+q9p1RvNUH1Tw3PVk\n",
       "D3i2tZDDu4RMcpq4SZzsEy6Z8BpS4hhKP9rhiQW2HJvgcOPnVLb3tp73aE1AoRfz7chJJLY27oEs\n",
       "oqTVGWJJyBfpqpFR1/VhcOW3jXELPfN+jL0qAkQnWvtszvHUnInm0akpW+ugCZIcKktUx+AcQ3qs\n",
       "UfV6OHWy0So0Rha1MuHhqSuajb7uIU+HL/3y7vWBUTn9WusRRmEpuhpiP89YHuLnByFF89nrjkUy\n",
       "t4PbBG2bR9P6NYu3c/4cQZldhDqxn8cKvV+/irv8+Ir1gJ27inFYJyz4Ty0J+AlA1tvd3x63t0G2\n",
       "m1b+KEXCuzOv1U4MiOQadT0NnMNuF6DdhM1Pb/8sW7D4caeKBRguDEo3h66imUCz+6kbrcJIyrFZ\n",
       "dvH/BSXCs66O0D+WOCn5xTop0lKU0FHROSMFA0A8HLHQSRzEIKMam7JuvemdFwa7ZpJQ8QsVtvga\n",
       "RwnBf6ulTtWRj0462az0Y3vn1alGyFIaLFC8eJsR9ZTJzmxMZBMBv2ekJRxrdwJ7iKswT3ScCFF1\n",
       "D8mGM08KxLgplpd4vU2MDdLib5jGs7v2ZfpQsCuNOqaV6pkMi1UJptv8csd5SNOR1AjByBxyfYbc\n",
       "Z0/Y1YOrSQUeqTK9Nkku9sFGGVj8O540pgyaOvSJzJQZT8QFVXYINdU/BbHst67a9A3u4xkJ0ptJ\n",
       "YfF6vQxzi80Fwpaa3NSizpuj87n5w8i8UeY8+2ljRRBzfH3AGzEM+LNJL7XCFD1Wv9BZ5kNror6o\n",
       "U+mXCZ7u9xJ8HUUSZWSrYkMZ/YFFYkj/SwpBzYjTE4lqOOYGunmkq0BBx2ldFLUmMedQNDmaouon\n",
       "I4qDRXlIPQon8eF/zuhg9tmLVtaqr59HdakO0rdFa5rpJQ4V9parU08hFnOhuOQiXvCCCSOqcKJk\n",
       "xZAuW6m3HB62wHF/a5SjQzk7Co83xEh4fFnqp042aB8VXo/h5qmWtbTsLj2ur0lhdCYvA02hcSfB\n",
       "O9cVb4H0mQgjl/3iscuH1d5l6qRGXlswsk3uMIfPGKTgqMz+xox8SW3pTpB+/MeWnLme4TUVel/O\n",
       "CRL+Wf6K8ztPvV9qdwk4eQgA20cGYV2x3xOo9QhDbbqW3PmCPHrZPHlUqnFPtW7Hchwmommylu3D\n",
       "wN+F2HrrqRAYD6KQawql1z07EQXXtr+zu9enHX2jwW9CYZa5yl/c8g7XaSN3Z+/1zOzknUdA0y9x\n",
       "EXtHIDrmhao8djCCZWEz508MANP8h3NrXXgtF2V5INZOwqXUmZk5qt8pcVIZV6jWe52arism8wCr\n",
       "0j1NLOKD+qgMefq4N3ty5of9DUmGAGY9ppCCg3rsPdSn7iRv6jLsO+ODyDESlEWpczy6f/lyqAWI\n",
       "lz//70JXzCICST2J6iGB4JRtaZXQ9bsWVWzlsomEOG4soUWBBsj2cfGZDvW0l84qsgH/yEZjBFtB\n",
       "tdIF4qccQ2ygH/sufcN//4utRLs6XHgSREyo49Ow9T9gchZqMRnDt5bWWY1AGCZD+9nhcseL5jJ6\n",
       "VP+BRozMduaISqo4OPtr18ETXSZfbnNUTXDOJ9AIXDqkC0mEGKpHL3NW10Eg99zmbpYV7B4Ne8l/\n",
       "mTc+jy1Q39DGgSU7AQGZmu2eETGfxVHm55V2de1OXR5Sd329qmPe4NqhWZtcRH7lfam7pIaw92Aj\n",
       "RGv6ugZEccDJhZ2mAIeIw5iVxPgw6huXTV5fa3Nyoyv7rzdTo6cPpRpBWjHgYlEHofeWd3xF5Vk7\n",
       "exf9yeM2wZKJBixb7yTrajT6e2i2Er93W1nP7VfeSfiscny0f+Pui+GBqNkg8pXWO38IAELRJqaU\n",
       "+qY5jybNyyrF5Vsofh+xrfXSoXg+mCfMDD57XW1aqw38LCWNwqtHs4dAeK13oYhlf2Ac84ylZomy\n",
       "455J5VOPBZSTXGEEyxxNvgx1+lheae59A52J2zc44k/dRI7CseHpeSRkAVgbFF4tSqtaHHM2Larv\n",
       "/fnG3xWAW5VJc/oOWuJ79SvRxT+6iqbj37x2Ou9VGxFKl9TnDztoEfsW3Llgv/GVjByFi269jMEm\n",
       "188WpWs5UuHVAg336diUptK/dvr6OsiDRda92U6Jc/YJryhWQEqBBSXyStsoNZgizlcG7p9z/rOr\n",
       "/TWNlFeDblPPBITJ/tXbMLAWYsnGfl1AEUybQMmEJs8FLZx/KhyPXM5/PWHU3m/lA4Rhw258rsRw\n",
       "MRB/VMPLZoYDJRbc1GSymMat8zPaFlnniStqqxeziHoTli5yMkrBetk46CB7TslYkR9B1zVVgGL2\n",
       "J6SD6GWzEQSEQnrUhofvuRCVcCdXD2nDd8ha8TY3f3FALzSuGNmmbhFdsFmFDqiIVxvGr5vgKWXq\n",
       "PbQFAuCh0NnoxQEQ7w6GJZLFTHP6NZ7OZJeNTG/MxpTjOQrh1YX3EOklHu71BGqBG8qf5RWt3PBB\n",
       "VXm5Cq1UtaS2X0wn8zev1KR9bfkHSCbApMI/b25ocFniIwIcaF44Z62dJkEPx45AmaHKdC01rc49\n",
       "rFflFZHFk6j1tGlAVOlrQvlWR31y/rDjowNA2sNNQVfdjNgh5N1ocJYQxET787TcTrJb9ddIw9lM\n",
       "StJGWRwYdEDR/xg1Qf/tZx9hknG4S1F9Y5e3OgCv7qKYpQRWbvGJLrLqD7BRpo/mciYL+rMEZajW\n",
       "6ttPsu0Fg1uqNiWCOP0OI20u5/GAmTrcxnwjKoF16t6rin8QDsVPGSb7J6D+tDpFdwXuJuQG8KJ7\n",
       "XnxMu6bQBjfDAJOVxsATN6I9LC3gsDpiioluHDN25CGE/9uKBIw3inHlL//lMLM3oOan9+t4OQFE\n",
       "yGH1LOCbm5klg5A0ixJz/qYOc1CbzhUznHNz8w3xOiLv2zaoakkViQ0cL6Ug9TeneKjWgqkEBRmf\n",
       "7AZV4dtO7e9K9HBEt2NwKTTR6jY/tXCmowIz0mOORdHRBVDzNYINoD7t5W8TKYj2UPO059TgiRdk\n",
       "y945PogPq56KpOaAOFkdWzb8MyU36B8yAvn22cqFFLJasfgXWXFy7xoLZ52r0843faR32BjWosQJ\n",
       "l2qXFV0S7Ic5S/mOsniafxtuqNZe+cSBZeG3PwWYjR5+ACkUu5+ZzXkrNoc+psK3Cq9xJzmJRD3C\n",
       "vqmNnUnbN8cXTkANSQjkW1t2HHhPBICyhAAmu8d5LCjaKM6W8AkwbTH4Rz5M3cpPZsUE+3kM6yw9\n",
       "lsu4ntoPXjpFd6RzOAZRKdLts01A847fw0LeMP9a0AhBvQx9V6dagkUZEzXLuNTBl7ROC91MsxGK\n",
       "9rumW35MEMCBd8LlWWbLb4fn+z1OwBZ2G2wZJr5H5ivrmXsdZpdFeTFlt5F3E5GAkb99smNSdOFK\n",
       "QYb3RfAyDTcJYkEuHJsKikHwllb01mw4ScGfI4CLLW+8C4zqK+XqHyU4ZiPGQdqGCojZvu3lKS2i\n",
       "JQl2Aa+gnr8R1rXutIjF5up9lGEUaLcloRw2xamQHhrjFhvfWITEgi9d/WjHSV5Gl3Zord7iNQCu\n",
       "o9HAAMCqFoe8vZGAbPIL12W6SGNA69JmOZsFwjuJg6iuJeQHOr6mnZ9/72WYryst6vyN+wsf/xpI\n",
       "Awc8aCOmADnYGKLcmePEWxog/aIyud+JSHikuU1kI/9DWAr+Y/CGt/yAobD6OIvt0TNZSMf0oRRE\n",
       "MRWGLvy8vLC0gj48iOa3tFHm4d3Acq91o650PmHRn+v1Ipc5czcwoJgkvTq6fVTyC38N6ZqZzhqs\n",
       "Q97e5KrA/Uv4l/P5H4fNqoTsWqY8i+9fEq0oNeVgGBcsyXGLIjAFxjQExkbiWmPpXOB495BNgJHz\n",
       "R2O/6LElRkvnrLY7/CeUAD7TVZM7IIjOcDyVBHEgzIJbAAACm0GaIWxDP/6eEAyXFiYNDmLI+Bfg\n",
       "Cc+0/mkjVOleb+BpWqjbaW1OLen/AMeV4Mxn34lYtVayoNVDmqhqYDFo8MQHA2ojD1WnaKpvlTBN\n",
       "t2JJvRzywK6EVa7WaVxswrLoOMariOC32xWB+T+nRJmP+LKwmhyqXLbYwfFz5jVETLKkY8iWtZKQ\n",
       "u1jl4ghZKCzk3B/x5x4NCwZuBV4sj0pOrX1FXTZEQOZbSVIjVOposfIRZRC1eMN/S7fv+rmo/v/+\n",
       "F+Qon4SaAj79mQtdDf02S70Fchn1Zl1a5pDqTCCviaHqBmi7y56MHRJjzGKvy6UMQZcY3L5xlHde\n",
       "ohPzJ7bs7GQIphTmJVLCTAZEaqNmxGn/JdJTcDThmRmAHWRpJbN9040I8CBI1Q5ubdC0vetarVoS\n",
       "MXEwH1ca8dzOe3+tOu9i2Nqz3DNfYqocAFS5/0eAGoWneMWcnYIRmLyEJG8H5mC8r8w0SZ/S8MmG\n",
       "iJ1eRTdnzVIWM2io9bBPUVwInJPi0lCQ7eYzaIzJw9umFAtwUFaepURSwt1Wzh1AGML8Vv5Ngo09\n",
       "aB44Za5CXpiQBKDSgyclaMOvdhzBSSLj14vJZBrRs8lQEi0QwFmyTrDzjhTdAdcH0yZ9KQRT4nlY\n",
       "RS3YbS5LWq1x2YTDHPyBV32pm6Euq6ndETKXS1ctgM9fHqiQueB9BPDSk3UxvpoNo+XO7YQTH25c\n",
       "IeDsaAJcL+VWoxbiEBsSPJ3oZGXuhHhe07T30+IjjdXVkHRXwvpzC4NMXumMEHsZetAq3Rk5CFv8\n",
       "t2Xfr4oIaj60/ufjBGzguVGzX8+15XSytsZrFSvSdnnKg9jdPTzv4oBl7USoDXxDWKKqEL7WVTOo\n",
       "/jlKAu3m/EkjlBvQkMks9vSz98AAAAC9QZpFPCGTKYQv//6MsITicnOfAD2SYdrKr0DLjB2oiTTu\n",
       "z44eEgHiFrVAQcZnYZ9fqxblE5fTblbAzT/ZqpJKxlQ4QvuK7Ux12EaFY/cN1jrzG/tj3KX9/BHH\n",
       "rCoG2jn0DHn89nuNXXWgC3zfqXL//3mVaxinjTh3xQD6SWn3nHhTOzo6bkTbs1DrOW4/Usd23ixB\n",
       "dS8wU5j1ya17+VbfJYrHUD0a4RAbaPXeznG5S4TE55iy0nZ8Fz56nl05AAAAOUGeY2pTwj8FVTVi\n",
       "ijVl/ziPlMKaKdu/1G3+sJBMDeSG8lsWjwaN4Qt1QAE40TsxvpJiZe+XYInQEAAAACQBnoJ0R/8H\n",
       "4n6wpmZ08gNZ/pLAgZ4PqDNEHkV7KaNiQj4kmjUAAAAfAZ6Eakf/BDPkQhmns8VCbvAi3QTAAlq1\n",
       "byrxWOBEgQAAAItBmolJqEFomUwIX//+jLAAAGod22AoZ5FFkOGN/WCMEil3R3qNeE2++Z7n6fUT\n",
       "UYm6Njo49xlNaRSaORqLXf3qiy/zZEpfMPRxFHwObW7ed9pcvVsCzdfHQOsa1k2/2aAwBjFNRC57\n",
       "KxtXF9lLjnJxxH3J6bdG5rRbOf7FbynD/O4oQ+dtOoxrwTTBAAAALEGep0URLCP/ArIUHB6p+6au\n",
       "0zwjo+LceyT0ImMANcHwYAOB1WNl6/atynE3AAAAHwGexnRH/wQxiOJPBkymGYWAsQyCw8wAawhW\n",
       "Oh6oGccAAAAfAZ7Iakf/BDPkQhmns8VCbu5xtnEGAAXQBO3H/ucpIAAAAHlBms1JqEFsmUwIV//+\n",
       "OEAAAydpNxgP87VFbQBb8Izh3I+mJ5iJFToaY5AbY2k0WwXJhuDw3KxL5LP71S1cbNQiSY2a/Pm/\n",
       "9QwthQbbAMP2d8nb+zvGwWNr32TVbQ16zMNkVQohwNZIx44eyhj8LiypL8nXTvtck7fnAAAAJkGe\n",
       "60UVLCP/ArIUHB6p+6au0zwjo+LiZxDAAna6twqzkhvHmFbAAAAAFwGfCnRH/wQxiOJPBkymGYWA\n",
       "tAoOpFJAAAAAHwGfDGpH/wQz5EIZp7PFQm8n8zKm4gAuHOZ0wnIntmEAAABCQZsOSahBbJlMCF//\n",
       "/oywAADKQf8AQj005EDDu1Tr72WKSg66rLJK0Gd89xRWg6P6g85ehxx+ilJeyROxfdpP7GnjAAAA\n",
       "mkGbMknhClJlMCFf/jhAAAX1m2YBMNOOJjEkyt+FWxrBiFmTIVBb+JURUl51wtT+kTkSadHkZgbz\n",
       "1+YQWLlCB3xYDjtjze7XK06OexDCitn48igI4oY4UkNh4axWqA01YbgP3nlJZ/Sz7FAy6D2J1lVw\n",
       "ESneGPy/6TodkTQQ/gAmy3cxOybj/qr2/nW6UxBaSy/IJNR/a5f4VMEAAAAoQZ9QRTRMI/8CsdTv\n",
       "ZeCATCEYU/MAl/hbK2tP6FAB9bis6XMUQWik3AAAACIBn290R/8EMYjiTwZMphmFgLPv2TAAmA0r\n",
       "QeafvH+eoLuAAAAAHQGfcWpH/wQz5EIZp7PFQm+O7AcAC6i8da6fuT6RAAAAQUGbc0moQWiZTAhf\n",
       "//6MsAABioCBwCaGZOReL07WRA1HGz1mNp9GfglLYvbu/vbJWpSA58CgXNUvbVfFHAyt+9aYAAAA\n",
       "ZUGbl0nhClJlMCFf/jhAAAvrNswDV86Q/OLaq+gIYNxOK45LVVs81/3LcwM5xGT8ofGx2MIYWv2X\n",
       "TIEP/zLhX9EHYDVF9yGFC3EmjGwk3gjXzLONsImi2Ts+uUdrhAV4UYZFNb5UAAAAKEGftUU0TCP/\n",
       "ArHU72XggEwhGFPzAk4weSeACZyXrPD4gVaxSLxt1MEAAAAbAZ/UdEf/BDGI4k8GTKYZhb8hJAAn\n",
       "V08XlLK2AAAAIAGf1mpH/wQz5EIZp7PFQnCzU29AAC1zPggrxUL0KLLvAAAALEGb2EmoQWiZTAhf\n",
       "//6MsAADFCJhx/eb8AP4LMTI9VF5hAaPczLphGsyNn0xAAAAVkGb/EnhClJlMCFf/jhAAAvrNswD\n",
       "RrkrMhnT/Oy+zu9UtiDxG5glDZawfkXjkj9ifBr3JhEcuGfqTmW+kcB0Ljd9LRZ/MTGRt3HFa4yz\n",
       "5sEvauR/mhJwAAAAL0GeGkU0TCP/ArHU72XggEwhGFPzAkXXP/AEHyiEihw2M+f0JbyzAuEP8K/Y\n",
       "IePzAAAAHgGeOXRH/wQxiOJPBkymGYo/AyFgAK2EyQCTOs3IeAAAABwBnjtqR/8EM+RCGaezxUJw\n",
       "urRwALU14CAQSch5AAAAQkGaPUmoQWiZTAhf//6MsAADFO7bAJhwoXh7dXx8YZ5oH0wx9cpYDGaG\n",
       "CZKFuK2HIiCk1fIWwTY6jBAYKBbOVxpCsQAAADhBml5J4QpSZTAhn/6eEAAC+wgVAAdI9rJ9ALNd\n",
       "ZhlKcaDNOF0xoco0UC6tMIpv49GcpR+kysWqYAAAAHpBmmJJ4Q6JlMCGf/6eEAAFzyvjgDmH0nD7\n",
       "8s5t9js/gi2t99lirPO70Ps9OIjAiav1LJnQlIx3fq+2yy5tdSDhrRyWb8hUy7dUflm765xEiUyW\n",
       "dNGOnhq7sX44v9hvroDxDm4ZoI0zuzxOeuY3O7OY40NS6+AmrVSKNAAAACdBnoBFETwj/wKx1O9l\n",
       "4IBMIRhULz+BdVKe4ANi52yLTxRCmM0AKwcAAAAcAZ6/dEf/BDGI4k8GTKYZihIXIAE6omJGNNx3\n",
       "QAAAACEBnqFqR/8EM+RCGaezxWWnPDG0j5YAC00Kkow3ZD6nQScAAABsQZqmSahBaJlMCGf//p4Q\n",
       "AAXPJ0YBMxh7cmr7oyRaUGNPTanTXcKYsDHLTTZuXD+NBn0pIqWpU8eFFkqVC2JjhqSStOj4IK1p\n",
       "mY2JFZc6y4RTAo9vXGt5PLP+BNfOFEYxBRDFBPKkRLAYi69HAAAAJ0GexEURLCP/ArIUHB6p+6au\n",
       "0z2mOUNwAfubu2JJL/KXxFEhmpDPgQAAAB0BnuN0R/8EMYjiTwZMpngTAYABOcA9HRIQa6BdwQAA\n",
       "ABYBnuVqR/8EM+RCGaezxWS63PmQZlBBAAAAO0Ga6kmoQWyZTAhn//6eEAAFq1k9wAsFGuOyuTSn\n",
       "WH+8h/sblzIsJO/sMchktb7o+eP0Fx/05/8r4LLLAAAAJUGfCEUVLCP/ArIUHB6p+6au0z2O98AB\n",
       "st1ZiVEu5W2xtFuf4hYAAAAZAZ8ndEf/BDGI4k8GTKZqP0QACZRxfFCJlgAAABABnylqR/8EM+RC\n",
       "GaezxGFTAAAAP0GbLkmoQWyZTAhn//6eEAAFsMxzY6BgCJLOxvDUJIzxmbesxylZfjKG72wNcTLE\n",
       "21ZHlWeF9aCFMAKDxMIllAAAAChBn0xFFSwj/wKyFBweqfumrtM9d9qFMM0AJVE8TSJlL0dp/gBy\n",
       "EQicAAAAGgGfa3RH/wQxiOJPBkymbf4dACaWwkRJomWBAAAAEAGfbWpH/wQz5EIZp7PEYVMAAABV\n",
       "QZtySahBbJlMCGf//p4QAAtWTowBWqMXmKfJ7bTzaAFrUck+2lqGwlGCdMUl9oy+Sjm2O5NdM+h5\n",
       "OhoZpSiVAeUtThq97pksNwKTtFCBYq1d90VqTwAAABtBn5BFFSwj/wKyFBweqfumrtNH+VLOK20j\n",
       "BWwAAAAQAZ+vdEf/BDGI4k8GTKQDKgAAABsBn7FqR/8EM+RCGaezxl3V8AA/ceStjkFW+WEAAABq\n",
       "QZu2SahBbJlMCGf//p4QAAtTv7NS8Acw4BQoey71BuW9DJMSQD9ZFCD4wlGbWQHfeD6mYTNRB83f\n",
       "niqfO9m/NTG5uZrJEII3BjfEdnUA2nqg7ffL4eFq1Lqpsom4keSJ47z764GBbLq1ZwAAABxBn9RF\n",
       "FSwj/wKyFBweqfumrtNH7z81jDwh3YuIAAAAGwGf83RH/wQxiOJPBkyo03QwAPw+uiQNQ9sHywAA\n",
       "ABABn/VqR/8EM+RCGaezxGFTAAAAUEGb+kmoQWyZTAhn//6eEAALDqqnACpax+Vi28I4zAYx1+aX\n",
       "wC34gxU6J4L8nCmr74fHIRjx96N8NYZY3KuJnOPNlqb9QbknwPkLdk+nn2j5AAAAI0GeGEUVLCP/\n",
       "ArIUHB6p+6au00dEP2aAEqKR7ikG1QesaIZdAAAAGwGeN3RH/wQxiOJPBkyou/w6AEqUi2+0y4Pq\n",
       "gAAAABsBnjlqR/8EM+RCGaezyEPb28AeIAE39vfQeykAAAA7QZo+SahBbJlMCGf//p4QAAsOqqcA\n",
       "K3iORs2NS5tfjOTNy9g4md7XWCVOFYI/tMlxdh8DWIylozsLNSAAAAAgQZ5cRRUsI/8CshQcHqn7\n",
       "pq7TRyZCXoAEjKK/MOch8P8AAAAWAZ57dEf/BDGI4k8GTKinKwuK8cTUgQAAABsBnn1qR/8EM+RC\n",
       "Gaezxkq2vqHQAmV5sghEi4AAAAA0QZpiSahBbJlMCGf//p4QABYnr7xXAIRDnvfLLhrfVh6nr8EH\n",
       "UgtBrymMSdZOiTxxqDwGpAAAABpBnoBFFSwj/wKyFBweqfumrtNb6A4diCh6twAAABQBnr90R/8E\n",
       "MYjiTwZMrVHEqBt1QAAAABIBnqFqR/8EM+RCGaezxlDdb6sAAAA+QZqmSahBbJlMCF///oywABZM\n",
       "t0QFAo7KekrZ9q1DVKuyvL1iq6CQh8njursRSyF2t+ifEb+4MTr7twdPG9AAAAAjQZ7ERRUsI/8C\n",
       "shQcHqn7pq7TW9K2+ygAkMNBIvYltt0XA48AAAAQAZ7jdEf/BDGI4k8GTKQDKwAAABMBnuVqR/8E\n",
       "M+RCGaezyEPcxuqBAAAAaEGa6kmoQWyZTAhf//6MsAAWbfH34FBHywBADVLOJnz+CNuU8S+cll/O\n",
       "SPYbeHjrU52Lv+zeSFIJMu7thRfVbRo9pnWeTx4suNOQS80kqOWDEdapjYg79Be2merhmFCysSO0\n",
       "pn4M0C8hAAAAKUGfCEUVLCP/ArIUHB6p+6au01uISlgA43RlcngpPUikHqvXNpkOD1BAAAAAIAGf\n",
       "J3RH/wQxiOJPBkytrsUbs4AHFctEGTcrfu5t8DZgAAAAFgGfKWpH/wQz5EIZp7PIVNS7rTkLOqEA\n",
       "AAA9QZsuSahBbJlMCF///oywABZGYHVOL9JAC0whbSWA8DRDHZtoUpySI8YWgwM4BtvaFK1aKElP\n",
       "3BdKXPjegAAAACpBn0xFFSwj/wKyFBweqfumrtNbgPrRC/dnQALXR+G1l9yKkznJRRf6fxwAAAAU\n",
       "AZ9rdEf/BDGI4k8GTK1jwxR6P0kAAAAeAZ9takf/BDPkQhmns8hFzkoAWoWmhZ23hu+A4EfBAAAA\n",
       "NUGbb0moQWyZTAhf//6MsAAqn+Qs7s33v+z4PwChCow6aDpMTyrFbqxq76BqqA0AH6PxJTuhAAAA\n",
       "T0Gbk0nhClJlMCF//oywACyYzIAI7WoyJBkMIJ4oS9xqe89BeIUEoW8OGZR4pgScAFmFh7kv1nZb\n",
       "L1Kye8BxukrHoKh9C2UzFopMnf2QSTgAAAAnQZ+xRTRMI/8CsdTvZeCATCEYX1R8cR33AB+HMCdL\n",
       "yF4P9hEU8UsoAAAAFwGf0HRH/wQxiOJPBky2Xky1Y70lfTjhAAAAGAGf0mpH/wQz5EIZp7PMI1m/\n",
       "DyEqwSwz4AAAAFhBm9dJqEFomUwIX//+jLAALNvj4XodaAAVbg/ntmEccetcf/m8ueOEAuLV7tLf\n",
       "seJ7Ay4wqTD1Fnn/4YkpgI5rYGDa8x2rkV4AWBnzNcgpYWUBWo3kzQ44AAAAKEGf9UURLCP/ArIU\n",
       "HB6p+6au04Psqr+7I8ADiucMTpKT1OLz5VIQ2B0AAAAXAZ4UdEf/BDGI4k8GTLbSin0Gm5F0toAA\n",
       "AAAfAZ4Wakf/BDPkQhmns8wew1ABwaHJpXZEhdh0H4xVBwAAAD5BmhhJqEFsmUwIZ//+nhAALDjc\n",
       "cA0bIbBoKdTFG5zruRaKKtgNsrNNjbUwV7vm+HnUbPh4DAArCswDCn5EvQAAADJBmjxJ4QpSZTAh\n",
       "n/6eEAAsOL0ADXuq5JntWMd67puK58uTwiHDs3GNOg26zsKxGatFxAAAACZBnlpFNEwj/wKx1O9l\n",
       "4IBMIRhfWkvbpNKAKXK/smoCngvIzE4CwQAAABoBnnl0R/8EMYjiTwZMtmRPpTABAOhgI4hHwAAA\n",
       "ABQBnntqR/8EM+RCGaezzB1nt06x4QAAAC9BmmBJqEFomUwIZ//+nhAAK0VAnQ9zKAHGMuWomaTx\n",
       "UwOPfeAXjLLv767uohEF3QAAACVBnp5FESwj/wKyFBweqfumrtOCZVlg/ZoAcerYJS9kIp+MCKMq\n",
       "AAAAEAGevXRH/wQxiOJPBkykAyoAAAAQAZ6/akf/BDPkQhmns8RhUwAAADNBmqRJqEFsmUwIZ//+\n",
       "nhAAKxrJ7gBFyvZ3G8TKhvaXb/Zit32OS0FxJK/fvtIN/SnThLwAAAAZQZ7CRRUsI/8CshQcHqn7\n",
       "pq7TNaGA0uQsoQAAABABnuF0R/8EMYjiTwZMpAMqAAAAEwGe42pH/wQz5EIZp7PL7YNBnhEAAAA9\n",
       "QZroSahBbJlMCGf//p4QACsOj95RL1RwBWYitUfWGqikyD71GSAPuGOuY0J1qnqA63nadWg4mKAS\n",
       "V4WGzQAAABtBnwZFFSwj/wKyFBweqfumrtOBpdBLg/aqSHkAAAATAZ8ldEf/BDGI4k8GTLY1ND4t\n",
       "oQAAABABnydqR/8EM+RCGaezxGFTAAAANEGbLEmoQWyZTAhn//6eEABWuZdJFNg5vUNaoAv8+o9R\n",
       "jw3fmhj/uKNuYJRa58hyTGNgGzAAAAAbQZ9KRRUsI/8CshQcHqn7pq7Tgg8BfZK46ithAAAAEAGf\n",
       "aXRH/wQxiOJPBkykAyoAAAAUAZ9rakf/BDPkQhmns8vvIej2eEAAAABUQZtwSahBbJlMCGf//p4Q\n",
       "ACsZ9YWAQPm7tPpGzZRbkr64Mo2Ier09vo67VWgL6zMej7AZnKsHI4eGVlX26/96p59Wq4nSJ0WI\n",
       "JZaxFu/Oooyu9cGnAAAAJUGfjkUVLCP/ArIUHB6p+6au04KyagAF1BqFUiJXkL8b82lWOqEAAAAW\n",
       "AZ+tdEf/BDGI4k8GTLYcq+vbkcTUgQAAABsBn69qR/8EM+RCGaezy/MSoACcZPcI/+eDPCAAAABA\n",
       "QZu0SahBbJlMCF///oywAFcrxPlbgP88q/1ppRUM8vhKABD7qWTSZxdZsV9MF6JYL2QU5FdWRAA8\n",
       "/qieDzbBwAAAAB1Bn9JFFSwj/wKyFBweqfumrtPTM9ewhHis12KCQQAAABQBn/F0R/8EMYjiTwZM\n",
       "yMvEkHC2gAAAABUBn/NqR/8EM+RCGaez0xbXra7E6tgAAAA+QZv4SahBbJlMCF///oywAFTWatQA\n",
       "IZ6lVw9wTFvjOXlgbpwmqWV8dI1vDzyftjRl8lG5w+Wz7ooJfDpqiNkAAAAkQZ4WRRUsI/8CshQc\n",
       "Hqn7pq7TzYlSbADdb9GZ4LtCvGw7ChcQAAAAGgGeNXRH/wQxiOJPBkzHnGkAAmrpkaKvQwu5AAAA\n",
       "EAGeN2pH/wQz5EIZp7PEYVMAAABHQZo8SahBbJlMCF///oywAFSynQAIrFOIJ5uj4d9RNWSx3TTX\n",
       "WwkQjSnkdST0gTeicFEc6C0wO6wXBjNtaqqx+I69LQ/wwjYAAAAbQZ5aRRUsI/8CshQcHqn7pq7T\n",
       "znvEV4ttIwVtAAAAFAGeeXRH/wQxiOJPBky1zBXAsBLwAAAAHQGee2pH/wQz5EIZp7PTHb+AAmqL\n",
       "n1++Uv20IMLvAAAAPEGafUmoQWyZTAhn//6eEABT80HgCJCTZ2Yy9dW0mYHEqz2r+s4qjB1kGMuO\n",
       "cge0ui5rR1Oppr6YWnBNwQAAACRBmoFJ4QpSZTAhn/6eEABUSsQsaC+ABx5zLUjbeDNcTYLAwIAA\n",
       "AAAgQZ6/RTRMI/8CsdTvZeCATCEYav5poAW8ILAS9uSOArYAAAAZAZ7edEf/BDGI4k8GTMec/gAC\n",
       "dto6+lmPWQAAABABnsBqR/8EM+RCGaezxGFTAAAAUkGaxUmoQWiZTAhn//6eEABUSRbbADj0lETX\n",
       "dnCXucRa4bVjCMwYEDnaZKXCWOKcb/2kzWteI1ImwoipR2/qdB81zRleLJTq1pd00b+S+WF4tGEA\n",
       "AAAcQZ7jRREsI/8CshQcHqn7pq7TyhbMI18DcNrPgAAAABQBnwJ0R/8EMYjiTwZMxrxZ2gLVMQAA\n",
       "ABMBnwRqR/8EM+RCGaez0r1cqYYFAAAASEGbCUmoQWyZTAhn//6eEABUUZS7gBDv4K/gdaiQ9XI2\n",
       "CoxLbaC7p/s2kapRlcqZMHIMMeBxaD08eULR0QXz8iBC3cl+ufBFwQAAACZBnydFFSwj/wKyFBwe\n",
       "qfumrtYJ7q7+AA/Dv7jZg4xWbfPr63VkLQAAABYBn0Z0R/8EMYjiTwZM73RVBAyJ0GVAAAAAEwGf\n",
       "SGpH/wQz5EIZp7Pj0f9eIesAAAAxQZtNSahBbJlMCF///oywAFSzzeACpY6MwiMDnHU45NaEaYbg\n",
       "FG+N1U8ZD9Y+3UMGVQAAABxBn2tFFSwj/wKyFBweqfumrtPNcPMIpqQPcVI8AAAAEAGfinRH/wQx\n",
       "iOJPBkykAyoAAAAQAZ+Makf/BDPkQhmns8RhUwAAACdBm5FJqEFsmUwIX//+jLAAVLPX9AE2nzg1\n",
       "eMTW8Yk0zzyOmShgyoEAAAAaQZ+vRRUsI/8CshQcHqn7pq7TzrYTTkeTIacAAAAQAZ/OdEf/BDGI\n",
       "4k8GTKQDKgAAABABn9BqR/8EM+RCGaezxGFTAAAAKUGb1UmoQWyZTAhf//6MsABUs83gAh3lAlGZ\n",
       "1LTukWMPzkDsbH2t0DphAAAAGUGf80UVLCP/ArIUHB6p+6au0zWhgNKbHmAAAAAQAZ4SdEf/BDGI\n",
       "4k8GTKQDKgAAABABnhRqR/8EM+RCGaezxGFTAAAAL0GaFkmoQWyZTAhn//6eEABT849wAh371Ah2\n",
       "wW56BmUBYnjVNC4zqPQX/0lqFg3oAAAAUUGaOknhClJlMCGf/p4QAFPkzihi+KXAEMmfOXLYm82c\n",
       "hXYQsV1wrpE+cclA+MyMEE8rDykMG08QqLCFluuhMl9lXokpY+g2o75qT1XuqiBgQQAAACpBnlhF\n",
       "NEwj/wKx1O9l4IBMIRhqpEW8glAC3jZhWCw5bvUvxgkpLtXk44EAAAAeAZ53dEf/BDGI4k8GTO9z\n",
       "7njAAIacTI57RwgOtEHAAAAAHQGeeWpH/wQz5EIZp7PjcdUcYABEGEl/wscp/LuBAAAAO0Gafkmo\n",
       "QWiZTAhn//6eEABUC6KoARf0F+MscCGytGrodrtrh5KFUla66yd+6tBdoxjuXVv/fX4AsG9AAAAA\n",
       "IkGenEURLCP/ArIUHB6p+6au089yDYAQXTCfIGpbRbnPoeEAAAAQAZ67dEf/BDGI4k8GTKQDKwAA\n",
       "ABIBnr1qR/8EM+RCGaez0xvthdwAAABcQZqiSahBbJlMCGf//p4QAFPyvjgCtUh1GyR4aFuV7YMk\n",
       "mfdDNxkkA5y5lByBjKX9OQdHgkkfipYQ4Fz0Ru6V9qNdGkF/oIQNr/Zp1BisNpKFMnzpVQH8bMJa\n",
       "FBAAAAAcQZ7ARRUsI/8CshQcHqn7pq7TzrkgC4zkVpZCXwAAABQBnv90R/8EMYjiTwZMtd4t6gLV\n",
       "MAAAABABnuFqR/8EM+RCGaezxGFTAAAAM0Ga5kmoQWyZTAhn//6eEABWNg/IAiY+DsW7EHAqbhMK\n",
       "dG/2J8iU2Yf7TfmHO9qLpyYKqAAAABxBnwRFFSwj/wKyFBweqfumrtPSyYnafFkBfRpxAAAAEAGf\n",
       "I3RH/wQxiOJPBkykAysAAAASAZ8lakf/BDPkQhmns9N+62PDAAAAXUGbKkmoQWyZTAhn//6eEABW\n",
       "t9/HDlSeLAHKNw7xBh6IMyWExr81AR3NfDjvuiKmqd2qj2CZ8WWfOkdXGRgitsVH427ml00RPLId\n",
       "L7byuDIOisaGJhaFuqPv3qcEvQAAACdBn0hFFSwj/wKyFBweqfumrtPRgtVovUANcRYjfLUhCYxQ\n",
       "NhkoOFgAAAAeAZ9ndEf/BDGI4k8GTMjaNwAa22Ah6Zm6kLHcklOOAAAAEAGfaWpH/wQz5EIZp7PE\n",
       "YVMAAABLQZtuSahBbJlMCGf//p4QAFaLygez5gB0NftQ1Hx1rGfKOkThmaefU8AgHbkD4Rr1Auc6\n",
       "REBFTN0Qi4aRav9tOwl4h/p3Pnvn4N6AAAAAKEGfjEUVLCP/ArIUHB6p+6au09F6j2yxNADcwx0t\n",
       "9TW/n9yGernOsPAAAAAVAZ+rdEf/BDGI4k8GTO90WlicjoeFAAAAGAGfrWpH/wQz5EIZp7PjciYx\n",
       "WF0y+TwtoQAAAClBm7JJqEFsmUwIZ//+nhAAViCC1kdgC/253occidmtRcrAZrjpltOCXwAAABlB\n",
       "n9BFFSwj/wKyFBweqfumrtM1oYDSmx5gAAAAFAGf73RH/wQxiOJPBkzImChtZJRQAAAAEgGf8WpH\n",
       "/wQz5EIZp7PTc+2FtQAAADdBm/ZJqEFsmUwIZ//+nhAAVjOPcAOiobjlCfnUvsyhvpvRnUIEIcxN\n",
       "6AzIHN95gPR/o8Rz4IeAAAAAJEGeFEUVLCP/ArIUHB6p+6au09M1X2UAEsi1lNejXUBsaMZukAAA\n",
       "ABUBnjN0R/8EMYjiTwZMyJb+ABPaq2EAAAASAZ41akf/BDPkQhmns9Mm62PWAAAARkGaOkmoQWyZ\n",
       "TAhn//6eEABT9LnAEdrnHSA1ZVODlw24BPCKP2le0eWfYps+otfsGLpp2SqzQKH1s6Ex89HhdW3e\n",
       "GYQsG9EAAAAbQZ5YRRUsI/8CshQcHqn7pq7TzYcA+AtgYCFhAAAAFAGed3RH/wQxiOJPBkzHmCiA\n",
       "sBLwAAAAEwGeeWpH/wQz5EIZp7PTFQaDHrEAAAAyQZp+SahBbJlMCGf//p4QAFPz6wsAR1L3LTbe\n",
       "rwzChegDO8zIKvlE0f/mAW3++TJwTcAAAAAbQZ6cRRUsI/8CshQcHqn7pq7TziYAK3ozHsVtAAAA\n",
       "EAGeu3RH/wQxiOJPBkykAysAAAASAZ69akf/BDPkQhmns9Mm62PWAAAAKkGaokmoQWyZTAhn//6e\n",
       "EABT8r44Apms8pLxsDB2sAe7C6GNcpSD/AsDAgAAABpBnsBFFSwj/wKyFBweqfumrtPOthNOR5Mh\n",
       "pwAAABQBnv90R/8EMYjiTwZMx5gogLAS8AAAABABnuFqR/8EM+RCGaezxGFTAAAAV0Ga5kmoQWyZ\n",
       "TAhf//6MsABUs3hgDlGGJsT5nTyDVe/0IsnFyN5mF6EpPh9uAnd44ZQrgasBaZDPzICZ3Jb1gjsV\n",
       "DYZTsPFx6yBPDVLwGz4KHva9h8CRgAAAABpBnwRFFSwj/wKyFBweqfumrtPOthNOR5MhpwAAABQB\n",
       "nyN0R/8EMYjiTwZMxrxZ2gLVMQAAABMBnyVqR/8EM+RCGaez0sE+PYYFAAAAO0GbKkmoQWyZTAhf\n",
       "//6MsABS8GSNuQAiVUf/h+fvFW9WadkmEX08NTmQuMuBRo0T2NoVvX4AR+CjwwZ9AAAAJUGfSEUV\n",
       "LCP/ArIUHB6p+6au1ai37r8gAugVoHwDb/0+0XkMIeAAAAAQAZ9ndEf/BDGI4k8GTKQDKgAAABIB\n",
       "n2lqR/8EM+RCGaez4falgwMAAABEQZtuSahBbJlMCF///oywAFJ1pIABXOFHna/ejY4Vl6/+cL2i\n",
       "7z6WEx+va6fJ0QIrCQpPd1045T9GrvSCKzJlBQPdA7oAAAAcQZ+MRRUsI/8CshQcHqn7pq7Voq4j\n",
       "gMlNW30vIAAAABoBn6t0R/8EMYjiTwZM6uR18YABNnnXBSHGBQAAABUBn61qR/8EM+RCGaez4faL\n",
       "JMs4wIEAAAArQZuvSahBbJlMCGf//p4QAFG1VTgBYccPce2tDSsayqL6p+D6MctwY0WDjwAAADZB\n",
       "m9NJ4QpSZTAhn/6eEABRtVU4AWH13vPrAzbfbciDlwUSQtK7EEs1CrHrVxl3VV52NVMRAxYAAAAj\n",
       "QZ/xRTRMI/8CsdTvZeCATCEYwwjpIn5ABdQa0fXTDwa8kf4AAAAZAZ4QdEf/BDGI4k8GTMbf4dAC\n",
       "ali/WkoJeQAAABABnhJqR/8EM+RCGaezxGFTAAAAPEGaF0moQWiZTAhn//6eEABRs49wAsEuvfrc\n",
       "kfhYwWKjiflu5BUhV4u1msy3BUGV4+nduEeFCVSc8mCpgAAAACVBnjVFESwj/wKyFBweqfumrtPK\n",
       "3boAEtWRIDTEauvWR3peYwoJAAAAFAGeVHRH/wQxiOJPBkzFvFnqAtUwAAAAFAGeVmpH/wQz5EIZ\n",
       "p7PSw4ivKcFtAAAAMUGaW0moQWyZTAhn//6eEABPwsHDLqEBrSAAi//zqdtl3h5xjKNjf/O28lcI\n",
       "wKTgpIEAAAAsQZ55RRUsI/8CshQcHqn7pq7TxWj4g3UgARkaQguUdst9OmEu45pKVbV5OOAAAAAe\n",
       "AZ6YdEf/BDGI4k8GTMWorhROmAIj1JLscPj8VfltAAAAEgGemmpH/wQz5EIZp7PSdutkDAAAAFFB\n",
       "mp9JqEFsmUwIZ//+nhAAT5j7xR4ArVKeXvWuCFKmTG9IoNHzsNoTyvGCWQ2c3XVFvvtl+nyFFRQN\n",
       "GhYrjtZ8dZaA24uF6TuCL1Zf/1z4JOEAAAArQZ69RRUsI/8CshQcHqn7pq7Txtw7AC2dw/oN8lOB\n",
       "r1h6HKJtDBvgxFJHwQAAABgBntx0R/8EMYjiTwZMxTju+HHcDHnoLaAAAAAbAZ7eakf/BDPkQhmn\n",
       "s9JthqAC4nJNKmvLXYFBAAAAPUGaw0moQWyZTAhn//6eEABPc0HgCt+uMESE854IOQoMfGLFk8g9\n",
       "ru1Uw8O50ye/RjYD/tU52LHioWOfBJ0AAAAmQZ7hRRUsI/8CshQcHqn7pq7Txh5ccABcQGJDMINH\n",
       "InfBnS7ZhNwAAAAUAZ8AdEf/BDGI4k8GTMS08VqBQ6cAAAAdAZ8Cakf/BDPkQhmns9J3ymAB+Htt\n",
       "LSF57I7AoIAAAABzQZsHSahBbJlMCGf//p4QAE9ydGAOTUna2UgQZV3ttqZdABPZnyRP5Td+I0J+\n",
       "tWXE6ln7OLD/eYt9pnWeQnVfVpEv5CbbYs+fGNlfvHADQm/E6HfvMYQgNxzHBTiI2vV5iXF2lerM\n",
       "e4gEiy5FY9dmPQ4JQQAAAB1BnyVFFSwj/wKyFBweqfumrtPGJge+40tDT/BxwQAAAB0Bn0R0R/8E\n",
       "MYjiTwZMxb8KAATt1u3Ehd3N6me9bQAAACEBn0ZqR/8EM+RCGaez0oavgAH7jqckHwrY84WVz4Bs\n",
       "k3EAAABhQZtLSahBbJlMCGf//p4QAFHreYwAqWs8pmRFm97bnGhTFa3mI6IRC0Ay1APNI1wsS/p8\n",
       "n5Vlk7kCqkFxtiu/EMP+R+UQwvmAvXVyAr5pekGLvaUsWzwm6B54lYybPJgqYAAAACZBn2lFFSwj\n",
       "/wKyFBweqfumrtPJcmhnhSaMAB+35RZ3WO3vZo0+DgAAABkBn4h0R/8EMYjiTwZMxjqYVDoTQTcl\n",
       "uEhBAAAAHQGfimpH/wQz5EIZp7PSvBApgATt0DmIso7xfEfcAAAASkGbj0moQWyZTAhn//6eEABT\n",
       "8bjgCq8YLkXTBvUMuQGr2ww76y+rXJQNQRWQHbXDjGkQAKaKiXhGIPxTqLl+96KtY/B/jvwT8hQQ\n",
       "AAAAGkGfrUUVLCP/ArIUHB6p+6au0862E05Hlaq3AAAAFQGfzHRH/wQxiOJPBkzHlv4AM9qrYQAA\n",
       "ABIBn85qR/8EM+RCGaez0sPthgUAAAAuQZvTSahBbJlMCGf//p4QAFGyldADjBEOu5bnHscQB4+W\n",
       "POPvuDKJYOiiIZYGLAAAABlBn/FFFSwj/wKyFBweqfumrtM1oYDS5CygAAAAEAGeEHRH/wQxiOJP\n",
       "BkykAysAAAAQAZ4Sakf/BDPkQhmns8RhUwAAAHhBmhdJqEFsmUwIZ//+nhAAUbJ0YArfrv5vRnHl\n",
       "DcZD4+Br0pQOqAhmmW93SUXSql59t6Jwx5vydD4hmNA9/HIIlwe8NGZhArBmaFTkxQwUecygMrYA\n",
       "PIDxDFPW0do3bGKHFVNbN6gGVOhB+O4v7tEzGLLcxRUQ+YAAAAAcQZ41RRUsI/8CshQcHqn7pq7T\n",
       "yiYJJC17EO7FxQAAABABnlR0R/8EMYjiTwZMpAMqAAAAEwGeVmpH/wQz5EIZp7PSw9/azAkAAAAf\n",
       "QZpZSahBbJlMFEwj//3hAAJrv0D0UAGhUATza7hBBwAAABgBnnhqR/8ENPk4v9hoXBKXSbswNh0A\n",
       "YMAAAEGvZYiCAA///vdonwKbWkN6gOSVxSXbT4H/q2dwfI/pAwAAAwAArq0zP7xY2GoCBFxTyV8d\n",
       "dfDJZje4Q2CPgcqffLU4GBJ40+qzkKZ6fPulPcpdmG/MDq3n2Oevl8hJuR8gABNUZaxcaiNX9s21\n",
       "DiVEEqNN0L8nZ4IO+Kt0kDgmUwshGGSQPRw3+qThxI9Tb8wfT+/1/cGpAadxVxLbOs9iQZh9Znsq\n",
       "e5kCG2kvhAry6UCfOzcDNcWJMTGWBj4oNEWiA0cQb1AkWtAGe40fi5QDh3WPt4E6ys+WCYdP9oVM\n",
       "rn4y/ywAX79OMvls+xRUhMDCoD59ygAc6AHEUKn3NHBOHgYXilieLQrwEW+46e31T1evFHp/BUuM\n",
       "Kn9VMDorj2/evjCsjrXuZ+J3/dk+gdiL1xYEQ/iDIEPeXMp1SFTT1UBae1yX9XmOesKYTyBkUjBJ\n",
       "m/8LNJ3JFE+R2AJ/Ah+AR9lNLsKGkWgbUSFEvyN4rpJizONdxJUSISZHXV+N78WDYU29qDYJI/kN\n",
       "ucaz4fbAQiU00OMwxrgaGbW3Nt5uB6tQ162suAqlOfy+z6ow3sl1A0THoTs8Dzd5JB6x8C19fkxo\n",
       "3ftQI/D7D0QmTcONTwFeG6X/FtlfLu6GMmSrnwhMYv3YXfxa88tCdM14JW1/1CDswRGTF1mrrIAw\n",
       "D++KITUiJxyXvc0hkgsHBimU/66jtnZsvqrkRcDsat+obcWmeWh6VtlRU6v2AB9J5oot5PwRAeW+\n",
       "abcYsB2eALGPnLZwlwNN4DC4zoz+1amszudwghmCcNGdA6d76VXJ1ue7jeAGNbE6TjHkJBn/WI9o\n",
       "s01xyyTX01jTiBEIyN7HjvjUOBKY60CX3oJpKnrbSL4M8cFLrnl4he77+0wS6J16rnPJFF/MH2Se\n",
       "4xFTV1m7fw4gskq1okclbVJisv9xL+t22nmqN5nPxH0RxcuLaYaHwUctL98MJm9tYS2x4qpGhU2Z\n",
       "E8WeoCpVRuBoIFeJ8ZST3ZsSENvwNG+a0KtmLUiQzVj5Bor6dhlYd8QLH5agNvACl+cQl/WB/uCG\n",
       "T9mz6fZ2uUp64s77anKZ7uwqT/VnAegSp2Uw22kQ86Uf29rNG9jax9Q3mDmDSPd6VhuGf+4NjszO\n",
       "wfoF3rI7tJQsq1NUnFoWOsB0kylXTEwNm+5/MuEa44xMCiiIOCkcyqDd3NHCy4NC3VvcDUWF9lt0\n",
       "OEv09BZQhm1VgEJIFIJap4n3zeqBnB8x2cJCpqh0IYHmaCshb8THbEolXap4opncBxxbqVAq2+uy\n",
       "Hlk+qQtVEZ8//m4Ls4NS1e+RkG75DBEEkbWtTRFg5LBYKtQKiDKLuhSnHsWwdF55sAGQjtikh++n\n",
       "OZTzaPUJM9Z55pwpt9xiDrEV9+BcRhAuNgjqPX7ZMwO8EBIkYEiwu8YVZGxQa7ubbN3MKGEB0UY5\n",
       "+oOl1ZXeaMc/latH0hhccHE0VpMHtvNhcgfVSL2ZAhAE+odgqJL/aKHumozM2zsymEZS4IE7GI2k\n",
       "sFVswp0TJvgjibs1S22t4GJl3RVouGjDvgwdAgHuJXI0FuurH/89o1Z0umK/JINXuCzmkBPChxcv\n",
       "5l5wSwg4r3CCcvqTSihr3Z+6uQ8Iqi5wunLuRkRpbaa/sWqdylfOzCSflCE5eMshpr2+mN20RtaR\n",
       "X96vHzfq85lMXw1n2Ex25aCe68sDbBXAekEGn/2EBmSs+gFnOkU7z+VxG/hqOM7zqoM1SCa0x7SM\n",
       "Z6lM2rrKDk/yLx8jlXtHPKj2i90q0JKuLpKX2+5OfHdI08sr/m1kCUMf0bEQB6/j/bppKgLm4UlB\n",
       "j+oXshiCfx0Rfcq+GrBpO+imzLv5M7laYiO4gyUy4suW99X+LS+hIrfXq6+yqZ+h9X81BDnokqEK\n",
       "GqEYzUJcewts3s6Is+GT9m+AumT26+wZp0oA3TObQHLD0kYdN8E5hvk8xyRb5E+wdszhg3NSjEYk\n",
       "YCIHKbCzN6q3cq3wcKL/AZDDxWHH+Yy5XqeNe8ymoCvissnRrVokYdsAkKBxVoF5oVeWwfpmMMew\n",
       "y+AZ4HgP5FA6rf8sbvGnFkgjisIw61kzo5Hlyiqbq3RvfqY24ep0HzkLEQPonHnZIJAqGMLIsAkn\n",
       "RTJAua6EoLpOevQCN9xh68CeOP6TgJkIRJ5AvYyaFITWQ/+KudxNRldxa42lDQ6FIeUxGXQm4XO2\n",
       "2CvAUNcSjBh2DPVd8hL0ts49YBMxzrO8wHF6DguMoMGynzzXcZ52y4kPSnj2Gl7Th3gXPiF2TNTI\n",
       "GTgBuEufQwC6LA4LR0oHOrePN+QVhSK2OfiRZGWhZSocFy+VIvQ5uz8bhxtSANouebDsLIdV+Az0\n",
       "aTwWZsBunLq4802JrFUiPi9Q8+Mxq8ydXRgawYzhcwFrVvo4rNoy7R1CLQLQYah6wuWrODHk8mkh\n",
       "ehAnDa+ZndFptGC2ejNlzMP1BtSVhD+hW3lS/GrUuPbBgW/Ce+Z1Pshhk0kFptxK+vfHmYuBkgJj\n",
       "fHGdhZLcBz1Z3ouKRQXyrEMuteAstYtSi9jxXPNbsmCVnObTy+eW5mPVPM3V74lrzXesp3ddqRqr\n",
       "ZaGyyYjkqJLSLJZTo1uP/WJ4kVRRuiWgiqKjC4MERUuOwpnSXmMzdwNMYHXGqD3DV1DwsKnP1xRQ\n",
       "yC2YQ4J6ku9JOIbmZVrbl1X+gZ48HLMAZ7NvATt3J6vArzXWa1YWDjtVPWaA4ENC3+9H3e8zwRyJ\n",
       "9728e27+tyx1PxJuwwMe9re1b9thFm9zoBaWVj2DS9KSXzS/NMtdSRa4ZzYoFTzbLXTWb8bNQaQ5\n",
       "nwJWu6kiQmZSpna+AEJyDngM8RlEJEMIbFu+uzmR8ekuS8p+PLUYX7o3G3a/MQbNPJDh40JvtCBM\n",
       "ehszbdIRy16agenPz1YccGGes0EcBjk5fY36I9yrvQrcerz5rowynuQY5euHruChFsmbNQfK/xIq\n",
       "E3QSn3LZVpcY6KGLoBecz7G2phAS4q12cy26VP8Em42/9YHo70hMVV7xJFjBfZwiheIzds+C40Wf\n",
       "24ar705lllVDe9EMTtZsguUfJYkRBaXbqZFPfgcns/tYqsmQaMhHj4d21eEerSTcdlFEfxGFSv8W\n",
       "4U5Ut2QzASbPLVqvHzeJgbRz2ay0exibiRuicS0RtN4Ul0fs08Vi08iVNxOFegcz0A+kl013oru5\n",
       "7PFfN9Mp3Q0rBM2wjDnQ96HrXGxjcNMKpMBWAeNZc8swVo4B3K5355CUy9vB1+l2ay484m730MIg\n",
       "sSmw/RsZPQ/XfnVBipqeW3vNY6ysIrqFAEHeOTRGkyd/5D+CfwNrIlAljZZ1IDpSQDN9TyaDRINm\n",
       "k08uplOQeBNIqMM4A10bKRanDkLxTtgIoh3MMT2LRhU8vm8PnK8YRnJdBwP+zG9SAjqdifUfgy08\n",
       "wdx4pJLp3Ym/UFR6+xm3tEu7w0LJ2FkgGM+YhTIGPHC6ivpbiJB8noH9gvCDTwh58b34v1N0KNui\n",
       "kHpPmLceJpSXdsLM/GbkveZvKHCOZsTs35dWTQ7XAu4cKsHqECMrFX55CiyOz/Ti3XFfZ9JmPu3P\n",
       "fFOCqDQIxK0UBY6G1NlCZEJGarHPwOWMtYruZvAQ0G2/cMMlJTr59f/9BmL/KBx0nzUw4SyUEEQz\n",
       "0bP9DkkM4Od3NUYieiv/13PlTNrcrO8I9nSlZEEAKm3soirj3YXBdfvhlr+sM7WxWQke/blXr1xt\n",
       "Uypwaw9KuLZ0VXyCYhdp4gp2NiO25hZkmazIgRlbap7Z8ULkXobR6Ivzj1Bq7az/ctJR0VZAB1py\n",
       "LQ13XDu/slXI8DqFOUjpKuJKSTyVxSvnZerUsKbf8o9uGwwSJqyMjGSJny/vqTbbfEgl9Cl6Ct9j\n",
       "n28czCJ8mFAREcztLXE+6N2PCkMphndNhboySDV8hsI+zGw96RqeirUyOlmXU+VCp6YIpH7Kcv0D\n",
       "0SVbT+OpKGBgjimxP8lMoOw2+8YDXVQ1jJ5gxNJaP/iWRLif3LME0QLeLL36cQitLcHsK6UbTbFv\n",
       "ZUoAc0VWQeEONeqCwGynfRqaVQybLgxgWpJU8orDajyAiLFf/qLI/SzYES+uxs2nRhTBRmsE9l5l\n",
       "QHFf3PYA7TWC27OoW4kNcfMw1Gh4bgBNFuwYAHuOsZHmSbzmCxwY9dqFuZZB27bTHu1gHmxX6/GL\n",
       "Q6hnmaM1sAib+jq8eh0H0gtln2/xywUAnr5nJQ0KADM8m/mlk6lLbmMBZPw3cMBaYsAvELgHplsg\n",
       "0tziT5yDAi9jDvD/iETOPN1GLI61PSx1dZkpwglUw2NgsLMSLkGGwWAkF2TgacuBetYyUJC/HOEf\n",
       "oI/awCRbaa3pdzB5HxADaZoLXqibxMtEXcnF9FtNf/UFjgd4Fv3tXFHHBDar3oWsw6jX9HOggKzU\n",
       "Xpf69eCEgakVLYVT5nY1rC3p7aiDvoT9wt6x+leZb+EaVhbiT+0uUQaebqKI03lmQIIZ39zimLxy\n",
       "t1M7fqSf2Q2zjQFyYUP8CDIrmpN1cDLo4axoE899G5MsFZx475jm3Kfu+jhNRbkCy44/+u3bovgk\n",
       "75UUbYAlkVtYz0YnG5QDbG0XP++0iSux3lgIRAA7WAZEURK8r6r/3b0ugYkJ38pDaEvIcXcHTIsz\n",
       "gKnPTKnv+YIX5MGimYJ3Am95/OP5hAt6q6zgY8+KM5aI4uouEn1WGCmcrFzkwZ0e9soZDjzoitIc\n",
       "cVq3lCrz5t2uf6+REe1Y6ULOq2IEga0s3qyBN4VUohuD05RAvi+JWwZ7SivALtTdQt8/S8G51dzs\n",
       "/UdtNOttvlNHLPp9+o0W/TaQiVuCB6kJfOB+IWPikQfSDcLHjwpkKQvhDXSdrQPrK0U+QpzaHs7I\n",
       "ckDVYcfoIddBtujt2GWKEe4TihRBVVrEbuesaRCAQiUigkdji84Aus6RuN105qXbtEMqJ7Txne11\n",
       "LjNQ25Lr9zJdJI9rgd4sFlGVXK4PK8rjMKcz0B1JtKeC9fWjJJYG3waWSy/HGlkSUrDJNPWiNT92\n",
       "icapKfxtHoQgRYTrL3Czl7QIVUj+zA5DT5XXTvloJ4qqyvltVW5H26vs4wbaa3Mh9oVAY7CCFOE/\n",
       "CsyKvwzkSnIYrA5UZY0sB4lYcAzPLJnL/Ww/p29rzT+xyB/xrtTEpg6m5j3F4GDVoGSaDl4DazIW\n",
       "HMPJsMwNIDwr8n5dVI4V5Gf7vcsuytPEpRJpqhrpO+jhXVLCbXc2tYAEoGNYXg7nz6VzUGJNOizk\n",
       "0ZGQDrNERYAMKQwqAQhOX+7ZD/lhgKCaot/4xAiAsPxpASS6YZahpRXDDLuZOkykyW4LQFzMLqnF\n",
       "0R/Dffi0CJvQVg2gRzsFryveMmpKgmxbzs20V34TNryYkMZQ4+kBlQWoM7AkYXfIeCcb15b4/aHy\n",
       "xiqzg+wUlAkPOYuHyt3Tv0ELOGy/FtnvIanzHKROApZZNxyN9xtMz/jviWLcw/a1sxg9DucUlRMW\n",
       "jJLfNr7E/9xSdGsHUtnq01liKNwxYrbJ5ckL9sqjtX+sYrEvfLjE+9wNDbqHCSWBH0wdcEg/+Jvq\n",
       "pKUKsCseurhC9UUmy9xdGylkCFGacDl0S/M/iUxM+I3LW0PyNPlR95eYhJdRnMz31wM+tCYpyLbC\n",
       "/s2ckj+wqaN6ovHFrXiFfGe4mhvn87y8TUCONv3YmUg2UdHhUp1yMcmtyur8CKEBbwd1o+ToeDp/\n",
       "cKnJO57RHbzGepwkvaYBi/sNJjMHFQw08DAra0p/Rw0Kokah0TBsvhk2eIpgMPVtRZ5GJ/n2H87N\n",
       "4YzW2SogrVAjrC4wr3HD3Als125YSjejnwiNXxwwh/APOyo8T45AB742Ol/WNKab2m+t3gUPPN3s\n",
       "Ei8BEQxqD9GqN04DGRN+jCmJYh+rncmRRxlWs3omTPRjmEoAc+QcXVZIvyyOEniShn5RsrPJprQE\n",
       "4RHBhkcDSx0cOLJ/AVZzpGVEPDhY5C5u5o2CbbYsln5aG8GpzFBXzFbpkgo8EzsK+nJO7kdkblAg\n",
       "/5e/m6f6BQgFLs5UjBxn7pxHBfmm4YpKsQwJTB5xvDVecxxEG/axU84SI+AxrXiRoJaJI48OyTV2\n",
       "nX9yXh7ioU9kcITxk9+LbTR+EHLo8l003nWO+TUpy0wybIzgdGgVD5LQSnmPsRGt8R0Y72gyDNHh\n",
       "OxWAaZpkTBmTQh1HVjWGqx7hlzTuF0YlLNBVlfzhvDabfTMq0VKSWLUArD6yM3Sjg9f5/+Fe+axO\n",
       "mgoZnyj9OA+Jv5f73sVeYT6KWNlt9DkNQGMLFaRCBheB8XYTBst0jpH7XvoTE3tHn/IaGnzsXdME\n",
       "s5K/Sqa8niiACySaSD9AJ0W0sezK1rzQhv92qRv3yBsETZd5Qoe5Li9Le9/ieFD5WJTJBbbA+elE\n",
       "/MUeLqV6tFgKt78uVR2e+u/L8Gvs8n5zttuYQDMu0yRT8bB5o6lGFyXEcHhZiuEvg60sp8z0usUB\n",
       "/9KeGrVsIgOS/a1+pwXeUz5bL4HdL4ezyzo+by8ZDR8ariuiwc24IHUHvsV+EjS7pUj+l0MJ9SAv\n",
       "BCaZjTL48l4nspKbpKd5Px/MrsDX+YOrX4z+vjVfBidcHXCfWr7rVoCuUgcf5oU0Xi67mqm4yeAk\n",
       "ZvabnFlkduJbzRqaa3+T7gdN76LnVyU+Zgd6DLkVGpDHsP45ebgMmCrSsQmYUwKTg4LgmtrmGiUn\n",
       "Nhfjf54RNS1U0T2fiS/54tl6jSgYy54W8XxtMGob25qEyl6YZraBvMhQqHs30ggcTIN/3MsulN8/\n",
       "IQFI9AzbTYACvJTEnttQC84l/ggxNp0o3kkfYDrghxm8hYeksLW+H1sCTqCLey0BeVuXY2H2MBdw\n",
       "McT/UvfiSiCPT6gSUD6Iak/qGBOOxp32ZykWvNrRKeIVvNgRaMsBOxAFtwyiRJYM2gF2PMajuc0u\n",
       "koeQVmGkMf6TmsMzlxAnsoVCBSPX8FfoYVcNTm2m/9FEZM47jUQWfV7CT4NFqj+K+D0rGVwI5biz\n",
       "vJ7zuzSRzHs4sOYOMkq+nzpNgBJsLnzL1KDAdhLtMIXLYjNf4EA+NaZExvaM71VxNig2GmteSWES\n",
       "V/7nFGISk26bxQSfiMqkMfQN+JFh+yEsq6ZUAelnPAUo8FgXfF3Pz1jVINvCOHz+TlzKr9omj2dT\n",
       "x/Sf+y9EtWTaEmv7oFawdGokdKRki9PUqU0MnodEN7BZO4cdN9PcQi3l0ZzY++Ow/p7PcOuCNdHD\n",
       "Bc9TEwd+uM9pgu5dvEJMjnHK+mnLs6dX9AvPR/n+FbW1Y6BCGwLZSbejDn4PBGEspxp84Eu0aNC9\n",
       "ACYSpmxZ9q2I05qVeChNBN++nrMnCcz+qnOGCm+Qy9GwQbc1O0f3v0+BZLDHgZ1ObMzF4YZ4tAwe\n",
       "ekox+ATUChyNsEwmZBTk7f/s+UiuqpYwgMaPVRR/TvKTlrU7jKD+FKU6FTKZvF8OgCz3KedoNG7M\n",
       "y9G8AEHjIqpmeecQeFweK/OokHzAR59gTEKd43JAkiwadqRxne6mRvT+Srvts/s5aMfzBdWwR4AQ\n",
       "EMGBdJeJMMCaoQ2U7y4p0HII1MqvMaSQ1a82R12qxlTTL5cblRrZJBfmbFhejvUtJNxdJB1zQ+Ig\n",
       "+HwbIAqD0vGSrpyomOYRRr/UhmrEwSr53AidooaUuRKRKVil+sYbRoD2TasMOZOWrb0/APRo+m9z\n",
       "CDVek1X7Ai/K1uIegJVwkyMegsfUobCyNhsdV6Z2zSG1c7JvL7zKqBMekB/OKe47ZGcXq0O1nJ+b\n",
       "vhWoTf3Ka0lDGVmhNwynIicbrnC1CgXP/QAOwY4QV9Hd7BM943lTGz3ti/uUGLkS7ljuiurc7GdI\n",
       "NcmGzRNur5ubgFjqhPIPbPVhF6KouWJxa51Kv1OvCNPWJxcRpdBJRbOff7S1rEHBAAvhJvjZEX7x\n",
       "mIGVr/kQg8Qnrsg29PbQtykgQkENMM2zYPHln/zUAgHpt7Lls9XGTZw/GNtmBwoD/HfO7sGu5Lc3\n",
       "4RF1FczX/HqPD1v2eOKT3NIAVmLRXntVpZiGtWIcQCwwsEUbrmmANAlnWr6CZrhBMmhl9rWWTHDq\n",
       "sYdZq9GZJuQM1Hm6C/Sybvs2CPNszpOYUnPSik3B0PnfhnLNKY8+RbrRPV7z2jw/9QCyxL39b1ST\n",
       "wPrsJXCFE0sUFBU1RhXG0Uvbatby89LZdT0xzJkb0x91lY4iGsJaML/JONjKL4rOfULAwpSHXxA3\n",
       "gaBSX172ZdN2pU9hNZMxoldjtFb8mE7M6nwZE0M1pn9C8iXNbiLYuuBYz0mZOzrB5h46ZS8qPVGM\n",
       "mEKp/X4W3AbYdEyhnZ2tso0VPAy4NRu06Qp9iWirDaqW/huWi4zQ7aF9PuBYK5QZ05rZAPQY7p8x\n",
       "Ap8wMw7/hBJqpYBhgbtsqcJ8Xt0+B7Tffy52LqGOEwAu925Hxb8v6MgSL0synDR9pf6U5qivArxX\n",
       "Osw/a0fFg1gC3Kjgs37GhDCu5pt/X1bmwO3Pyvf4DOIZOLlBmSrZkA1MJ1j/8kCswHJ6KuwQdty0\n",
       "5D3vSCT0IPHhNYtHYdI8DL6HXnaBGgXNFCyY4zRMYXcnKdburc0Vwu+9v7XqsH6NKBTLR8WNbkBd\n",
       "mkUw86wInTDf7CQjEV5jVOR/8s1XX8UfaoZOyyf+gbU2iUbsZyfkaarwrUFtvx9QJznk9ltxm9/y\n",
       "+Xf/AlVpUNzfZxQuywq1i3n7mKVlkZZ3FNhy+1/vRfkvLcsZj4xUURf2PBEUFDCaV7IBFQHMfWP+\n",
       "27+535/H/1UiJxEwaZiXrO5s52gKyGrZD7g7v8wgukXquK27tJ2vONx7RwTW4B32tKV6dmSujrN+\n",
       "AxmdkBi0yZo/Gd65lUzCmE+edM08r6qxIZtICpD87IMf34V4ME4pjWYaDp357od5hf549IrbP+ta\n",
       "s/h+tfLEUiLYgHr6s72fhbBE+NuWDKyZ0zEplD4025xFPtFmc8TmFUivUiHmn1jd+sCTQCPOjhNN\n",
       "GlbJA+QekogSWI9TU7a31LBo487eYHgz9gz8gZHWYsL1q6FDUId8V0ny9EqOURERJcqqiZDkqbDj\n",
       "PWW24ZmRZUKoeQTVWOfaddwBgTpnFo7K+hCAMtRXE4VWlI0lEMGnSdA+jUwj04CCKWRFtwRz4kVN\n",
       "vc/jlxDuJH93Yifb6pJaTTInjHDuBDhAfbiOLrSf3BLxGOA4wJoag5efUIrH0gVBmMbKMo1GFTao\n",
       "hYMe8ranAKedQo9cpx0dqIoT/nk3KdNcoFNcYYAYFoS1rpxXstbAazHXTa1uc/H28RXrq5Ui2gAt\n",
       "X4Mc112ZJw9AAVkDd2GVqCuLZlZOq6ZaPEctVqM6fJO9kTweckBnjNsTYLYT7FZNKqg2ZCYtBimS\n",
       "u59t1JM7mX8LQqYG1j5OaQGkynicJvd8cNp7EXoGHYnqmkX6oo2tiwMT7XMSLnyp3LOXnjiwXyiM\n",
       "MpXTe9pX0l31BDq96gqh9m55D9GDeolCcOwiN1MuNjoLdBDvWZt6lqd4WgHHhHIPy6f6ohvnGSfY\n",
       "zE36C0UVxVKRndIhxLdAZUmIMuMx9vro4V9/XCKSJSTXZ0JKmtQm3qIhf7IVzXsZd7BuG3O5ybk3\n",
       "sR1k0vfnUtFM0m8z1fqm3yUBXX40C9FaVFh4WYUpYmXSWNwIXWaSrl5uveX/MGVhjsNF6KVXjkou\n",
       "n+M3rO633VnEuLEZZSZaQQOdWUhC8u+lcSWbtkCxiwg84/AlsmCbB+yD4xUvOiusgynhCej6JuTH\n",
       "dAec98iK6P+fHC3QyTvyvG89ksNI5fWbKTzD1ocTMGzXz9l6JqZGwUngiaeExNMCWBAU6+K6Y1uo\n",
       "qs9I3mQyS1oWMw6sl7Tia9cAEEAlJV40TMrFioxtnremngQ4iSj1NOzC4oXBZ83MbPKcWLueVv14\n",
       "9YIbpoqR6iVA6Z5jFni9MWgoZVHwNWrtiu1h5+6GetVEVGs6ITPmbPkUM9Uq09aNhTSRqRAGEMPv\n",
       "ue4XguVkeIMZOiMVZFbSecIpPvzekCDoQDV93w31NiG0vaiVO7mhb1S2DmBaROEFijW/kor/I2kF\n",
       "2p6ATyKHY/Ez9y+EbqCHwOHtIxYZeWFM9DJVYOjhXSMC1V/bS1wFbJ13Y/iAaKJTdOttJqveYsVU\n",
       "Z+orQ1tWztDyqx9u+BilSyL3hn6E3CoqMIvnA0O3DSaNHIZjykaKfWxp/GoSYLLk1qbnd70fPeKd\n",
       "S7Rx2bbwkjO5QPkSKCXoNC55v9hneMZ9hGhe5Q+51LHxtneJb9ewCMEflgDXYavHyoSr+uJnBA9r\n",
       "9xE2X9N65mmS5F+S2W85SbMEH7ds/Dx2pSwrLvZKarB0peLQQDUImUyi3kMDpKD1SFJbFLN7cWMg\n",
       "6IN8RYDFXvIyiqrYEV4FzCvOPfm6MiMZF9DgHdD/UzsUlSScLIodcTxha/tYhDDJf5tKkU/YN23O\n",
       "ks40usKGdC9JPRCcYuB8TjSRS7P01p1caYkg9JMCKsiXCRfhuzaglk+E4W0vEuz9C4W8kgxjYMyp\n",
       "/T2Uj9uylXJKC3S7IvDOT1Y/AZhFzMbO//kw4wxh+fVzq3llf0g6dlldWsKfd1bKt5/3ywfkAZDz\n",
       "azjO68RZov/0rsnb02Y3g3CUXv5pGX51CeT0JTQ7FxV+xtRw3FYP01EHBVIud9v+dy+N4DnXd7DI\n",
       "lG2nNeyfNyKYJIHhB1MuCVq0bvc/5phcHIPh+cAnFxZCXua+4x2hLU05yCesUq0s8muyeg1MHgKJ\n",
       "cQki2SMdOnO9M2D97Dk54IN/9VB1nAukfuOUBCYrmxqQKjeuBR5YMDnwBtf2zuTiSzow71jvDasR\n",
       "WWAevTsUTJt+dkSgy9GZFJQZM5mwg07mTJ48VLgodjN09hWyJ+gMoHJZz5tDusnPhzwOsS1a5k/g\n",
       "wBLOLBy1VYIiWise1JMPc9E8DaJnt5G8im8Vj6Ix+0txpYtBzTsW570Ighes/UpKSt6yDFXpr54M\n",
       "sKn9ncT57iPmlX3jfjbRuqQFDWiUgZuh1PkQx4YAapkgtRVdFG/NXvtkEdJExf3j6JTeQbbEfyqG\n",
       "ILBwJvDRTsnyPWaaVuhv3W9+26SN4WSBOJl8jq8Tic3Mu0Xa0BTKStXpD+aIoxQKjhR6liGyaNY7\n",
       "8k3p4P+jCPsvLp9wqpluSM34B3CQXZOCHxodH4UwEKgYPtbvsCXWw1/qNfhloVB26v/oEnRDleY0\n",
       "0CXaGpXZ7+0129sYsBAS0CzIJ3ujUKDUJaPxtsBzE+HPmSynI1MeX0KqIizF3cY2Aj+OGnGc8803\n",
       "kxA/FE1FdqZcfwDil00eEoG25bRPuws6xOHuceCR2XzpGm/VEXHXp+AXg5YSrBfvb0EaMGI3hLsq\n",
       "+7lll1gBAZqf6G7vCF6kBi7D2fhBVMWRCOlaHUZGVuGbBOKtViqBuoE6Rb1PQ8qntTbMT4Edvj2y\n",
       "ZQAHm8Sk3oWsRSCbPD7i+5uppxpN/k6YyqqQUuD7wbWSPUqgEXIuU4SXELo5xnZjhobpM9eZKOgG\n",
       "x2+wxo49RbHS95fv0kqIZsEMRnp38743gwFMryzAH1UfzUJ02sjCZbvjXSk5/w89PmAxoPTtzSKq\n",
       "cbzy3y2nA0uWOol2iDABR/mC7Zdi5tjHQoL9aM4qG4HTmj5iMKQ42+hVYErwWvMlGIhFA1RP6qNK\n",
       "duKQ00Dexr0CGLlPD8WTrhYLb1vv6oYuO61RJIWdQaie/P58QCYia+pAS9EjmCJ/ozPziiJP/b82\n",
       "dtvE6j8w1umi5EJ7DsWiahSRVujvcRe+unSzyMKxfgog+jIMHGQn3VxaJXnNlD8Z8xqXJJbsq7TF\n",
       "SToiYxFciKJTydplmyvk85V86QlMH+JZKmX8zxjiVB06uTA3qQ0okbdIPtRljyhseKnht1xCNYPk\n",
       "uWFqri8ofpQmgN83Vuj8wT8ijwTPFBB/FnKY0W/4V+bigPdktvKJifHwVB5yzQ2FFjdPRLuGy8XO\n",
       "d9I4X8W/YkYU0Rf5qTXBd1jL/ubsg+i1uY/lVbYx3MQ8DNAQCI0WxFB/vCwqfdUi3R0p8EuvFS4K\n",
       "nudTutvDcAlFu56sD/q5r1FAZ8HrNMd6X6DFDDng4Tdy38bvBvnIJ7fd3kYDrs2AJEySr2Re1ltR\n",
       "lTeDA0qEFeEPzh70uU0+xCLUIKgCvgYADHSIi2eKIfZXkwZb3WnHQitMbOPnfW3Pu+G3rYDr+sp/\n",
       "mjkemBToRAPLgX4tWuPt20nfjS9yg7KJyWZ9M9LfZhCkq7aqR2WXKeTvjVA2+nme8Po3Cqzdr+Fa\n",
       "j2p6mjNhyzLx2yQhYl4RAqESVDtdfa+ttZUbB3THZJrpi/2tPcOK4gEH6vdAGs+F3UQQl6EPcfij\n",
       "EFTWqTxTbznWgz8q76khoigeMb8ELz7GxTbefO9iaHw184TOYaLF8eCUaYR9AP+oCuuOSSObo8L3\n",
       "H7oEPr5ymstx0c+J4yUsez225BEzP7ct7ZkXqxRpK/ZyWTjwzka4o6TxuIWom/98jfS+tL/F1KhE\n",
       "0y9orEsKPuWLxHnL7wqTf9S/vM9KEAq2CVsH8PaAsJkGoRcnpIyibD57yVIsyhdQdxjeO2v5Rui0\n",
       "48IVy73jqkm+uI2OXvj7tkUEge8EoARVfQ73MvoKoT8IK7fx7OXVMKSH3ykuTcCC/s3vamljfdV7\n",
       "AZaSs96TGMf28V6bNf8Oy3lnWHZayjpn9S/FMnZ5jZguWjBfbBeyIzdTbllcquloFdjDonXv2tvI\n",
       "gHbTonh/tSbtTEgE0j/z8kxE+yRSeyTspJuDq7/2HPHCNyQhPvg7Do2UDdXVOdDHaZ/HbkAzGHUG\n",
       "7IBx1CbPtWNGC4LToq3/XKo+3VcHAnzDqg9xuuTL4Jw7X/yXrXNv/3/jEvxx7haRg9DH/8Rlb/Is\n",
       "zWkBB5uGvWQh6Dor/7jINN9F4Vuck5C9l56M98mKTn3w8EAByJffKBMJ3mKnQcSmW/Bl3H0KdC8T\n",
       "BMRT7I4l5T4jYPsiniXHMqXIe+bYNudZkm+bfDFGWccukPNo4cSzdOvLOczUK7Y3lIEzie4H4LDI\n",
       "jbiZOnI4I8pKCpk/++1mRaac+tKeGOKuQXaakkEcrKcBnFE19yDZ1ZNZ/Yd5nLkAxs+mHzA44cv1\n",
       "CfD5Q4DKzBbXI3g6a9OJBax7eQWiMINpgDUNhfmU9gAYAAIn6XRaZ/+zac5i2czq7zdOAToQ+6kN\n",
       "9dWbGc2ESd7MCvG3gt6XkVvBABG6436PZd4opbmmabYfGfMqYGNWL1GP0IbOHJlbxqpynyXbuZfz\n",
       "9RSfne3J6Zr2xYgLr8QZOnvbOkjRlbgnJ5PZj2USJGKJOXgCBs3OyyMGZSrZTQBx+/YybgYcn1Ku\n",
       "tHSWbCztkn7uyjQMopfUqbVtaaESnhDuxfUtr8bu3PFdCUEH0euRyzASgu99QM4vhqPPZ6oEBH7j\n",
       "OltJeo8+t3EePIZUxzme1HHvMKt3tZisyrxMMJJn6AvOCiUrRREN2sbNVf26PvsbPtBTpNg/4WVr\n",
       "HKGlvrUCiELLC0karXeA9vNwI/7nrdSF6h/wEJEbhSS+ieGr7oU+B0Qjue4hnfJWd+JATVN8edwP\n",
       "XbH6atjrnxWeX/Bw11BqVT16rcjS8stiH8neYoLlVJTjkQDF6zm6pycZ0GVFUj5c9bhHdKnP8RLC\n",
       "Snh0QgAGCFTZpjQegQRZxMIwCUk6w0JRF7WTkEeOFfkGDncSsLgHz64Csa1dhXzilYbvu8gsutzI\n",
       "GGMeypPAio/zTO/eSFESfaYGesCN45DRkvYaQumn/XG5m68cr8nKlUKljHwsJzS2/7BKHqTBTfIT\n",
       "KuzDzDHg2LJBugnU3q6/HHrmBRVKBvaIR5UCm3UaBYnndUrS+n/PYstauQVrb91AcgMXf9269H0a\n",
       "a5tirWCUEYMlXtVLfUfMKthm6gpUrkbwxbqRzz0spfZVQrqoQy9WDKkLUkmKDhoJkynPa+xoTP1z\n",
       "PWQVdk+NuYmlSl+Txi6kKxTV8lwJdlQgvBoRWi2jKeuwzi0k2IwIYg5/38YYJEtV3SU9IP9l0Sb7\n",
       "8JF9PWJ0zIYhjJumTu/TartfL7aCi5srbc/53Tbjtw6qxBOREGesm7dyqjCzP44BWahBOPgUhD3B\n",
       "y4jEDXO/kVvrbQVfykG6v9/tIs/oALxJhSvzP0Jk2Dv/0ZZvtUNY9z7W1SpovJ/a5UMTdUus+Bv/\n",
       "Uvxv1Pdg9DkH2nn7IEeknc1N+l0NqIB0/ouBAIdB8oFGxMXXXZ7tNc4DbvXQXnPSHDrUuJB3Adxo\n",
       "MYDk6qCu56zeTbrrJxoLMByO2oeOQxiwuaP/rHItqe3dPHeM12Ev1JovBB3CRqeB2SSnpYn1VFoJ\n",
       "GctlJAsSQ1ppfmnFUGCq1YFQKv/h8SWInNO1ovwn4ncG949+9ywSajGYqUtr1ulbAym8qktLoUvT\n",
       "FXig74G+vpPFgYg31h1GzNyNefziKsMXYiBZKm1kI0Hpqyh6W1CFwyEPFX0UCPzHkFbS9hPi8Dc0\n",
       "pwj3PhYmYCpYAUnrc9P6KKLEji3hWbWPOg9GnmK4x34vzYUZee/AwQr1Fz/SCR6pnA+50l+Zn3Z7\n",
       "pCSgIZEewF9WBGddftbkQXOSpvpDhPwO5sHfG8oBtdoHQ06DGnOi2msriplj9qghZlbJ5IXk4lMh\n",
       "w+pEmuNqzoDCTkQl8t6x+BNTaI8/jKaI9UBX7LY69fLmlpgeS0FmjmJ17scjoqedcDjkKzAEdJqC\n",
       "E8eVZFqJHF9VzfyUjmLC4r8KqypUfrEzmtGkNHxFYa4gajJRd0SV2vBNgc+1VEpFyRzmIHyM3KGB\n",
       "vumSszrsPZs+XFqAB1VFVPsCCyCOcYL4L4KRqYYXcS1IK/ivg+74RHSa8fc7zicXN9s8MDCzKywO\n",
       "58bayXl3GwRG3xeM5RFDWL8JEcY/RQa0JfS9bdOsKwts3hKyIEuNYIfC0ojtGCgDjuqJfWfJFJqK\n",
       "6FLhk+nDTkgG1UtzJg5OfVOBp04yu6mW6Hd19KhLI9dyCXmeYDDm00tMbP2ICKnUUJWK6A6Ukgg/\n",
       "xbHm209vHl5OCg4rFIVisYLw2/kYpu/xCa/zPNst8tO6nNNr5wY+0UO1MvHuDcSmez3QiZ1A14Sw\n",
       "oeH+ViuupoXUQiruSSdcstJG6EYudZvSAd39OZP46cItD8FTlXBBVl/pbFGF2gMT9UpJyy6/7Mnt\n",
       "+2zbPswFc+XajhiKU8FYPcX5VbdlOhQy5hzPJUvDY+53OV4JKG/fl+4tAN/oUfyDb8+MZss4JDM1\n",
       "Rt2+M3RbKfOCfhxtd26UI2NvE/Nelsckg9INW3tYNx/ON2SPDvKma9ISFPGbX2Mr0dt5lnrA9e9l\n",
       "c4uJeqs2nnCoaEYHHuSG1gzexPrZ+zliAKuGMppZC6bEPHv6QWE3RPs/te/tj/QjU3CA+QeEZgtv\n",
       "YSnnFav/vuHp2N5nDobTNvUm7uQASm8SZsFdi8p+QE/sGK6K9DOH8ZgUhmYdzFiPpT5L7+4rbJoX\n",
       "x4o9PRnuakBWPNx6As8eBbwFwDR6VhAk3e3Fpqr18L7JGDMPO/YOzsjf3zcPmbS74biNFMsppNcM\n",
       "Za873ofmDB26ynhFuUmQj/dnb5uXm2GY3QsppPHvWJIFstEonlLB9b8FLwoSiFJTVmXCUhuQ5NsF\n",
       "tP8EjG9DZ8/o09CqqaX2KxDTzGb1vgGYN+9TjGsRzcPKtLuAFfi4VXAxtYtCvyC8fd6ka+DeTQwK\n",
       "htpyb3gzKaH7bKXMQe8mPDHM0CZ84483MGyLeNrtSpagXlpyGLAdmPRxGDupoBIlXX4SlpN+KNce\n",
       "CqJzo2J60HoxKlnJZr/wRGqfkBAfmYqvlVcjZQmV33AyxKBX0qA4wGkDDUscIuj1c4o+dGuJLFMY\n",
       "txPaJI8XIje3W2yeUEIZNDWDKoopMJOytDwiIQzTAKuMZ/Q9MacOEyPsSlmFbeu1xq3TXFMI2YQJ\n",
       "7S1lGaKSXL3LVKhzRV6h3dH7QW1wdvQjCtX5AdkKexGFVZV2+eBIP9EdEGI3ZzH04BwoYfIBqmXy\n",
       "d6d/f5s54nEat3IdSEFs8zCstucwyeMAM0t2dCm/5zzXOjw/wJzUwgEj+8l67GYFbffvNhU67gKf\n",
       "+M8t4N6KPnMlXypq+rTclK843ivYYSRtVOlNXuaYJ0Dnh3yjBstpg5YDmw8gUT1uyYGLtTchAXgt\n",
       "KPGhkLYnejWttviU2Q4pLqkrql20oll+CICFj/mYCpk5AHwz+4gV92dPHfprSoWQoWRv54/IrRg5\n",
       "NglIGIalKMPZ5Btl73KcSOb/6gVMyIo7smFwLr7DrGy14kbzcto99VjG58mZOy1lTxrQHcsRaNP4\n",
       "RrOV3NAwWqvvW1kJuwC7yoOf9BGf5GzSLuQkuMJHVyNDjjq8LR49l3hNx1vspMo0ZYqyWvq60QkX\n",
       "CUdOpeuO8nA0ltExzwSbKddMHMgHQ6zA4E26N0LhEKzQpApE6GWTrDke48YIHxX1MvnVBICJnVPn\n",
       "Lnys3yJXv3hDZeVI7yWNJLnUWVYRhUtR/eLJqF0TzvwjTGkc0ajD4r7FsMhmxPg1RSSXWzLhaO1V\n",
       "DR4UY7bMa5jdrWzIE345U1WNYZ7eflk+p9cKx1cjMvK6pHnzKxsjyqIBdPgU23Pzbac4AixG0W4n\n",
       "QuAvf0KucoQWMPs+NVvb05c5qwG47ZWlO0GGv3YTzQT9hS6j5pROz8a83fOT+OV+/Yi+njhllkDG\n",
       "FCilVU57lpuuuqB9q3QHhOx1wRKX3iLJ0CS0+G7zqX6oJVI9rVQzcWcazT63SmjtoLbFaIyPS6Md\n",
       "CmzPdXy1NQKssovZjj/xYcwMGKiSo/A31oRCKYfXTVe7f22O3Vr/wUhDiqYALf4NT4LZxRhuECD2\n",
       "CKMN2y5vJBXC6oTjcvQhFskn2dLbxzaPZXnfBTJaK8TfvD0/nwR15l4+PLYUqSyhhrusmN7PV3YP\n",
       "03hy+wLlNux5/tSmK6CwRPtc3xKNye7Dg975kOUfpestKVfVcWiVgap+5HyQT1SdRVzlxEMhUcs0\n",
       "+snSenV4vHbTb05le5dG8E0W5H1ocPZy6uAdRZ5GBTGnVOlkNUq+RFUmUoRhjuD6XDHFE5BgRFFy\n",
       "NtTyRZNZO3b5Zg3sRzC0cLDiTLobtz0wE3UdpatcPrwjGwwjXtaeUj4teLL4LxbCEN/s3tZADPQ/\n",
       "1YNijh9glMVCPwxmop7cxikSdQonsRvwm3bucPEmUwAvO77XTmt6E4Q1qSnlfTptTLa80s07iGHw\n",
       "swwsYiPbLFf/8RjjOdD86CLxuW/nGsKZM7G676OROH3TMqW3RXy4eBWNIfBEehgejWijBWBzrplQ\n",
       "bOi6DQDtN7+nQUDbE30DbDVNhsfXH/BQaViJnXIf6WohX0hR9H49sZKrb1BlkNVXj5HV05ZsStLz\n",
       "MprySt6noVnw+Sn8ga8PZt+myYu7nmRRwu56lL5XJQi+FjYI4MOFKPdufpU9YK62bQt/Duwaemyh\n",
       "tiWT9i4Xz0ixCnBX8m16z1S47qtgE9nEy7v/A85VM91sJgjYCu4xkKsa4TcPTdbcIoRC07RTxmWk\n",
       "ZAkGms1aK5GgmrYYUmaRoKU99HVvZojJBxGW1qk8na8zC6m4ucTUibuNcOarsYR1CmcUPYbfJuoM\n",
       "KLE1arToKnJ1ftXSNNXrcTvoRwgxs+4MLxGOPMZ4EqzG23pfzr3BIflvje6vWavrc4N3ugyKxkf5\n",
       "mbPaaSUm4AlMNmcnjcG677HHh+vQv6iIjCSje4gMTlG4aRUxiG+KR1bTQi8e8uwfd0gBWOBSEX66\n",
       "BOkebs6zSp6NbWX5MayEibj79Zi5ZMH3wz7p1n+GxPXKSkxSJFjlLTXlFs5J149kluL1N1DQKZBH\n",
       "WHcV+UVRUtcDvInJ+xKR7ugxN4vrVnbDTooF4pp8QUIaJ06TV+gCh/sNlqDUiOlx198LygU4Z1NG\n",
       "hz6FcG7wlL+bS22J5JXrPbCS1a5yBuyrZKLp10V6wn5/6O1hwB29TFsCnPvW/4EeWiQs+kn4NSXn\n",
       "DEd7o6h+n+abcmFObqndrfz6FloySzV67alyiZTQYtuMkbm2g6/P1gwq00UbJOk/DP9uInjd/S+D\n",
       "KePARGSyV+rLSkpY/eHxsDWxoVdyoyEbDO2e1c8Eh+BRGjdRW5qZZQELkkeCU4Ab4Rbs1dbspZFU\n",
       "kiyNNuET6f42SSLqwpef4ILqUrjQyIUPneunLPEdlPIWG9mk46LmDEhOcU12YQT2KFXbFDkxnd/h\n",
       "TzT/VAl8SJkiGW7bO3GgMa5cRzmQvUvtffzpNY0drk40QMKnBPAzpb+f5IbZBOuO8+Ga3mzrB7xH\n",
       "1VOPHRFaJeXIoKkXJ0BkJsh1v2g5oWCWov1XTbfX92up406v/LP1XSEZ8h5Ny5aae4jCzSELNnxZ\n",
       "dv4cjR6Zh/caNftgYewgc3XX54hjH8QU1LKuX+FCs78TUXtLsO7JCnXuxn4UvAJRloJA4umE9SK2\n",
       "uQ2BHuAzL5NxjSL3HYx7TKuF3TYOPsxb/Qu76sy06x/I3oSK6aGD0LNuXNA6MjfsAmwNcK0EO0xT\n",
       "AYnhlysMQ9qcKZ6Xnsp9QlZDE4N/Gt+oz3tbWdjQfOYbrmWtHDDksvXNTxcLSNmZ/adLZSPg/LvQ\n",
       "CnX3UzMYfOZtQjdx1v7nSaAB+QmYhW9Mf8Su7rZgG0Vf2/+HOesha18O90aCl3FaLLcjwKcZ6gdw\n",
       "DK0wmc3v3SWM741npRS4hCR0PNte1So69ExoEqFVJIbh57VvpaPrPXXhSFjfVOoVVngp57+S2S+F\n",
       "lHMHb+4q7Ix5qIhKVfN849EaoeAeqjdGRUE+ywTPYtelOdvZ/bV/LiVMC2Ac9WbN15Bs6mlB6GWP\n",
       "QwnUsC3p5BH1AOHptO6ZW7O1K8PLTwmfvIDiPGnL2Q1nqd+CEQ30DMMaCxxoBHAAV28PkKJk/9sC\n",
       "qX/sCoU18SHVLzoirURhAzqllniUnRsFj5Hx4cX7Nzexraer9o91P9ih9DDNSX7bdSg6y9sdysav\n",
       "iPhwtuWtB+y5MG1lPRlPwIMeG/OY318/KVuqDJ+31hhstNmpLia9Hpizrs3Aq0o7SJGQzhvX5VUM\n",
       "L0EasufMcivs7b0D46LJMlqf+dkhuZpw/Xj74nVxxJKcF43d9nFVQh9NG0avIWZg9o0XlYQUVsnZ\n",
       "vAHN03cqYNJH/XxIfy9gzbK39YxluYRyI8ph2n88yX0vEDZE7l+0MBZ/u/ZOYV0BqTAsqGb6FYzi\n",
       "KwXypiVlnNSCi0i+426INsnjPLpA+/rrEIC0pA34lSnxndAQVmu9NpH91BsaYc8MSb2HKJUB5EKs\n",
       "hWM/+EOk6O84b6QWX2BKP9qVLLG9ZSjLTcwZ/ky3IbXLpazdwBhqQZXCQBcnfRe/m+TzwRNAPjsB\n",
       "KRs6JWQhatPLVoohm9KYrxAvau4vwpGENAuuMY4JDDfQZTIqHYS0o35BaaOBx1csW+HTRw4VKLGv\n",
       "19NuI2bC4iQZUxFTgCrpWNyqY3jdlDfR+hG2kUIDOZ3VAFycvR+ltw7vSLMpaWNlrhoLOqUiHbZ2\n",
       "dutVb0WmWh0gJAlbDIUkZb/7QjMjGgbDfNdhIF1MLuzdHBYd4X+3/p5Ec3mIsyJ+1XzdjzNxDjkE\n",
       "AL7mQIdCH34JhrC6d3hrGOUapiA1uCsYnF7e+lUGcaf5RAlH0EnlHfmE7NSe3/Kr9oQDG5J9vi47\n",
       "K9NTfTSvcLjNpfOFtntetWhpziJDvW9ucdt08uFpnBfFVgYJeFI//9gD6fw3fcTC8Q/tuEDZk/iM\n",
       "HOT7KwbsaHSVZlXbWI9uDzK6qHOBlPJ+ZoEa98s4VbEta2YXgM5ciR35bAbGhV6wGi8/yIDVzl9Y\n",
       "PEf24YeA84zrNlFP//wFdeZtcbh6srXv6UUMXA8rzhJjeghu05PExXmZw+IVKG5fWtI3/d6VrIkm\n",
       "k1u47YJzeOQOs9oiHVWHiJadCYKXByjkJX/B5RxOLnLtyMLiQ5L1mJ6sBvFqBN/8pRdnz+M6rWjP\n",
       "+L6vGcPsEpGMHAqFmqEIet41eQ7fRrH4QyJzX7vJI1tGOGaT9GZjzFLIJ5GxH3v10cBpO5RYf/vM\n",
       "GqIPPX8X7m5Ctz46r6cT7eNbMnqq1znBT3ZjQu1euAwYl1xOg9UfJE0XSwGYI83LdX9T77yTJaqx\n",
       "WGSjbIBVCkaLaecQJRhIv5FLNX8ywmo44F55qFQOfGf8LMIU9tMGeFBaxBKi+3x43zZPcvnUEzss\n",
       "/Bp+baYxiiwHlPTGvnvr+VNLIItN/rJ3Sk5UDcHDqFxm7R2/gBfTf4hh41lxgcG/UWQ4MfVFl66B\n",
       "moLaqEh+guKP32hHGn6iBOvtmJwxFhNX++HWFLmps9bqiNvXAw7waGiNZBpX8EyNXeCUH/o41Ktj\n",
       "GHcaGwHB+GliSJ8ktj2GMdhO2NBq0CN1YDQ+77BuJoa+FO44yNFIQh2tY2kmC120s7pHEd/LuuGi\n",
       "QSO+zH0V7Dcp37PMk9oy/WlVuMqs0TGk8DyVuoSo6jsQZODqSqNqB1WjYyIV+favJ4+YJ4LX0ryU\n",
       "5ahaK2L1FGTHsvKPgs65g8jjiENh6fQfZVqFGA8+sTeMPoyuldQQaFyvNSOfa//9SZKG1hYerRSE\n",
       "GzgrnCslKa3bA0+QJ6wwg88OfAHD5K8TZlh5wEXJ9Ok3w9+68J+T27pCspQpdM8vys0QmEqmz2ow\n",
       "DwTNqaIlyCW5KJbmcwQNuDKXbY8Sl0LcX2gOzNsX3iQbwsOQg4t+ysn53po2PEGPzlKQz9uzeKMP\n",
       "qUdbHUGtj398IlDscxNhRlVGSsoJuKZDHfjFquzeep2oHdq6g17x9xjcXZmr4ZQgRh+CbqeNB7MQ\n",
       "mooJO6Eeic+FhMZc37zbqTyidf+RnabPw3/R8N/KN7b2hyD84CCBLuoRJwO1i+T/owYo5nWx9K1N\n",
       "hOtgWx4DH64AlV1EzXn32xM1LshX5C0oaZrfYq6DX+46ebTYEg6iZVl3eXQIQE6sQkXQLFW1Fusn\n",
       "L0j2ls8MzhufHCza9fG+GSSEhR3w6EYmbQvBLOhsrB71ChM/2+d481YBUtfU/TRiCpVavyd+P/TW\n",
       "LnJCxOiMM8GhUnKLuWHTlNb6G8KpgWacQauUyF9VytR/G9bloyqkk2o7SIXyuCockm8QTS2+NnoZ\n",
       "LKRyM2VbxOX/xM4GCoIeAVmH+eE18Sf3qzDra5ALLWvFkhe0PV8le29CVLQwhjrsJzbizLpoZVdg\n",
       "/+190sGfXRaeF9jPIF8tITrzeU7TM8Q2/KKT4CxOodHY2NBpqUlK5uxjHByDuNt08wm5oJ1VldSZ\n",
       "bobFv3OYWzKSEgrDXNgng1yBCTIIfHuwgbvD76gIJkUuLS1UH97qasz3mS2cIURBqs56qF/1PANZ\n",
       "nafgsI+hiGnjOfT3bfKttWFh8CxoJsQyFIvpzHtJa/e5j5XrMJ2PJOAQuWAXuefG8koRqHLNDWGL\n",
       "/tJn28yeSoI428ZKmOb1zqm0KFh2FFQflna/8G6xA9OPz2Cp8v/uWv3AflfQk0VETO5m+qDEQ2Mi\n",
       "ScUaUBg6wKhU3YaH31aD5wYtgUtzkJuQKEAZwRqKZpQ2ER1E0TBqzdoRA2GCOsLHvbmHdttYOdQO\n",
       "5TFx6ngHOhV+tB9Ah9YzNc0WyqZ9/UUuNn+oVP99B9kGXR/TeFMvTZpV6LhsoQHM+nxvtKxGX0e1\n",
       "w2eKDHyIJG8vjgQbKQUui71UNf9jbs9oAwE5ZKSXSSgtzmsy6NQaJ8m1626MFyaNflv5+yRPwws+\n",
       "8P5u1hjZMUdEOUaLsVcMKre+p6vaB2mfJv2hVqY9/kndXnztweg157DFWQZV80NZ6jTrTo1hr1BK\n",
       "Sdc5HpBdg1o8BX9VWHUzI8WPY5Ql4S+jWM/lVzslKoBkp/vZnKSAlN0Zp+A58EHljajdRxgmQxj3\n",
       "Lq+BScxT8/MfbIEbi/QjwDWUhdhtW3bHoFdpttV0uZ8Xvekhg4qxVxIoIzYEwsKv/dRQkIm1UDkP\n",
       "k/R+D9Ic3l8RdIVSqX1gwXLtYv3+j5LV/ZB1Dpm06GtspjeAlpEgRbQkxMG56YNxEAawwVIqWlzR\n",
       "hJQPiJT9eiYMHBQnvPWVRYAXJm085TGhAriW7ZWJ5D8WGH093lYwq7G780hevcIcGAddv7vrZYCo\n",
       "gwcLacmhAAvJLjg3zoMAwKwIjxXimq2stwesSj6CNj2N0sdxNztE9mkd39Idf0rpjh+/EZYVxkJ7\n",
       "84DLTE3ZAQbp7EoGXJatWPfcDJgBPmWoUm3RE60zeDWMVXDiITj3HJE85ei/VZ6XaqGjnX9aqZIL\n",
       "zRt8uXK7eWR5Cifq2f9y62vD4Pj8e/x3V5LS8jhxgUM5FfLZjS1D+W63a/ZGCfr4j1/UZOMywkrv\n",
       "EWFGJYwy2D0PQVg6n33jlfT7O9E/9tghdMANYC1finBlrLuLEvADkR8Y/dADUt4fDHr2Pj5mnz2y\n",
       "QWCr9ClRy7sgpOyaGHces184XLgRNdQJWsDew4hzrxxk+YDp3xvHNmlJx/ZhIAAGnXuX31RAQEoQ\n",
       "MgmN7xSRAAABzUGaJGxDP/6eEANz7HggpfwBu86G8kVPZnTC+oDU3VztbQvs4gKYqd00b2rG6zLD\n",
       "6/3DpnY9ANJOTXEkWhIfXZIefQlceriAUPlz2vxNhcKQYTx/hB126xP8eO9KCd/t59/ZmBpNnD1n\n",
       "TooiVhZk9LUPVHnc9a8ZAd3TZuiKTD4tgaa8Lr06wPGowEjHALrX9G7GJDXHSkvYl9GyzUPO+VNC\n",
       "ulyIN6y9EZUucyjScmSglM1ytabpjbSiQ5shxWbnvrZtAq7kwaRsck1tLxjQ9oZt6Ja3RF0MEN/Y\n",
       "NwySkgFiwy/kQedmwcWgQVAucVGvokwIZIjzW6hNIVrOkWmfTgl3yBCs/DkOEnQTJcp53j9q1zmM\n",
       "mNL8wCz8qbDGBw4yifVcfNWzecVFadrPduvpk/MpaVfkOZTZ71yhq5CqggM/+/LDrTU8CFOobdo7\n",
       "F93XV3MK1RiODbc6Cf4Rz6fjNTYgffGAIxddfhcNl9y+04leX19Y4eXHm8aHGFmGz4S6VcsKwa6n\n",
       "YRl31sTDnD/02x00yuyb/Oss9xIyyEW3JzoumICPsapaxkOWMAMQI7FwUZADGLeVqfjOlPMUBdTk\n",
       "KOpQzwIMN/ddyLERARgQAAAAKEGeQniEfwEaUVCGtkKz3a9LMoB0eucXRtLh37kfEg/k4e0EKfTB\n",
       "qKcAAAAwAZ5hdEf/AcSKNoUo1VQAbYD/ulWYH07GSyUExIY6IqRK6kpeMu+j6aFKGjis3QyJAAAA\n",
       "DwGeY2pH/wHFgAECp4UlgAAAAEtBmmhJqEFomUwIZ//+nhADc+x4VCIL0ABYfX2uMeK5EecohBWy\n",
       "VFkBTFc6DaNpdHK8SjxrQugTnrR6kNieD0puH0u1aKyW4QFoS/8AAAARQZ6GRREsI/8BHYGMnL6o\n",
       "iYEAAAAMAZ6ldEf/AcSKYoFDAAAACwGep2pH/wAAAwO7AAAALEGarEmoQWyZTAhn//6eEABPcbjg\n",
       "CtUawfADV2+m6IBSr8PJtyp69FY2pwUkAAAADkGeykUVLCP/ABnCnVFNAAAACwGe6XRH/wAAAwO7\n",
       "AAAACwGe62pH/wAAAwO7AAAAJkGa8EmoQWyZTAhn//6eEABPcbjgCtUWY2IjwPwLOd31QYiNEDKh\n",
       "AAAAFUGfDkUVLCP/ABnW94AWzdu1FERjQAAAAAwBny10R/8AKP6MUb8AAAAMAZ8vakf/ACj5rCGN\n",
       "AAAAMkGbNEmoQWyZTAhn//6eEABPcbjgCmaRxDPtvIBBZCajjjG+vCt0y4/tGk8NcD6icFJAAAAA\n",
       "FUGfUkUVLCP/ABnW94AVVhLD9nw34AAAAAsBn3F0R/8AAAMDuwAAAAsBn3NqR/8AAAMDuwAAAElB\n",
       "m3hJqEFsmUwIZ//+nhAAT3G44Az/06zkakn7lnvFhcNPI3s/H3ipq9x/Vdnss9xwUa7kiMMPpKOX\n",
       "IC4KMoF0+4D5hsA58EnBAAAAEEGflkUVLCP/ABnJg9EwKuAAAAALAZ+1dEf/AAADA7oAAAAUAZ+3\n",
       "akf/ACjpcCUJAJTAA6Lw3oEAAABcQZu8SahBbJlMCGf//p4QAE24xU+X6VHXAI5ut3wOXl8AJ2NQ\n",
       "pZBYbaWmiCUc13yI1mCWYFGqWR5tdg4/E8mr5WSn3yhd2UXpDGceVBbXRu8AVoKcflRy0h/JAk4A\n",
       "AAAfQZ/aRRUsI/8AGTl3AAp3/G+Gc5Fq7iBFwwsbCWgtoAAAABYBn/l0R/8AJ7s9sAC2UxOO405S\n",
       "AFtBAAAADgGf+2pH/wAn2aryLEjAAAAAZUGb4EmoQWyZTAhn//6eEABPcbjgDlGo1a1c27XJwRob\n",
       "MMZ0cZBpaiLXbb/QXgmQIcgw8DeE1D2M1Xy8nXkGsXttmIaEEh4fJEQbx0afDvXCMeKGP83uPxSQ\n",
       "ydLzUgshOwm+cJOBAAAAEkGeHkUVLCP/ABkipKGahzzUgQAAABgBnj10R/8AKP44h4qoAQ8HCXhJ\n",
       "NisoaDgAAAAMAZ4/akf/ABR1ACMbAAAAMkGaJEmoQWyZTAhn//6eEAAnsD6spUdgBtE0m/N7yJzF\n",
       "xddFW9MH9/C+mCD8DXsVxYdMAAAAF0GeQkUVLCP/AAy3oHqgABtqj4gWfG/BAAAACwGeYXRH/wAA\n",
       "AwO7AAAAFAGeY2pH/wAUjOMACvauwQdCAKb8AAAAMUGaaEmoQWyZTAhn//6eEAAnuce4ARWNawlw\n",
       "fMeHLdY3uu9LF6cJdM9NSatiJ/xq0ZcAAAAQQZ6GRRUsI/8ADOTDi4oKuQAAAAsBnqV0R/8AAAMD\n",
       "ugAAAA0BnqdqR/8AFHTT5cEzAAAAMkGarEmoQWyZTAhn//6eEAAnuce4ARWMTIEN35S4FcXjaD+u\n",
       "x6JZVrOXLWHFyb/9c+EnAAAADkGeykUVLCP/AAyRTqlXAAAADAGe6XRH/wAT70YpywAAAAwBnutq\n",
       "R/8AFHzWEY0AAABDQZrwSahBbJlMCGf//p4QACe5zKQAiY+pozBbqGNjyHegtY9mDQZglBaqaEEz\n",
       "LATaVCnk3CsVKvo5iAy+eJicjkwrYQAAABZBnw5FFSwj/wAMkoUmAG5ffwEL2RMuAAAADQGfLXRH\n",
       "/wAUeNcIxoAAAAAMAZ8vakf/ABPlACMvAAAAE0GbNEmoQWyZTAhn//6eEAAAB0wAAAANQZ9SRRUs\n",
       "I/8AAAMCXgAAAAsBn3F0R/8AAAMDuwAAAAsBn3NqR/8AAAMDuwAAABNBm3hJqEFsmUwIZ//+nhAA\n",
       "AAdNAAAADUGflkUVLCP/AAADAl4AAAALAZ+1dEf/AAADA7oAAAALAZ+3akf/AAADA7sAAABJQZu8\n",
       "SahBbJlMCGf//p4QACjZwRIAaIA4eHqw8vU0EdFkeXjr3l9xT/BHkANrwCBuNJGo8qjfRIsexEro\n",
       "am/aa2WSsNGmI8mFTAAAABdBn9pFFSwj/wAM2CCVwAFxWZfhp2fG/AAAABQBn/l0R/8AFFuyJ0AF\n",
       "qK9trsFN+QAAABgBn/tqR/8AFRIF2/AAS0Pb9oLO/musErAAAABIQZvgSahBbJlMCGf//p4QACjf\n",
       "NnYAcGrN0L10qA7gwXdiT4Bh4gMmRcjErX9SJSArIOQ6kdz16NoOpX2T3rnjO5tUnZEuTCphAAAA\n",
       "GEGeHkUVLCP/AA0xPeQ2AEs6fga3FOgpoQAAAA4Bnj10R/8AFQjOnDxswAAAABQBnj9qR/8AFHe5\n",
       "rACZCheTgO8RjQAAAB9BmiRJqEFsmUwIZ//+nhAAJ7rRAoAvBMjQZdvn0QZUAAAADkGeQkUVLCP/\n",
       "AAzhTqlNAAAACwGeYXRH/wAAAwO7AAAACwGeY2pH/wAAAwO6AAAAN0GaaEmoQWyZTAhn//6eEAAo\n",
       "9VJudwAWK92/aZk8B1lP8/umpXa13Y7RYOqxCEqcnC5cnYFEGLAAAAAPQZ6GRRUsI/8ADTTH/G1B\n",
       "AAAACwGepXRH/wAAAwO6AAAAFwGep2pH/wAVDaZgASosew0YbFSsFNqBAAAAR0GarEmoQWyZTAhn\n",
       "//6eEAAo2qqcAIrGHkPFm5Vac/1PjnAG73xvKFGJ/pAjcjmig2YQPxO8SCoi8w3LovIAU9cJxuOK\n",
       "IMWAAAAAG0GeykUVLCP/AA0ybyQAfhDnKGdZ7WeJUxSigQAAAAsBnul0R/8AAAMDuwAAAAwBnutq\n",
       "R/8AFQUAIwcAAABBQZrwSahBbJlMCGf//p4QAFGyldAEe9Rr2pg8PalNXAKykQ050VO/TecBSjrc\n",
       "4lFtLBo+ngjlPym8ApMBd16QBx0AAAAPQZ8ORRUsI/8ADSgZZ8bUAAAADAGfLXRH/wAVAXIptQAA\n",
       "AAwBny9qR/8AFQzWEYMAAABzQZs0SahBbJlMCGf//p4QAFP1pscAU9bRx1Lj7ZqsU4PHY6X57X+L\n",
       "pyqx3xyVBcQBtq/SIE5980aZvEQYR/aZH0zEc+oDHeC2j4fTB4T3u0Zatscc1JijzAKtZZ6Z/QKN\n",
       "JWmlX695XyxsEEjBo020NTYGBAAAABJBn1JFFSwj/wAaYqSUejEEjpgAAAAWAZ9xdEf/ACs+ii5A\n",
       "GgAlqaXxHnEFtQAAAAwBn3NqR/8AFZUAIvMAAAA4QZt4SahBbJlMCGf//p4QAFPd/PhAAnrXrAqy\n",
       "udugmLeC+7/ZBkSt3mMdEiwhFHX01aJVK3z8HHEAAAANQZ+WRRUsI/8AAAMCXgAAAAsBn7V0R/8A\n",
       "AAMDugAAAAwBn7dqR/8AKgoAQwcAAAAiQZu8SahBbJlMCGf//p4QAFGxuOAK1RaEwbgnmjotzCwM\n",
       "WAAAAA1Bn9pFFSwj/wAAAwJeAAAACwGf+XRH/wAAAwO7AAAACwGf+2pH/wAAAwO6AAAALEGb4Emo\n",
       "QWyZTAhn//6eEABRnXG48yABXOAyjrj/pRVu+hLRHBCi6rrZRAxZAAAAD0GeHkUVLCP/ABpQMs+G\n",
       "1QAAAAsBnj10R/8AAAMDugAAAAsBnj9qR/8AAAMDuwAAAB9BmiRJqEFsmUwIZ//+nhAAUbKtcARl\n",
       "72cB1vo5RAxYAAAAD0GeQkUVLCP/ABppj/htQQAAAAsBnmF0R/8AAAMDuwAAAAsBnmNqR/8AAAMD\n",
       "ugAAABxBmmhJqEFsmUwIZ//+nhAAUbKtcARj1L0ok4KCAAAADUGehkUVLCP/AAADAl8AAAALAZ6l\n",
       "dEf/AAADA7oAAAALAZ6nakf/AAADA7sAAAAkQZqsSahBbJlMCGf//p4QAFPw64AgtxuWygKomfpo\n",
       "7xgRFg3oAAAADUGeykUVLCP/AAADAl8AAAALAZ7pdEf/AAADA7sAAAALAZ7rakf/AAADA7sAAABQ\n",
       "QZrwSahBbJlMCGf//p4QAFPydGAK368FonOgD0xdT5MkLg08wxx6DB4MHvoVzEdY4M/SixIc8AW4\n",
       "IRkTHunll1RqM6SwaoSqIAeFuD8mCkkAAAAUQZ8ORRUsI/8AGxb3gBCW3MXkReQAAAALAZ8tdEf/\n",
       "AAADA7oAAAANAZ8vakf/ACsIPXIPmQAAAENBmzRJqEFsmUwIZ//+nhAAU/K+OAK3qhP3unPCgOnw\n",
       "eGoibFXko71r/VToGFpQ8HWTfMm/6enPlkEIP1mb/BP+QIeAAAAAGEGfUkUVLCP/ABsCnU4bAEPb\n",
       "fzudJUcFTAAAABQBn3F0R/8AKyLipbwAK2kjMO7JiwAAAAsBn3NqR/8AAAMDuwAAACFBm3hJqEFs\n",
       "mUwIZ//+nhAAU/LGlAEdoyVdWH8MweAWBgUAAAAPQZ+WRRUsI/8AGwmP+GrAAAAACwGftXRH/wAA\n",
       "AwO6AAAACwGft2pH/wAAAwO7AAAAOkGbvEmoQWyZTAhn//6eEABWMdpQA2tw7KmVknq7Q7wzKRwx\n",
       "zSPsTtexwZ+Vc9dZYB+EUVQJ9WeTBQQAAAAYQZ/aRRUsI/8AG6ndeAE1dwh1pL7FaIF5AAAADgGf\n",
       "+XRH/wAsXjiQ8M+BAAAADAGf+2pH/wBWVACC8gAAACxBm+BJqEFsmUwIZ//+nhAAVjG44AhFNHPO\n",
       "dt9ITAHsPSw/Kfz30mMczc+CHwAAAA9Bnh5FFSwj/wAbqY/4aEEAAAALAZ49dEf/AAADA7oAAAAL\n",
       "AZ4/akf/AAADA7sAAAAoQZokSahBbJlMCF///oywAFbgyoCCvNf6zACMLYwaRnjvlKwBOfIKSAAA\n",
       "ABBBnkJFFSwj/wAbUCtABFxBAAAADAGeYXRH/wAsXoxRoQAAAAsBnmNqR/8AAAMDugAAADBBmmhJ\n",
       "qEFsmUwIX//+jLAAVtyS4DoJ4gBprjx8xTf5P3bnV+4eYrc/7IxTrmNmEHAAAAAWQZ6GRRUsI/8A\n",
       "G6olFAC3hvjk8Lw0IQAAAAsBnqV0R/8AAAMDugAAAAsBnqdqR/8AAAMDuwAAAERBmqxJqEFsmUwI\n",
       "X//+jLAAVvWm0gBGakD6JudLh5p/fSxxkOhAjzbRpBmhI1fDDW2qTb0PGigkQ3IivreGpy/G61mE\n",
       "HAAAABxBnspFFSwj/wA3UyTr+RPaCADYrQHB22KdCj7hAAAADgGe6XRH/wBYvSyVV0FnAAAAEgGe\n",
       "62pH/wBYyCcng58RVSj7gQAAADZBmvBJqEFsmUwIV//+OEACn2UCAoJcDaOJNlIyFhd0chTcTj+S\n",
       "PNPGCSnaTjxnMoOPw4GQpoEAAAAQQZ8ORRUsI/8AN1fL7RFhAwAAAA0Bny10R/8AWIXEfDEDAAAA\n",
       "DQGfL2pH/wBYuGwUNCEAAAAhQZs0SahBbJlMCEf//eEABRpgigBLYNWVCNJJfvt3CA+YAAAAD0Gf\n",
       "UkUVLCP/ADc3E/BoQAAAAAwBn3F0R/8ALF6MUaEAAAAMAZ9zakf/ACxKAELjAAAAEkGbdUmoQWyZ\n",
       "TAj//IQAAAMBswAAFeJtb292AAAAbG12aGQAAAAAAAAAAAAAAAAAAAPoAAAfQAABAAABAAAAAAAA\n",
       "AAAAAAAAAQAAAAAAAAAAAAAAAAAAAAEAAAAAAAAAAAAAAAAAAEAAAAAAAAAAAAAAAAAAAAAAAAAA\n",
       "AAAAAAAAAAAAAAACAAAVDHRyYWsAAABcdGtoZAAAAAMAAAAAAAAAAAAAAAEAAAAAAAAfQAAAAAAA\n",
       "AAAAAAAAAAAAAAAAAQAAAAAAAAAAAAAAAAAAAAEAAAAAAAAAAAAAAAAAAEAAAAABsAAAASAAAAAA\n",
       "ACRlZHRzAAAAHGVsc3QAAAAAAAAAAQAAH0AAAAIAAAEAAAAAFIRtZGlhAAAAIG1kaGQAAAAAAAAA\n",
       "AAAAAAAAADIAAAGQAFXEAAAAAAAtaGRscgAAAAAAAAAAdmlkZQAAAAAAAAAAAAAAAFZpZGVvSGFu\n",
       "ZGxlcgAAABQvbWluZgAAABR2bWhkAAAAAQAAAAAAAAAAAAAAJGRpbmYAAAAcZHJlZgAAAAAAAAAB\n",
       "AAAADHVybCAAAAABAAAT73N0YmwAAACzc3RzZAAAAAAAAAABAAAAo2F2YzEAAAAAAAAAAQAAAAAA\n",
       "AAAAAAAAAAAAAAABsAEgAEgAAABIAAAAAAAAAAEAAAAAAAAAAAAAAAAAAAAAAAAAAAAAAAAAAAAA\n",
       "AAAAAAAY//8AAAAxYXZjQwFkAB7/4QAYZ2QAHqzZQbCWhAAAAwAEAAADAZA8WLZYAQAGaOvjyyLA\n",
       "AAAAHHV1aWRraEDyXyRPxbo5pRvPAyPzAAAAAAAAABhzdHRzAAAAAAAAAAEAAAGQAAABAAAAABhz\n",
       "dHNzAAAAAAAAAAIAAAABAAAA+wAADIBjdHRzAAAAAAAAAY4AAAACAAACAAAAAAEAAAUAAAAAAQAA\n",
       "AgAAAAABAAAAAAAAAAEAAAEAAAAAAQAABQAAAAABAAACAAAAAAEAAAAAAAAAAQAAAQAAAAABAAAF\n",
       "AAAAAAEAAAIAAAAAAQAAAAAAAAABAAABAAAAAAEAAAIAAAAAAQAABQAAAAABAAACAAAAAAEAAAAA\n",
       "AAAAAQAAAQAAAAABAAACAAAAAAEAAAUAAAAAAQAAAgAAAAABAAAAAAAAAAEAAAEAAAAAAQAAAgAA\n",
       "AAABAAAFAAAAAAEAAAIAAAAAAQAAAAAAAAABAAABAAAAAAIAAAIAAAAAAQAABQAAAAABAAACAAAA\n",
       "AAEAAAAAAAAAAQAAAQAAAAABAAAFAAAAAAEAAAIAAAAAAQAAAAAAAAABAAABAAAAAAEAAAUAAAAA\n",
       "AQAAAgAAAAABAAAAAAAAAAEAAAEAAAAAAQAABQAAAAABAAACAAAAAAEAAAAAAAAAAQAAAQAAAAAB\n",
       "AAAFAAAAAAEAAAIAAAAAAQAAAAAAAAABAAABAAAAAAEAAAUAAAAAAQAAAgAAAAABAAAAAAAAAAEA\n",
       "AAEAAAAAAQAABQAAAAABAAACAAAAAAEAAAAAAAAAAQAAAQAAAAABAAAFAAAAAAEAAAIAAAAAAQAA\n",
       "AAAAAAABAAABAAAAAAEAAAUAAAAAAQAAAgAAAAABAAAAAAAAAAEAAAEAAAAAAQAABQAAAAABAAAC\n",
       "AAAAAAEAAAAAAAAAAQAAAQAAAAABAAAFAAAAAAEAAAIAAAAAAQAAAAAAAAABAAABAAAAAAEAAAUA\n",
       "AAAAAQAAAgAAAAABAAAAAAAAAAEAAAEAAAAAAQAAAgAAAAABAAAFAAAAAAEAAAIAAAAAAQAAAAAA\n",
       "AAABAAABAAAAAAEAAAUAAAAAAQAAAgAAAAABAAAAAAAAAAEAAAEAAAAAAQAAAgAAAAABAAAFAAAA\n",
       "AAEAAAIAAAAAAQAAAAAAAAABAAABAAAAAAEAAAUAAAAAAQAAAgAAAAABAAAAAAAAAAEAAAEAAAAA\n",
       "AQAABQAAAAABAAACAAAAAAEAAAAAAAAAAQAAAQAAAAABAAAFAAAAAAEAAAIAAAAAAQAAAAAAAAAB\n",
       "AAABAAAAAAEAAAUAAAAAAQAAAgAAAAABAAAAAAAAAAEAAAEAAAAAAQAABQAAAAABAAACAAAAAAEA\n",
       "AAAAAAAAAQAAAQAAAAABAAAFAAAAAAEAAAIAAAAAAQAAAAAAAAABAAABAAAAAAEAAAUAAAAAAQAA\n",
       "AgAAAAABAAAAAAAAAAEAAAEAAAAAAQAABQAAAAABAAACAAAAAAEAAAAAAAAAAQAAAQAAAAABAAAC\n",
       "AAAAAAEAAAUAAAAAAQAAAgAAAAABAAAAAAAAAAEAAAEAAAAAAQAABQAAAAABAAACAAAAAAEAAAAA\n",
       "AAAAAQAAAQAAAAABAAAFAAAAAAEAAAIAAAAAAQAAAAAAAAABAAABAAAAAAEAAAUAAAAAAQAAAgAA\n",
       "AAABAAAAAAAAAAEAAAEAAAAAAQAABQAAAAABAAACAAAAAAEAAAAAAAAAAQAAAQAAAAABAAAFAAAA\n",
       "AAEAAAIAAAAAAQAAAAAAAAABAAABAAAAAAEAAAIAAAAAAQAABQAAAAABAAACAAAAAAEAAAAAAAAA\n",
       "AQAAAQAAAAABAAAFAAAAAAEAAAIAAAAAAQAAAAAAAAABAAABAAAAAAEAAAUAAAAAAQAAAgAAAAAB\n",
       "AAAAAAAAAAEAAAEAAAAAAQAABQAAAAABAAACAAAAAAEAAAAAAAAAAQAAAQAAAAABAAAFAAAAAAEA\n",
       "AAIAAAAAAQAAAAAAAAABAAABAAAAAAEAAAUAAAAAAQAAAgAAAAABAAAAAAAAAAEAAAEAAAAAAQAA\n",
       "BQAAAAABAAACAAAAAAEAAAAAAAAAAQAAAQAAAAABAAAFAAAAAAEAAAIAAAAAAQAAAAAAAAABAAAB\n",
       "AAAAAAEAAAUAAAAAAQAAAgAAAAABAAAAAAAAAAEAAAEAAAAAAQAABQAAAAABAAACAAAAAAEAAAAA\n",
       "AAAAAQAAAQAAAAABAAAFAAAAAAEAAAIAAAAAAQAAAAAAAAABAAABAAAAAAEAAAUAAAAAAQAAAgAA\n",
       "AAABAAAAAAAAAAEAAAEAAAAAAQAABQAAAAABAAACAAAAAAEAAAAAAAAAAQAAAQAAAAABAAAFAAAA\n",
       "AAEAAAIAAAAAAQAAAAAAAAABAAABAAAAAAEAAAIAAAAAAQAABQAAAAABAAACAAAAAAEAAAAAAAAA\n",
       "AQAAAQAAAAABAAAFAAAAAAEAAAIAAAAAAQAAAAAAAAABAAABAAAAAAEAAAUAAAAAAQAAAgAAAAAB\n",
       "AAAAAAAAAAEAAAEAAAAAAQAABQAAAAABAAACAAAAAAEAAAAAAAAAAQAAAQAAAAABAAAFAAAAAAEA\n",
       "AAIAAAAAAQAAAAAAAAABAAABAAAAAAEAAAUAAAAAAQAAAgAAAAABAAAAAAAAAAEAAAEAAAAAAQAA\n",
       "BQAAAAABAAACAAAAAAEAAAAAAAAAAQAAAQAAAAABAAAFAAAAAAEAAAIAAAAAAQAAAAAAAAABAAAB\n",
       "AAAAAAEAAAUAAAAAAQAAAgAAAAABAAAAAAAAAAEAAAEAAAAAAQAABQAAAAABAAACAAAAAAEAAAAA\n",
       "AAAAAQAAAQAAAAABAAADAAAAAAEAAAEAAAAAAQAAAgAAAAABAAAFAAAAAAEAAAIAAAAAAQAAAAAA\n",
       "AAABAAABAAAAAAEAAAUAAAAAAQAAAgAAAAABAAAAAAAAAAEAAAEAAAAAAQAABQAAAAABAAACAAAA\n",
       "AAEAAAAAAAAAAQAAAQAAAAABAAAFAAAAAAEAAAIAAAAAAQAAAAAAAAABAAABAAAAAAEAAAUAAAAA\n",
       "AQAAAgAAAAABAAAAAAAAAAEAAAEAAAAAAQAABQAAAAABAAACAAAAAAEAAAAAAAAAAQAAAQAAAAAB\n",
       "AAAFAAAAAAEAAAIAAAAAAQAAAAAAAAABAAABAAAAAAEAAAUAAAAAAQAAAgAAAAABAAAAAAAAAAEA\n",
       "AAEAAAAAAQAABQAAAAABAAACAAAAAAEAAAAAAAAAAQAAAQAAAAABAAAFAAAAAAEAAAIAAAAAAQAA\n",
       "AAAAAAABAAABAAAAAAEAAAUAAAAAAQAAAgAAAAABAAAAAAAAAAEAAAEAAAAAAQAABQAAAAABAAAC\n",
       "AAAAAAEAAAAAAAAAAQAAAQAAAAABAAAFAAAAAAEAAAIAAAAAAQAAAAAAAAABAAABAAAAAAEAAAUA\n",
       "AAAAAQAAAgAAAAABAAAAAAAAAAEAAAEAAAAAAQAABQAAAAABAAACAAAAAAEAAAAAAAAAAQAAAQAA\n",
       "AAABAAAFAAAAAAEAAAIAAAAAAQAAAAAAAAABAAABAAAAAAEAAAUAAAAAAQAAAgAAAAABAAAAAAAA\n",
       "AAEAAAEAAAAAAQAABQAAAAABAAACAAAAAAEAAAAAAAAAAQAAAQAAAAABAAAFAAAAAAEAAAIAAAAA\n",
       "AQAAAAAAAAABAAABAAAAAAEAAAUAAAAAAQAAAgAAAAABAAAAAAAAAAEAAAEAAAAAAQAABQAAAAAB\n",
       "AAACAAAAAAEAAAAAAAAAAQAAAQAAAAABAAAFAAAAAAEAAAIAAAAAAQAAAAAAAAABAAABAAAAAAEA\n",
       "AAUAAAAAAQAAAgAAAAABAAAAAAAAAAEAAAEAAAAAAQAABQAAAAABAAACAAAAAAEAAAAAAAAAAQAA\n",
       "AQAAAAABAAAFAAAAAAEAAAIAAAAAAQAAAAAAAAABAAABAAAAAAEAAAUAAAAAAQAAAgAAAAABAAAA\n",
       "AAAAAAEAAAEAAAAAAQAABQAAAAABAAACAAAAAAEAAAAAAAAAAQAAAQAAAAABAAAFAAAAAAEAAAIA\n",
       "AAAAAQAAAAAAAAABAAABAAAAAAEAAAUAAAAAAQAAAgAAAAABAAAAAAAAAAEAAAEAAAAAAQAABQAA\n",
       "AAABAAACAAAAAAEAAAAAAAAAAQAAAQAAAAABAAAFAAAAAAEAAAIAAAAAAQAAAAAAAAABAAABAAAA\n",
       "AAEAAAUAAAAAAQAAAgAAAAABAAAAAAAAAAEAAAEAAAAAAQAABQAAAAABAAACAAAAAAEAAAAAAAAA\n",
       "AQAAAQAAAAABAAAFAAAAAAEAAAIAAAAAAQAAAAAAAAABAAABAAAAAAEAAAUAAAAAAQAAAgAAAAAB\n",
       "AAAAAAAAAAEAAAEAAAAAAQAABQAAAAABAAACAAAAAAEAAAAAAAAAAQAAAQAAAAABAAAFAAAAAAEA\n",
       "AAIAAAAAAQAAAAAAAAABAAABAAAAAAEAAAIAAAAAHHN0c2MAAAAAAAAAAQAAAAEAAAGQAAAAAQAA\n",
       "BlRzdHN6AAAAAAAAAAAAAAGQAAA1LAAAAp8AAADBAAAAPQAAACgAAAAjAAAAjwAAADAAAAAjAAAA\n",
       "IwAAAH0AAAAqAAAAGwAAACMAAABGAAAAngAAACwAAAAmAAAAIQAAAEUAAABpAAAALAAAAB8AAAAk\n",
       "AAAAMAAAAFoAAAAzAAAAIgAAACAAAABGAAAAPAAAAH4AAAArAAAAIAAAACUAAABwAAAAKwAAACEA\n",
       "AAAaAAAAPwAAACkAAAAdAAAAFAAAAEMAAAAsAAAAHgAAABQAAABZAAAAHwAAABQAAAAfAAAAbgAA\n",
       "ACAAAAAfAAAAFAAAAFQAAAAnAAAAHwAAAB8AAAA/AAAAJAAAABoAAAAfAAAAOAAAAB4AAAAYAAAA\n",
       "FgAAAEIAAAAnAAAAFAAAABcAAABsAAAALQAAACQAAAAaAAAAQQAAAC4AAAAYAAAAIgAAADkAAABT\n",
       "AAAAKwAAABsAAAAcAAAAXAAAACwAAAAbAAAAIwAAAEIAAAA2AAAAKgAAAB4AAAAYAAAAMwAAACkA\n",
       "AAAUAAAAFAAAADcAAAAdAAAAFAAAABcAAABBAAAAHwAAABcAAAAUAAAAOAAAAB8AAAAUAAAAGAAA\n",
       "AFgAAAApAAAAGgAAAB8AAABEAAAAIQAAABgAAAAZAAAAQgAAACgAAAAeAAAAFAAAAEsAAAAfAAAA\n",
       "GAAAACEAAABAAAAAKAAAACQAAAAdAAAAFAAAAFYAAAAgAAAAGAAAABcAAABMAAAAKgAAABoAAAAX\n",
       "AAAANQAAACAAAAAUAAAAFAAAACsAAAAeAAAAFAAAABQAAAAtAAAAHQAAABQAAAAUAAAAMwAAAFUA\n",
       "AAAuAAAAIgAAACEAAAA/AAAAJgAAABQAAAAWAAAAYAAAACAAAAAYAAAAFAAAADcAAAAgAAAAFAAA\n",
       "ABYAAABhAAAAKwAAACIAAAAUAAAATwAAACwAAAAZAAAAHAAAAC0AAAAdAAAAGAAAABYAAAA7AAAA\n",
       "KAAAABkAAAAWAAAASgAAAB8AAAAYAAAAFwAAADYAAAAfAAAAFAAAABYAAAAuAAAAHgAAABgAAAAU\n",
       "AAAAWwAAAB4AAAAYAAAAFwAAAD8AAAApAAAAFAAAABYAAABIAAAAIAAAAB4AAAAZAAAALwAAADoA\n",
       "AAAnAAAAHQAAABQAAABAAAAAKQAAABgAAAAYAAAANQAAADAAAAAiAAAAFgAAAFUAAAAvAAAAHAAA\n",
       "AB8AAABBAAAAKgAAABgAAAAhAAAAdwAAACEAAAAhAAAAJQAAAGUAAAAqAAAAHQAAACEAAABOAAAA\n",
       "HgAAABkAAAAWAAAAMgAAAB0AAAAUAAAAFAAAAHwAAAAgAAAAFAAAABcAAAAjAAAAHAAAQbMAAAHR\n",
       "AAAALAAAADQAAAATAAAATwAAABUAAAAQAAAADwAAADAAAAASAAAADwAAAA8AAAAqAAAAGQAAABAA\n",
       "AAAQAAAANgAAABkAAAAPAAAADwAAAE0AAAAUAAAADwAAABgAAABgAAAAIwAAABoAAAASAAAAaQAA\n",
       "ABYAAAAcAAAAEAAAADYAAAAbAAAADwAAABgAAAA1AAAAFAAAAA8AAAARAAAANgAAABIAAAAQAAAA\n",
       "EAAAAEcAAAAaAAAAEQAAABAAAAAXAAAAEQAAAA8AAAAPAAAAFwAAABEAAAAPAAAADwAAAE0AAAAb\n",
       "AAAAGAAAABwAAABMAAAAHAAAABIAAAAYAAAAIwAAABIAAAAPAAAADwAAADsAAAATAAAADwAAABsA\n",
       "AABLAAAAHwAAAA8AAAAQAAAARQAAABMAAAAQAAAAEAAAAHcAAAAWAAAAGgAAABAAAAA8AAAAEQAA\n",
       "AA8AAAAQAAAAJgAAABEAAAAPAAAADwAAADAAAAATAAAADwAAAA8AAAAjAAAAEwAAAA8AAAAPAAAA\n",
       "IAAAABEAAAAPAAAADwAAACgAAAARAAAADwAAAA8AAABUAAAAGAAAAA8AAAARAAAARwAAABwAAAAY\n",
       "AAAADwAAACUAAAATAAAADwAAAA8AAAA+AAAAHAAAABIAAAAQAAAAMAAAABMAAAAPAAAADwAAACwA\n",
       "AAAUAAAAEAAAAA8AAAA0AAAAGgAAAA8AAAAPAAAASAAAACAAAAASAAAAFgAAADoAAAAUAAAAEQAA\n",
       "ABEAAAAlAAAAEwAAABAAAAAQAAAAFgAAABRzdGNvAAAAAAAAAAEAAAAsAAAAYnVkdGEAAABabWV0\n",
       "YQAAAAAAAAAhaGRscgAAAAAAAAAAbWRpcmFwcGwAAAAAAAAAAAAAAAAtaWxzdAAAACWpdG9vAAAA\n",
       "HWRhdGEAAAABAAAAAExhdmY1Ni40MC4xMDE=\n",
       "\">\n",
       "  Your browser does not support the video tag.\n",
       "</video>"
      ]
     },
     "metadata": {},
     "output_type": "display_data"
    }
   ],
   "source": [
    "try:\n",
    "    display_html(HTML(anim.to_html5_video()))\n",
    "# In case the build-in renderers are unaviable, fall back to\n",
    "# a custom one, that doesn't require external libraries\n",
    "except RuntimeError:\n",
    "    anim.save(None, writer=matplotlib_utils.SimpleMovieWriter(0.001))"
   ]
  },
  {
   "cell_type": "markdown",
   "metadata": {},
   "source": [
    "# Logistic regression\n",
    "Your assignment is to implement the logistic regression\n",
    "\n",
    "Plan:\n",
    "* Use a shared variable for weights\n",
    "* Use a matrix placeholder for `X`\n",
    " \n",
    "We shall train on a two-class MNIST dataset\n",
    "* please note that target `y` are `{0,1}` and not `{-1,1}` as in some formulae"
   ]
  },
  {
   "cell_type": "code",
   "execution_count": 88,
   "metadata": {},
   "outputs": [
    {
     "name": "stdout",
     "output_type": "stream",
     "text": [
      "y [shape - (360,)]: [0 1 0 1 0 1 0 0 1 1]\n",
      "X [shape - (360, 64)]:\n"
     ]
    }
   ],
   "source": [
    "from sklearn.datasets import load_digits\n",
    "mnist = load_digits(2)\n",
    "\n",
    "X, y = mnist.data, mnist.target\n",
    "\n",
    "print(\"y [shape - %s]:\" % (str(y.shape)), y[:10])\n",
    "print(\"X [shape - %s]:\" % (str(X.shape)))"
   ]
  },
  {
   "cell_type": "code",
   "execution_count": 89,
   "metadata": {},
   "outputs": [
    {
     "name": "stdout",
     "output_type": "stream",
     "text": [
      "X:\n",
      " [[ 0.  0.  5. 13.  9.  1.  0.  0.  0.  0.]\n",
      " [ 0.  0.  0. 12. 13.  5.  0.  0.  0.  0.]\n",
      " [ 0.  0.  1.  9. 15. 11.  0.  0.  0.  0.]]\n",
      "y:\n",
      " [0 1 0 1 0 1 0 0 1 1]\n"
     ]
    },
    {
     "data": {
      "image/png": "[encoded data removed]",
      "text/plain": [
       "<matplotlib.figure.Figure at 0x7fa651be0ac8>"
      ]
     },
     "metadata": {},
     "output_type": "display_data"
    }
   ],
   "source": [
    "print('X:\\n',X[:3,:10])\n",
    "print('y:\\n',y[:10])\n",
    "plt.imshow(X[0].reshape([8,8]));"
   ]
  },
  {
   "cell_type": "markdown",
   "metadata": {},
   "source": [
    "It's your turn now!\n",
    "Just a small reminder of the relevant math:\n",
    "\n",
    "$$\n",
    "P(y=1|X) = \\sigma(X \\cdot W + b)\n",
    "$$\n",
    "$$\n",
    "\\text{loss} = -\\log\\left(P\\left(y_\\text{predicted} = 1\\right)\\right)\\cdot y_\\text{true} - \\log\\left(1 - P\\left(y_\\text{predicted} = 1\\right)\\right)\\cdot\\left(1 - y_\\text{true}\\right)\n",
    "$$\n",
    "\n",
    "$\\sigma(x)$ is available via `tf.nn.sigmoid` and matrix multiplication via `tf.matmul`"
   ]
  },
  {
   "cell_type": "code",
   "execution_count": 90,
   "metadata": {},
   "outputs": [],
   "source": [
    "from sklearn.model_selection import train_test_split\n",
    "X_train, X_test, y_train, y_test = train_test_split(\n",
    "    X, y, random_state=42)"
   ]
  },
  {
   "cell_type": "code",
   "execution_count": 91,
   "metadata": {},
   "outputs": [
    {
     "data": {
      "text/plain": [
       "(270,)"
      ]
     },
     "execution_count": 91,
     "metadata": {},
     "output_type": "execute_result"
    }
   ],
   "source": [
    "y_train.shape"
   ]
  },
  {
   "cell_type": "markdown",
   "metadata": {},
   "source": [
    "__Your code goes here.__ For the training and testing scaffolding to work, please stick to the names in comments."
   ]
  },
  {
   "cell_type": "code",
   "execution_count": 108,
   "metadata": {},
   "outputs": [],
   "source": [
    "# Model parameters - weights and bias\n",
    "weights = tf.Variable(np.zeros((X.shape[1], 1), dtype=\"float32\"), name=\"weights\")  # shape should be (X.shape[1], 1)\n",
    "b = tf.Variable(1, dtype=tf.float32, name=\"b\")"
   ]
  },
  {
   "cell_type": "code",
   "execution_count": 109,
   "metadata": {},
   "outputs": [],
   "source": [
    "# Placeholders for the input data\n",
    "input_X = tf.placeholder(tf.float32, name=\"input_X\")\n",
    "input_y = tf.placeholder(tf.float32, name=\"input_y\")"
   ]
  },
  {
   "cell_type": "code",
   "execution_count": 123,
   "metadata": {},
   "outputs": [],
   "source": [
    "# The model code\n",
    "\n",
    "# Compute a vector of predictions, resulting shape should be [input_X.shape[0],]\n",
    "# This is 1D, if you have extra dimensions, you can  get rid of them with tf.squeeze .\n",
    "# Don't forget the sigmoid.\n",
    "predicted_y = tf.nn.sigmoid(tf.matmul(input_X, weights) + b)\n",
    "predicted_y = tf.squeeze(predicted_y)\n",
    "\n",
    "# Loss. Should be a scalar number - average loss over all the objects\n",
    "# tf.reduce_mean is your friend here\n",
    "# loss = tf.reduce_mean((input_y - predicted_y)**2)\n",
    "loss = -tf.log(predicted_y)*input_y - tf.log(1-predicted_y)*(1 - input_y)\n",
    "loss = tf.reduce_mean(loss)\n",
    "\n",
    "# See above for an example. tf.train.*Optimizer\n",
    "optimizer = tf.train.AdamOptimizer().minimize(loss)"
   ]
  },
  {
   "cell_type": "markdown",
   "metadata": {},
   "source": [
    "A test to help with the debugging"
   ]
  },
  {
   "cell_type": "code",
   "execution_count": 124,
   "metadata": {},
   "outputs": [],
   "source": [
    "validation_weights = 1e-3 * np.fromiter(map(lambda x:\n",
    "        s.run(weird_psychotic_function, {my_scalar:x, my_vector:[1, 0.1, 2]}),\n",
    "                                   0.15 * np.arange(1, X.shape[1] + 1)),\n",
    "                                   count=X.shape[1], dtype=np.float32)[:, np.newaxis]\n",
    "# Compute predictions for given weights and bias\n",
    "prediction_validation = s.run(\n",
    "    predicted_y, {\n",
    "    input_X: X,\n",
    "    weights: validation_weights,\n",
    "    b: 1e-1})\n",
    "\n",
    "# Load the reference values for the predictions\n",
    "validation_true_values = np.loadtxt(\"validation_predictons.txt\")\n",
    "\n",
    "assert prediction_validation.shape == (X.shape[0],),\\\n",
    "       \"Predictions must be a 1D array with length equal to the number \" \\\n",
    "       \"of examples in input_X\"\n",
    "assert np.allclose(validation_true_values, prediction_validation)\n",
    "loss_validation = s.run(\n",
    "        loss, {\n",
    "            input_X: X[:100],\n",
    "            input_y: y[-100:],\n",
    "            weights: validation_weights+1.21e-3,\n",
    "            b: -1e-1})\n",
    "assert np.allclose(loss_validation, 0.728689)"
   ]
  },
  {
   "cell_type": "code",
   "execution_count": 125,
   "metadata": {},
   "outputs": [
    {
     "name": "stdout",
     "output_type": "stream",
     "text": [
      "loss at iter 0:0.7153\n",
      "train auc: 0.9998627580149319\n",
      "test auc: 1.0\n",
      "loss at iter 1:0.6391\n",
      "train auc: 0.9998902064119456\n",
      "test auc: 1.0\n",
      "loss at iter 2:0.5744\n",
      "train auc: 0.9998902064119456\n",
      "test auc: 1.0\n",
      "loss at iter 3:0.5208\n",
      "train auc: 0.9999451032059727\n",
      "test auc: 1.0\n",
      "loss at iter 4:0.4772\n",
      "train auc: 0.9999451032059727\n",
      "test auc: 1.0\n"
     ]
    }
   ],
   "source": [
    "from sklearn.metrics import roc_auc_score\n",
    "s.run(tf.global_variables_initializer())\n",
    "for i in range(5):\n",
    "    s.run(optimizer, {input_X: X_train, input_y: y_train})\n",
    "    loss_i = s.run(loss, {input_X: X_train, input_y: y_train})\n",
    "    print(\"loss at iter %i:%.4f\" % (i, loss_i))\n",
    "    print(\"train auc:\", roc_auc_score(y_train, s.run(predicted_y, {input_X:X_train})))\n",
    "    print(\"test auc:\", roc_auc_score(y_test, s.run(predicted_y, {input_X:X_test})))"
   ]
  },
  {
   "cell_type": "markdown",
   "metadata": {},
   "source": [
    "### Coursera submission"
   ]
  },
  {
   "cell_type": "code",
   "execution_count": 126,
   "metadata": {},
   "outputs": [],
   "source": [
    "grade_submitter = grading.Grader(\"BJCiiY8sEeeCnhKCj4fcOA\")"
   ]
  },
  {
   "cell_type": "code",
   "execution_count": 127,
   "metadata": {},
   "outputs": [],
   "source": [
    "test_weights = 1e-3 * np.fromiter(map(lambda x:\n",
    "    s.run(weird_psychotic_function, {my_scalar:x, my_vector:[1, 2, 3]}),\n",
    "                               0.1 * np.arange(1, X.shape[1] + 1)),\n",
    "                               count=X.shape[1], dtype=np.float32)[:, np.newaxis]"
   ]
  },
  {
   "cell_type": "markdown",
   "metadata": {},
   "source": [
    "First, test prediction and loss computation. This part doesn't require a fitted model."
   ]
  },
  {
   "cell_type": "code",
   "execution_count": 128,
   "metadata": {},
   "outputs": [],
   "source": [
    "prediction_test = s.run(\n",
    "    predicted_y, {\n",
    "    input_X: X,\n",
    "    weights: test_weights,\n",
    "    b: 1e-1})"
   ]
  },
  {
   "cell_type": "code",
   "execution_count": 129,
   "metadata": {},
   "outputs": [],
   "source": [
    "assert prediction_test.shape == (X.shape[0],),\\\n",
    "       \"Predictions must be a 1D array with length equal to the number \" \\\n",
    "       \"of examples in X_test\""
   ]
  },
  {
   "cell_type": "code",
   "execution_count": 130,
   "metadata": {},
   "outputs": [],
   "source": [
    "grade_submitter.set_answer(\"0ENlN\", prediction_test)"
   ]
  },
  {
   "cell_type": "code",
   "execution_count": 131,
   "metadata": {},
   "outputs": [],
   "source": [
    "loss_test = s.run(\n",
    "    loss, {\n",
    "        input_X: X[:100],\n",
    "        input_y: y[-100:],\n",
    "        weights: test_weights+1.21e-3,\n",
    "        b: -1e-1})\n",
    "# Yes, the X/y indices mistmach is intentional"
   ]
  },
  {
   "cell_type": "code",
   "execution_count": 132,
   "metadata": {},
   "outputs": [],
   "source": [
    "grade_submitter.set_answer(\"mMVpM\", loss_test)"
   ]
  },
  {
   "cell_type": "code",
   "execution_count": 133,
   "metadata": {},
   "outputs": [],
   "source": [
    "grade_submitter.set_answer(\"D16Rc\", roc_auc_score(y_test, s.run(predicted_y, {input_X:X_test})))"
   ]
  },
  {
   "cell_type": "markdown",
   "metadata": {},
   "source": [
    "Please use the credentials obtained from the Coursera assignment page."
   ]
  },
  {
   "cell_type": "code",
   "execution_count": 134,
   "metadata": {},
   "outputs": [
    {
     "name": "stdout",
     "output_type": "stream",
     "text": [
      "Submitted to Coursera platform. See results on assignment page!\n"
     ]
    }
   ],
   "source": [
    "grade_submitter.submit(\"aliaksandrlashkov@gmail.com\", \"4mESk4bm7tzwqUsM\")"
   ]
  },
  {
   "cell_type": "code",
   "execution_count": null,
   "metadata": {},
   "outputs": [],
   "source": []
  }
 ],
 "metadata": {
  "kernelspec": {
   "display_name": "Python 3",
   "language": "python",
   "name": "python3"
  },
  "language_info": {
   "codemirror_mode": {
    "name": "ipython",
    "version": 3
   },
   "file_extension": ".py",
   "mimetype": "text/x-python",
   "name": "python",
   "nbconvert_exporter": "python",
   "pygments_lexer": "ipython3",
   "version": "3.5.2"
  }
 },
 "nbformat": 4,
 "nbformat_minor": 1
}
